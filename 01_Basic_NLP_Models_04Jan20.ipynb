{
 "cells": [
  {
   "cell_type": "code",
   "execution_count": 2,
   "metadata": {},
   "outputs": [],
   "source": [
    "# load all necessary libraries\n",
    "import gensim\n",
    "import pandas as pd\n",
    "from nltk.tokenize import word_tokenize\n",
    "from nltk.corpus import stopwords\n",
    "import nltk\n",
    "from sklearn.neighbors.nearest_centroid import NearestCentroid\n",
    "from sklearn.neighbors import KNeighborsClassifier\n",
    "from sklearn import model_selection, preprocessing, linear_model, naive_bayes, metrics, svm\n",
    "from sklearn.feature_extraction.text import TfidfVectorizer, CountVectorizer\n",
    "from sklearn import decomposition, ensemble\n",
    "from nltk.tokenize import sent_tokenize\n",
    "from nltk.tokenize import word_tokenize\n",
    "from nltk.corpus import stopwords\n",
    "from nltk.stem.porter import PorterStemmer\n",
    "from nltk.stem import WordNetLemmatizer\n",
    "import pandas, xgboost, numpy, textblob, string\n",
    "from keras.preprocessing import text, sequence\n",
    "from keras import layers, models, optimizers"
   ]
  },
  {
   "cell_type": "code",
   "execution_count": 5,
   "metadata": {},
   "outputs": [],
   "source": [
    "# random state for reproducing same results\n",
    "random_state = 54321"
   ]
  },
  {
   "cell_type": "code",
   "execution_count": 8,
   "metadata": {},
   "outputs": [
    {
     "data": {
      "text/html": [
       "<div>\n",
       "<style scoped>\n",
       "    .dataframe tbody tr th:only-of-type {\n",
       "        vertical-align: middle;\n",
       "    }\n",
       "\n",
       "    .dataframe tbody tr th {\n",
       "        vertical-align: top;\n",
       "    }\n",
       "\n",
       "    .dataframe thead th {\n",
       "        text-align: right;\n",
       "    }\n",
       "</style>\n",
       "<table border=\"1\" class=\"dataframe\">\n",
       "  <thead>\n",
       "    <tr style=\"text-align: right;\">\n",
       "      <th></th>\n",
       "      <th>label</th>\n",
       "      <th>message</th>\n",
       "    </tr>\n",
       "  </thead>\n",
       "  <tbody>\n",
       "    <tr>\n",
       "      <th>0</th>\n",
       "      <td>label</td>\n",
       "      <td>message</td>\n",
       "    </tr>\n",
       "    <tr>\n",
       "      <th>1</th>\n",
       "      <td>Other</td>\n",
       "      <td>Life is a song - sing it. Life is a game - pla...</td>\n",
       "    </tr>\n",
       "    <tr>\n",
       "      <th>2</th>\n",
       "      <td>Love</td>\n",
       "      <td>Life is love - enjoy it.</td>\n",
       "    </tr>\n",
       "    <tr>\n",
       "      <th>3</th>\n",
       "      <td>Right_Conduct</td>\n",
       "      <td>Do not use poisonous words against anyone, for...</td>\n",
       "    </tr>\n",
       "    <tr>\n",
       "      <th>4</th>\n",
       "      <td>Other</td>\n",
       "      <td>The end of education is character</td>\n",
       "    </tr>\n",
       "  </tbody>\n",
       "</table>\n",
       "</div>"
      ],
      "text/plain": [
       "           label                                            message\n",
       "0          label                                           message \n",
       "1          Other  Life is a song - sing it. Life is a game - pla...\n",
       "2           Love                           Life is love - enjoy it.\n",
       "3  Right_Conduct  Do not use poisonous words against anyone, for...\n",
       "4          Other                  The end of education is character"
      ]
     },
     "execution_count": 8,
     "metadata": {},
     "output_type": "execute_result"
    }
   ],
   "source": [
    "# load data\n",
    "discourseData = pd.read_csv(r\"C:\\Masters\\Masters in Data Science\\Research\\EDA\\Data\\Revised Data\\FinalData\\Google_Cloud\\2HVSingleTextClassification_v2.txt\", sep = \"\\t\", names=[\"label\", \"message\"])\n",
    "discourseData.head()"
   ]
  },
  {
   "cell_type": "code",
   "execution_count": 9,
   "metadata": {},
   "outputs": [
    {
     "name": "stdout",
     "output_type": "stream",
     "text": [
      "675\n",
      "675\n"
     ]
    }
   ],
   "source": [
    "# extract the messages from the dataframe\n",
    "messages = discourseData.message\n",
    "labels = discourseData.label\n",
    "print(len(messages))\n",
    "print(len(labels))"
   ]
  },
  {
   "cell_type": "code",
   "execution_count": 10,
   "metadata": {},
   "outputs": [
    {
     "name": "stdout",
     "output_type": "stream",
     "text": [
      "675\n"
     ]
    }
   ],
   "source": [
    "# convert messages into list\n",
    "messages = [message for message in messages]\n",
    "print(len(messages))"
   ]
  },
  {
   "cell_type": "code",
   "execution_count": 11,
   "metadata": {},
   "outputs": [],
   "source": [
    "from nltk.stem.porter import PorterStemmer\n",
    "from nltk.stem import WordNetLemmatizer\n",
    "\n",
    "stemmer = PorterStemmer()\n",
    "wordnet_lemmatizer = WordNetLemmatizer()\n",
    "\n",
    "# add stemming and lemmatisation in the preprocess function\n",
    "def preprocess(document, stem=True):\n",
    "    #changes document to lower case and removes stopwords'\n",
    "\n",
    "    # change sentence to lower case\n",
    "    document = document.lower()\n",
    "\n",
    "    # tokenize into words\n",
    "    words = word_tokenize(document)\n",
    "\n",
    "    # remove stop words\n",
    "    words = [word for word in words if word not in stopwords.words(\"english\") and re.sub(r'\\b\\w{1,3}\\b', '', word)]\n",
    "    \n",
    "    if stem:\n",
    "        words = [stemmer.stem(word) for word in words]\n",
    "    else:\n",
    "        words = [wordnet_lemmatizer.lemmatize(word, pos='v') for word in words]\n",
    "\n",
    "    # join words to make sentence\n",
    "    document = \" \".join(words)\n",
    "    \n",
    "    return document"
   ]
  },
  {
   "cell_type": "code",
   "execution_count": 12,
   "metadata": {},
   "outputs": [],
   "source": [
    "## initialise the inbuilt Stemmer and the Lemmatizer\n",
    "from nltk.stem.porter import PorterStemmer\n",
    "from nltk.stem import WordNetLemmatizer\n",
    "stemmer = PorterStemmer()\n",
    "wordnet_lemmatizer = WordNetLemmatizer()\n",
    "import re"
   ]
  },
  {
   "cell_type": "code",
   "execution_count": 13,
   "metadata": {},
   "outputs": [],
   "source": [
    "# stem messages 'Stem = True'\n",
    "#Lemma messages  'Stem = False'\n",
    "messages = [preprocess(message, stem=False) for message in discourseData.message]"
   ]
  },
  {
   "cell_type": "code",
   "execution_count": 14,
   "metadata": {},
   "outputs": [
    {
     "name": "stdout",
     "output_type": "stream",
     "text": [
      "['message', 'life song - sing . life game - play . life challenge - meet . life dream - realize . life sacrifice - offer .']\n"
     ]
    }
   ],
   "source": [
    "print(messages[:2])"
   ]
  },
  {
   "cell_type": "code",
   "execution_count": 15,
   "metadata": {},
   "outputs": [
    {
     "name": "stdout",
     "output_type": "stream",
     "text": [
      "675\n",
      "675\n",
      "['30', 'aathmashuddhi', 'aberrations', 'abhangs', 'abhayatwam', 'abhimanyu', 'abide', 'abilities', 'ability', 'able', 'abomination', 'abound', 'absence', 'absent', 'absolute', 'absolutely', 'absorb', 'abundant', 'accept', 'acceptable', 'accidents', 'accomplish', 'accomplishments', 'accord', 'accordingly', 'account', 'accumulate', 'acharyadevo', 'achieve', 'achievement', 'achievements', 'acknowledge', 'acquire', 'acquisition', 'across', 'act', 'action', 'active', 'actively', 'activities', 'activity', 'actors', 'actually', 'add', 'addict', 'addition', 'additional', 'address', 'adharma', 'adhere', 'adherence', 'adolescence', 'adopt', 'adoration', 'adore', 'adulthood', 'advancement', 'advantage', 'advent', 'adventure', 'advice', 'advisable', 'advise', 'adviser', 'adwaitaṃ', 'afar', 'affair', 'affairs', 'affect', 'affection', 'affinity', 'affirm', 'afford', 'afraid', 'afterlife', 'afterwards', 'againt', 'age', 'aggravate', 'aggressive', 'agitate', 'agitation', 'ahamkāra', 'ahaṃkāraṃ', 'ahimsa', 'ailments', 'aim', 'akrura', 'alcoholic', 'alcoholism', 'alexander', 'alive', 'all', 'allah', 'allencompassing', 'alleviate', 'alleys', 'allow', 'allpervading', 'allpervasive', 'almost', 'alone', 'along', 'aloof', 'alrge', 'also', 'alter', 'alternate', 'alternation', 'although', 'always', 'amass', 'america', 'amidst', 'amity', 'ammunition', 'among', 'amongst', 'amount', 'amputate', 'analyse', 'analysis', 'ananda', 'anasakthi', 'anaṇtaṃ', 'ancient', 'ancients', 'andhakārasyāt', 'anek', 'anger', 'angle', 'angry', 'anguish', 'animal', 'animality', 'animals', 'animate', 'anirvachanīyaṃ', 'anna', 'annihilate', 'anorañīyān', 'another', 'answer', 'anthaḥ', 'anticipate', 'anurāga', 'anxieties', 'anxiety', 'anxiously', 'anybody', 'anyone', 'anything', 'anywhere', 'anḍa', 'apart', 'aphorism', 'aphorisms', 'apparent', 'appeal', 'appear', 'appearances', 'application', 'apply', 'appointment', 'appreciate', 'appreciation', 'apprehension', 'approach', 'appropriate', 'approve', 'arbitrarily', 'archanaṃ', 'area', 'arguments', 'arise', 'arjuna', 'arm', 'around', 'arraign', 'arrange', 'arrow', 'arrows', 'arson', 'arthas', 'article', 'artificial', 'artificially', 'as', 'ascertain', 'ash', 'ashanthi', 'ask', 'asooya', 'aspect', 'aspects', 'aspirant', 'aspirants', 'aspirations', 'aspire', 'assert', 'assertion', 'assess', 'assign', 'associate', 'assuage', 'assume', 'assumptions', 'assure', 'astray', 'aswathama', 'aswatthama', 'atheists', 'athithidevo', 'atma', 'atmaprema', 'atmarama', 'atmatatwa', 'atmic', 'atmosphere', 'atom', 'atomic', 'atonement', 'attach', 'attachment', 'attachments', 'attack', 'attain', 'attempt', 'attention', 'attitude', 'attitudes', 'attract', 'attraction', 'attractive', 'attribute', 'attributeless', 'attune', 'audience', 'auspiciousness', 'austerities', 'authentic', 'authenticate', 'authenticity', 'author', 'authority', 'automatically', 'avail', 'available', 'avalanche', 'avatar', 'avatars', 'averse', 'aversion', 'avert', 'avoid', 'avoidance', 'awaken', 'award', 'aware', 'awareness', 'away', 'baba', 'baby', 'back', 'background', 'bahudhā', 'bala', 'balance', 'balarama', 'bali', 'barest', 'bargain', 'barren', 'barretto', 'barriers', 'base', 'basic', 'basil', 'basis', 'bath', 'battle', 'battlefield', 'bazaar', 'be', 'beacon', 'beall', 'bear', 'beast', 'beastly', 'beasts', 'beat', 'beautiful', 'beauty', 'become', 'befall', 'befit', 'beg', 'beget', 'beggar', 'begin', 'behalf', 'behave', 'behavior', 'behaviour', 'behind', 'being', 'beingawarenessbliss', 'beings', 'belief', 'beliefs', 'believe', 'believers', 'belong', 'beloved', 'bend', 'benediction', 'beneficial', 'benefit', 'bereft', 'beset', 'besides', 'best', 'bestial', 'bestow', 'betray', 'better', 'beyond', 'bhagavadgita', 'bhagavata', 'bhagawan', 'bhajan', 'bhajans', 'bhakti', 'bhaktivijaya', 'bharat', 'bharath', 'bharathiya', 'bharathiyas', 'bharatiya', 'bharatiyas', 'bhasmasura', 'bhava', 'bhavam', 'bhavan', 'bhavani', 'bhavarogavaidya', 'bhavati', 'bheda', 'bhima', 'bhojan', 'bhuloka', 'bhūtas', 'bhūtānam', 'bid', 'biggest', 'binaries', 'bind', 'binders', 'biological', 'bird', 'birth', 'birthday', 'birthless', 'bite', 'bitter', 'black', 'blade', 'blame', 'blatant', 'bless', 'blessedness', 'blind', 'blindly', 'bliss', 'blissful', 'blissfully', 'block', 'blood', 'bloom', 'blossom', 'blow', 'board', 'boat', 'bodily', 'body', 'bombay', 'bond', 'bondage', 'bonfire', 'bonum', 'book', 'bookshops', 'boon', 'boons', 'bosom', 'bother', 'bottomless', 'bound', 'boundaries', 'bounden', 'boundless', 'bout', 'boyhood', 'brahma', 'brahmacharya', 'brahmachāri', 'brahmamayam', 'brahmamayaṃ', 'brahman', 'brahmin', 'brahmins', 'brahmā', 'brahmānḍa', 'brain', 'branch', 'brand', 'brass', 'brave', 'breach', 'break', 'breath', 'breathe', 'bridge', 'brief', 'brighter', 'brilliance', 'brilliantly', 'brindavan', 'bring', 'brisk', 'broadmindedness', 'broadness', 'brood', 'brother', 'brotherhood', 'brotherly', 'brothers', 'brute', 'bubble', 'buddha', 'buddhi', 'buddhist', 'buffalo', 'build', 'bulb', 'bulbs', 'bundle', 'burden', 'burn', 'bury', 'busiest', 'business', 'busy', 'butter', 'cadence', 'calamity', 'calculation', 'calf', 'call', 'calm', 'calmness', 'calumnators', 'calumny', 'campus', 'cancel', 'cancer', 'cancerous', 'candle', 'canker', 'capable', 'capacity', 'capture', 'care', 'careful', 'carefully', 'careless', 'carelessly', 'carry', 'cart', 'cascade', 'case', 'casement', 'cast', 'caste', 'catch', 'categories', 'category', 'catholics', 'cause', 'causing', 'cease', 'ceiling', 'celebrate', 'celibacy', 'celibate', 'cell', 'cells', 'centre', 'centuries', 'ceremonials', 'certain', 'certainly', 'chaathurvarnyam', 'chain', 'chair', 'challenge', 'chance', 'change', 'changeless', 'chant', 'chaotic', 'chapter', 'chara', 'character', 'characterise', 'characteristics', 'characterize', 'charity', 'charm', 'cheap', 'cheaper', 'cheat', 'check', 'cheerful', 'cheerfully', 'cheese', 'cherish', 'chew', 'chickens', 'chief', 'chiefly', 'child', 'childhood', 'children', 'chit', 'chitta', 'chittha', 'choice', 'choli', 'choose', 'christ', 'christian', 'christians', 'chronic', 'church', 'churn', 'circle', 'circumstances', 'citizens', 'citizenship', 'city', 'claim', 'clan', 'clarify', 'clean', 'cleanliness', 'cleanse', 'clear', 'clearly', 'climb', 'cling', 'clock', 'close', 'closer', 'closest', 'cloth', 'clothe', 'cloud', 'co', 'coat', 'cod', 'code', 'coexist', 'coffee', 'cognise', 'coin', 'cold', 'collapse', 'colleagues', 'collect', 'color', 'colour', 'combination', 'combine', 'come', 'comfort', 'comfortable', 'command', 'commensurate', 'commerce', 'commit', 'common', 'commonwealth', 'communicate', 'communication', 'communities', 'community', 'company', 'compare', 'compass', 'compassion', 'compatibility', 'compensation', 'complete', 'completely', 'component', 'compose', 'comprehend', 'comprehension', 'compromise', 'compulsion', 'compunction', 'computer', 'comradeship', 'conceit', 'concentrate', 'conception', 'concern', 'conch', 'conclusion', 'concoct', 'concomitant', 'concord', 'condemn', 'condition', 'conducive', 'conduct', 'confer', 'conference', 'confess', 'confidence', 'confine', 'confirm', 'conflagration', 'conflict', 'conform', 'confront', 'confuse', 'congenial', 'connect', 'connection', 'conquer', 'conscience', 'conscious', 'consciousness', 'consequence', 'consequences', 'consequently', 'consider', 'considerable', 'consideration', 'considerations', 'consist', 'consistent', 'consolation', 'console', 'consonance', 'constant', 'constantly', 'constituents', 'constitute', 'constrict', 'consult', 'consume', 'consummation', 'consumption', 'contain', 'contemplate', 'contemplation', 'contempt', 'content', 'contentment', 'context', 'contexts', 'continue', 'continuous', 'contraction', 'contrary', 'contribute', 'control', 'convene', 'convenience', 'conveniences', 'conversion', 'convert', 'convey', 'convince', 'cook', 'cool', 'cooperation', 'cooperative', 'copper', 'core', 'corner', 'corporeal', 'corpse', 'correct', 'correspond', 'cosmic', 'cosmos', 'cost', 'cotton', 'could', 'counsel', 'count', 'countries', 'country', 'courage', 'course', 'court', 'cover', 'cow', 'cowardice', 'cowherd', 'crave', 'create', 'creation', 'creature', 'creatures', 'credential', 'creed', 'creeds', 'creep', 'creeper', 'crime', 'criticise', 'criticism', 'criticize', 'crowd', 'crude', 'cruel', 'cruelty', 'cry', 'cultivate', 'cultivation', 'culture', 'curds', 'cure', 'current', 'currents', 'cut', 'cycle', 'daanavah', 'dacoit', 'daily', 'damage', 'dance', 'danda', 'danger', 'dangerous', 'dangers', 'dare', 'dark', 'darkness', 'darling', 'darshan', 'dasami', 'dasharatha', 'daughter', 'days', 'dead', 'deaf', 'deal', 'dear', 'dearest', 'death', 'deathless', 'debate', 'debit', 'deceit', 'deceive', 'decide', 'decision', 'declaration', 'declare', 'decline', 'decorative', 'dedicate', 'dedication', 'deed', 'deeds', 'deem', 'deep', 'deeper', 'defeat', 'defect', 'defence', 'deflect', 'degeneration', 'degrade', 'degrees', 'dejection', 'delight', 'delineate', 'delude', 'delusion', 'demand', 'demon', 'demoness', 'demoniac', 'demonic', 'demons', 'demonstrate', 'demonstration', 'denial', 'denominator', 'denote', 'deny', 'depart', 'department', 'departure', 'depend', 'dependence', 'dependent', 'depict', 'deplorable', 'depress', 'depression', 'deprive', 'depths', 'derive', 'descend', 'describe', 'description', 'descriptions', 'desert', 'deserve', 'design', 'desirable', 'desire', 'desirelessness', 'desist', 'despite', 'destine', 'destiny', 'destroy', 'destruction', 'detach', 'detachment', 'determination', 'determine', 'devatha', 'develop', 'developers', 'development', 'deviate', 'deviations', 'devil', 'devoid', 'devote', 'devotee', 'devotion', 'devotional', 'dhaana', 'dharma', 'dharmah', 'dharmaja', 'dharmam', 'dharmaraja', 'dharmastra', 'dharmaṃ', 'dharmic', 'dharmo', 'dhruva', 'dhurbhiksha', 'dhuryodhana', 'dhusshasana', 'dhyāna', 'diabetic', 'diamond', 'dice', 'dictate', 'dictionary', 'die', 'diet', 'differ', 'difference', 'differences', 'different', 'differentiate', 'difficulties', 'dig', 'digest', 'digital', 'dignity', 'diktats', 'dilate', 'dimensional', 'diminish', 'diminution', 'direct', 'direction', 'directions', 'directive', 'director', 'dirt', 'disadvantage', 'disappear', 'disappointment', 'disappointments', 'disaster', 'disbelief', 'discard', 'discarded', 'discernible', 'disciples', 'discipline', 'discontent', 'discord', 'discover', 'discoveries', 'discovery', 'discriminate', 'discrimination', 'disease', 'diseases', 'disgrace', 'dish', 'dishearten', 'dislike', 'dismiss', 'disorder', 'dispel', 'dispersion', 'dispirit', 'display', 'disquiet', 'disrobe', 'dissemination', 'dissociate', 'dissolve', 'distance', 'distant', 'distinct', 'distinction', 'distinctionfree', 'distinctions', 'distinguish', 'distortions', 'distress', 'distrust', 'disturb', 'disturbance', 'disuse', 'dive', 'diversity', 'divide', 'divine', 'divinity', 'do', 'doctor', 'doctrine', 'dog', 'doll', 'dominate', 'domination', 'donations', 'dong', 'dosa', 'dose', 'double', 'doubleseated', 'doubt', 'doubtless', 'down', 'downpour', 'downtrodden', 'drag', 'drama', 'draupadi', 'draw', 'dream', 'dress', 'dried', 'drink', 'drinking', 'drishti', 'drive', 'drop', 'droupadi', 'drucker', 'dual', 'dualism', 'dualities', 'dunnapota', 'duralochana', 'durguna', 'durlabham', 'durlabhaṃ', 'duryodhana', 'duschinta', 'dushtah', 'dust', 'duties', 'duty', 'dwell', 'dwesha', 'dāsyaṃ', 'each', 'eager', 'eagerness', 'earlier', 'earliest', 'early', 'earn', 'earnest', 'earnestly', 'ears', 'earth', 'easily', 'east', 'easwaramma', 'eat', 'ebb', 'edible', 'educare', 'educate', 'education', 'educational', 'efface', 'effect', 'effects', 'efficiency', 'efficient', 'effort', 'efforts', 'effulgence', 'effulgent', 'egg', 'eglected', 'ego', 'egoism', 'egosense', 'either', 'ekam', 'ekovasī', 'elate', 'elation', 'elders', 'eldest', 'electric', 'electrical', 'electromagnetic', 'element', 'elements', 'elephant', 'elevate', 'eleven', 'elicit', 'eligible', 'else', 'elsewhere', 'elucidate', 'emanate', 'embed', 'emblem', 'embodiment', 'embodiments', 'embody', 'embrace', 'embracing', 'emerge', 'emotion', 'emotions', 'empathy', 'emperor', 'emphasis', 'emphasize', 'emphatically', 'empire', 'empty', 'emptyhanded', 'emulate', 'enable', 'enact', 'encompass', 'encounter', 'encourage', 'end', 'endall', 'endanger', 'endeavor', 'endeavour', 'endless', 'endow', 'endowment', 'endurance', 'endure', 'enemies', 'enemy', 'energies', 'energy', 'engage', 'english', 'engrave', 'engross', 'enjoin', 'enjoy', 'enlighten', 'enlightenment', 'enormous', 'enough', 'enquire', 'enquiry', 'enshrine', 'ensue', 'ensure', 'enter', 'enterprise', 'entertain', 'enthrone', 'enthusiasm', 'enthusiastic', 'entire', 'entities', 'entitle', 'entity', 'enumerate', 'envelop', 'envious', 'environment', 'envy', 'ephemeral', 'epics', 'episode', 'equal', 'equality', 'equally', 'equanimity', 'equate', 'equivalent', 'eradicate', 'erection', 'error', 'eschew', 'especially', 'essence', 'essential', 'essentially', 'establish', 'estimate', 'etc', 'eternal', 'eternally', 'eternity', 'ethical', 'ethically', 'ethics', 'evanescent', 'evaporate', 'even', 'ever', 'everlasting', 'every', 'everybody', 'everyone', 'everything', 'everywhere', 'evidence', 'evident', 'evil', 'evils', 'evoke', 'evolving', 'exactly', 'exaggeration', 'exalt', 'examine', 'example', 'examples', 'excavate', 'excellent', 'except', 'exception', 'exceptionally', 'excess', 'excessive', 'excessively', 'exchange', 'excite', 'excitement', 'exclusive', 'excuse', 'exemplars', 'exemplary', 'exemplify', 'exercisable', 'exercise', 'exhale', 'exhibit', 'exhibitionism', 'exhort', 'exile', 'exist', 'existence', 'expand', 'expansion', 'expansive', 'expect', 'expectancies', 'expectation', 'expectations', 'experience', 'expert', 'explain', 'explore', 'export', 'express', 'expression', 'expressions', 'extend', 'extent', 'external', 'extinguish', 'extol', 'extra', 'extraordinary', 'extremely', 'exultation', 'eye', 'eyesight', 'face', 'facet', 'fact', 'factions', 'factory', 'facts', 'fail', 'failure', 'faith', 'faithful', 'faiths', 'fall', 'false', 'falsehood', 'falter', 'fame', 'families', 'family', 'fancy', 'far', 'farthest', 'fascination', 'fast', 'fatally', 'father', 'fatherhood', 'fatten', 'fault', 'faulty', 'fear', 'fearless', 'fearlessness', 'feasible', 'fee', 'feed', 'feel', 'feet', 'fell', 'fellow', 'felt', 'fence', 'festival', 'fewer', 'fickle', 'field', 'fight', 'figure', 'filial', 'fill', 'finally', 'find', 'fine', 'finish', 'fire', 'firm', 'firmament', 'firmest', 'firmly', 'first', 'fish', 'five', 'fix', 'flash', 'flavour', 'flee', 'fleet', 'flesh', 'flicker', 'flood', 'flow', 'flower', 'flute', 'fly', 'fold', 'folk', 'follow', 'followers', 'folly', 'fond', 'food', 'foolish', 'foolishness', 'for', 'forbearance', 'force', 'forefront', 'foremost', 'forest', 'forever', 'forge', 'forget', 'forgive', 'forgiveness', 'forlorn', 'form', 'formal', 'formidable', 'formless', 'forsake', 'forth', 'fortitude', 'fortunate', 'fortune', 'forty', 'forward', 'foster', 'foundation', 'four', 'fourth', 'fowlroost', 'fox', 'fraction', 'frame', 'fraternal', 'fraternity', 'free', 'freedom', 'freely', 'fresh', 'friend', 'friendly', 'friends', 'friendship', 'frighten', 'fritter', 'fruit', 'fruitful', 'fuel', 'fulfillment', 'full', 'fullness', 'function', 'fundamental', 'furing', 'fury', 'futile', 'future', 'gachchami', 'gain', 'gamble', 'game', 'ganapati', 'gandhi', 'gather', 'gayatri', 'gender', 'general', 'generally', 'generate', 'generations', 'genetics', 'gentleman', 'genuine', 'genuinely', 'germs', 'gesture', 'get', 'getting', 'ghee', 'gift', 'gigantic', 'girls', 'gita', 'give', 'glaani', 'glass', 'glimpse', 'global', 'globe', 'glorify', 'glorious', 'glory', 'glow', 'gnaw', 'go', 'goal', 'goals', 'god', 'godlike', 'godliness', 'godly', 'gods', 'godward', 'godwards', 'gokula', 'gokulāshṭami', 'gold', 'goldsmith', 'good', 'goodness', 'goods', 'gopikas', 'gopis', 'gopīs', 'govern', 'govinda', 'grace', 'gradually', 'graft', 'grant', 'grasp', 'grass', 'gratitude', 'grave', 'great', 'greater', 'greatest', 'greatness', 'greed', 'green', 'greet', 'grief', 'griefstricken', 'grievance', 'grievances', 'grieve', 'grievous', 'grihastha', 'grind', 'grip', 'gross', 'groundswell', 'group', 'grovel', 'grow', 'growth', 'guard', 'guardian', 'guest', 'guidance', 'guide', 'gukāro', 'guna', 'gunas', 'gunātīta', 'guru', 'habit', 'habitual', 'half', 'hallmark', 'hammer', 'hand', 'handedly', 'handkerchief', 'hang', 'hanker', 'hanuman', 'happen', 'happily', 'happiness', 'happy', 'harbor', 'hard', 'harden', 'harder', 'hardest', 'hardhearted', 'hardships', 'harm', 'harming', 'harmlessness', 'harmonious', 'harmony', 'harsh', 'harshness', 'hat', 'hatch', 'hate', 'hatred', 'haughtiness', 'haunt', 'have', 'he', 'head', 'heal', 'health', 'healthy', 'heap', 'hear', 'heart', 'hearted', 'hearts', 'hearty', 'heat', 'heavenly', 'heavy', 'hebuffalo', 'heinous', 'hello', 'help', 'helpers', 'helpfulness', 'hence', 'hereafter', 'herein', 'heritage', 'hero', 'heroes', 'heroism', 'hesitate', 'hide', 'high', 'higher', 'highest', 'highlight', 'highly', 'himsa', 'hindu', 'history', 'hobby', 'hold', 'holiness', 'hollow', 'holy', 'homage', 'home', 'honesty', 'honey', 'honour', 'hope', 'hospitals', 'hour', 'hours', 'house', 'householder', 'housewife', 'hover', 'however', 'hridaya', 'huge', 'human', 'humanity', 'humankind', 'humanness', 'humans', 'humble', 'humility', 'hundred', 'hunger', 'hungry', 'hurry', 'hurt', 'husband', 'husk', 'hymn', 'hypocrites', 'ichhā', 'idam', 'idea', 'ideal', 'ideals', 'ideas', 'ideations', 'identify', 'identity', 'idli', 'idol', 'ignoramuses', 'ignorance', 'ignorant', 'ignore', 'ill', 'illness', 'illuminate', 'illumine', 'illusion', 'illustrate', 'illwill', 'image', 'imagination', 'imagine', 'imbalance', 'imbibe', 'imbue', 'immanent', 'immediate', 'immediately', 'immense', 'immensely', 'immerse', 'imminent', 'immoderately', 'immortal', 'immortality', 'immune', 'immutable', 'impact', 'impart', 'impartial', 'impatience', 'impede', 'imperishable', 'impermanent', 'impersonal', 'implant', 'implicitly', 'imply', 'importance', 'important', 'impossible', 'impression', 'improper', 'improve', 'impulse', 'impulses', 'impure', 'in', 'inaction', 'inactive', 'inappropriate', 'incapable', 'incarnate', 'incarnation', 'incessantly', 'incident', 'incidental', 'inclination', 'incline', 'include', 'incompatible', 'incomprehensible', 'inconvenience', 'increase', 'increasingly', 'inculcate', 'indeed', 'independent', 'india', 'indian', 'indians', 'indicate', 'indications', 'indignities', 'indiscipline', 'indistinct', 'individual', 'individuality', 'individualness', 'individuals', 'indriya', 'induce', 'indulge', 'industrial', 'indweller', 'inertia', 'inevitable', 'inextricable', 'infamy', 'infant', 'infatuation', 'infect', 'infinite', 'infinitely', 'infinitude', 'infinity', 'inflame', 'inflict', 'influence', 'information', 'infuse', 'ingredient', 'inhale', 'inherent', 'inherit', 'inhuman', 'injunction', 'injure', 'injury', 'injustice', 'innate', 'inner', 'innocent', 'innumerable', 'inquire', 'inquiries', 'inquiry', 'insect', 'insects', 'inseparable', 'inside', 'insight', 'insipid', 'inspiration', 'inspire', 'instability', 'instal', 'instance', 'instant', 'instantly', 'instead', 'instigate', 'instil', 'institute', 'instruct', 'instrument', 'instrumental', 'insult', 'insurance', 'integer', 'integrate', 'integrity', 'intellect', 'intellectual', 'intellectuals', 'intelligence', 'intelligent', 'intelligently', 'intend', 'intense', 'intensely', 'intensity', 'intensive', 'intent', 'intentions', 'interest', 'interfere', 'internal', 'interpret', 'interpretation', 'interval', 'intimate', 'intonation', 'intoxicants', 'intoxicate', 'introspection', 'intuition', 'invaluable', 'investigate', 'investigation', 'invitations', 'invite', 'invoke', 'involuntary', 'involve', 'inward', 'inwardlife', 'inwards', 'iormine', 'iron', 'irrespective', 'irreverence', 'irrigate', 'irritations', 'is', 'ishāvāsyam', 'issue', 'it', 'items', 'jagat', 'jaisa', 'jantunām', 'japa', 'jealous', 'jealousy', 'jenny', 'jerusalem', 'jesus', 'jewel', 'jewellery', 'jews', 'jijabai', 'jivas', 'jivi', 'jnana', 'jnanendriyas', 'jnaneshwari', 'jnāna', 'jnānaṃ', 'join', 'journey', 'joy', 'judge', 'jungle', 'justice', 'justify', 'jāti', 'jīva', 'kaale', 'kaho', 'karaña', 'karma', 'karmas', 'karmendriyas', 'karna', 'karshati', 'karuñā', 'kauravas', 'kausalya', 'keen', 'keep', 'kernel', 'khalvidam', 'kichaka', 'kill', 'kind', 'kindness', 'kinds', 'king', 'kingdom', 'kings', 'kinship', 'kith', 'knife', 'knot', 'knotty', 'know', 'knowingly', 'knowledge', 'koshas', 'krishiti', 'krishna', 'krushyati', 'kshama', 'kshamā', 'kshatriyas', 'kīrtanaṃ', 'labourers', 'lack', 'ladies', 'lady', 'lag', 'lakhs', 'lakshmana', 'lakshmi', 'lame', 'lament', 'lamp', 'land', 'language', 'languages', 'lanka', 'large', 'larger', 'last', 'latent', 'latest', 'latin', 'laugh', 'laws', 'lay', 'laziness', 'lead', 'leader', 'leaf', 'lean', 'learn', 'least', 'leave', 'lecture', 'less', 'lesser', 'lesson', 'lethal', 'letter', 'letters', 'level', 'liberally', 'liberate', 'liberation', 'lie', 'life', 'lifebreath', 'lifegiving', 'lifeless', 'lifetime', 'light', 'lightly', 'like', 'likelihood', 'likely', 'likewise', 'lilt', 'limbs', 'limit', 'limitations', 'limitless', 'line', 'lineage', 'link', 'lips', 'liquor', 'list', 'listen', 'literal', 'literature', 'little', 'live', 'load', 'localize', 'logic', 'lokadharma', 'lokahitha', 'lokashiksha', 'lonely', 'long', 'longer', 'look', 'lord', 'lose', 'loss', 'losses', 'lotus', 'love', 'lovefilled', 'loveless', 'lovelessness', 'lover', 'lowest', 'loyalty', 'luck', 'lust', 'luster', 'lustre', 'madhava', 'madhura', 'madhya', 'madhyapaanoratha', 'magic', 'magnet', 'magnetic', 'mahabhararatha', 'mahabharata', 'mahatma', 'mahato', 'mahavakya', 'mahout', 'mahīyān', 'main', 'mainspring', 'maintain', 'make', 'makeup', 'malarial', 'malice', 'management', 'manas', 'manase', 'manava', 'mandodhari', 'mangoes', 'manifest', 'manifestation', 'manifold', 'mankind', 'mann', 'manner', 'mansion', 'mantle', 'mantras', 'manufacture', 'many', 'manysided', 'march', 'mariner', 'marital', 'mark', 'market', 'marsh', 'massacre', 'mastaka', 'master', 'mastermind', 'mata', 'match', 'material', 'materialism', 'materialistic', 'maternal', 'mathrudevo', 'mathura', 'mati', 'matter', 'mature', 'maxim', 'maya', 'mayaa', 'meal', 'mean', 'meaning', 'meaningful', 'meaningless', 'measure', 'measurement', 'meat', 'mechanical', 'mechanically', 'meditate', 'meditation', 'meekly', 'meet', 'melody', 'melt', 'member', 'members', 'memories', 'memory', 'mend', 'mental', 'mention', 'merchandise', 'mercy', 'mere', 'merely', 'merge', 'mergence', 'merger', 'merit', 'meritorious', 'meru', 'message', 'messenger', 'messengers', 'metal', 'meter', 'method', 'methods', 'meticulous', 'middle', 'midst', 'midway', 'might', 'mighty', 'mile', 'miles', 'milk', 'millionaire', 'millions', 'mimamsakas', 'mimāmsa', 'mind', 'mindedness', 'mindful', 'mine', 'miniature', 'minimum', 'minister', 'minutes', 'mirror', 'miserable', 'misery', 'misfortune', 'misinterpret', 'mislead', 'miss', 'mission', 'missions', 'mist', 'mistake', 'mistress', 'misty', 'misunderstand', 'misuse', 'mithaahari', 'mithabhashi', 'mix', 'mixture', 'moderation', 'modern', 'modes', 'modifications', 'modify', 'moha', 'moisture', 'moksha', 'molecular', 'molecules', 'moment', 'momentary', 'moments', 'money', 'monitor', 'monkey', 'months', 'mood', 'moods', 'moon', 'moonlight', 'mora', 'moral', 'morality', 'morals', 'moreover', 'morning', 'mortal', 'mosaic', 'mother', 'motive', 'motives', 'mounam', 'mountain', 'mouth', 'move', 'movement', 'much', 'mudita', 'mukti', 'multi', 'multiplicity', 'multiply', 'multitude', 'mundane', 'munshi', 'murder', 'music', 'musical', 'muslim', 'must', 'mustdecide', 'mutual', 'my', 'myriad', 'mysteriously', 'mystify', 'mānava', 'mārga', 'naked', 'nakula', 'namaskāraṃ', 'name', 'namely', 'nanak', 'nara', 'narada', 'narajanma', 'narayana', 'narayena', 'narrate', 'narration', 'narrow', 'narrowmindedness', 'nation', 'nationality', 'nations', 'natural', 'naturally', 'nature', 'near', 'nearby', 'nearer', 'nearness', 'necessary', 'nectar', 'nectarine', 'nectarous', 'need', 'neem', 'negate', 'negative', 'negativity', 'neglect', 'neighbor', 'neither', 'nerve', 'nervous', 'never', 'nevertheless', 'news', 'newspaper', 'newspapers', 'next', 'nice', 'night', 'nilayam', 'nine', 'niraja', 'nirguña', 'nirvana', 'nishidda', 'nobility', 'noble', 'nobler', 'noblest', 'nobody', 'non', 'nonbelievers', 'nondual', 'nondualism', 'none', 'nonviolation', 'nonviolence', 'norm', 'normally', 'north', 'notable', 'note', 'nothing', 'notice', 'notion', 'nots', 'nourish', 'nowhere', 'noxious', 'nullify', 'number', 'numerous', 'nurse', 'nurture', 'nāmasmaraña', 'oath', 'obey', 'object', 'objectives', 'obligate', 'obligation', 'obligations', 'obliviousness', 'observance', 'observe', 'obstacles', 'obstruct', 'obtain', 'occasion', 'occult', 'occupation', 'occupations', 'occupy', 'occurred', 'ocean', 'ochre', 'ocular', 'off', 'offences', 'offend', 'offer', 'office', 'offspring', 'often', 'ojas', 'omnipresent', 'oneness', 'onepointed', 'ones', 'oneself', 'onto', 'onwards', 'open', 'operate', 'operation', 'opinion', 'opponent', 'opportunity', 'oppose', 'opposite', 'opposites', 'opposition', 'ordain', 'ordeals', 'order', 'orderly', 'ordinary', 'organ', 'organisation', 'organisations', 'organization', 'organizations', 'organs', 'orientations', 'origin', 'original', 'originally', 'originate', 'ornament', 'others', 'ought', 'ounce', 'ourpose', 'out', 'outcome', 'outer', 'outnumber', 'outset', 'outside', 'overall', 'overcome', 'overlordship', 'overwhelm', 'owing', 'ownership', 'paana', 'pace', 'packets', 'pageantry', 'pain', 'pair', 'palace', 'palatable', 'palm', 'paltry', 'pancha', 'panchavati', 'pandava', 'pandavas', 'panḍharinath', 'parade', 'paradise', 'paramatma', 'parameswara', 'paramo', 'paramodharmah', 'paramount', 'paramātma', 'parch', 'pardon', 'parent', 'parental', 'parents', 'parikshit', 'parlance', 'paropakāra', 'parsi', 'part', 'partake', 'partiality', 'particle', 'particular', 'parā', 'parārthaprema', 'parātatwa', 'pass', 'passage', 'passion', 'passionate', 'passions', 'passive', 'past', 'patent', 'path', 'paths', 'pathway', 'patience', 'patients', 'pattern', 'payasam', 'peace', 'peaceful', 'peacock', 'pedestal', 'penance', 'penitent', 'people', 'perceive', 'perfect', 'perform', 'performers', 'period', 'periods', 'perish', 'perishable', 'permanent', 'permanently', 'permeate', 'perpetual', 'persecution', 'perseverance', 'persist', 'persistent', 'person', 'personal', 'personality', 'personally', 'personify', 'persons', 'perspective', 'pertain', 'perturb', 'peru', 'perulu', 'pervade', 'pervasive', 'pest', 'pests', 'petals', 'petition', 'pettina', 'petty', 'phase', 'phenomena', 'phenomenal', 'phenomenon', 'philosophy', 'physical', 'physically', 'physics', 'picture', 'piece', 'pilgrimage', 'pillar', 'pillars', 'pinḍa', 'piously', 'piteous', 'pithrudevo', 'pity', 'place', 'plan', 'plant', 'plastic', 'play', 'plead', 'pleasant', 'please', 'pleasure', 'pleasures', 'plenty', 'plough', 'plougher', 'plunge', 'plus', 'pocket', 'poetry', 'point', 'poison', 'poisonous', 'pollute', 'pollution', 'pomp', 'ponder', 'poor', 'poorest', 'popularity', 'population', 'position', 'positive', 'possess', 'possession', 'possibilities', 'possible', 'potent', 'potentially', 'poverty', 'power', 'powerful', 'powerless', 'prabhu', 'practically', 'practice', 'practise', 'practitioner', 'prahlada', 'praise', 'prakruti', 'pralaya', 'prasad', 'prasanthi', 'prasanthinilayam', 'pray', 'prayer', 'prayerful', 'prayers', 'preach', 'precaution', 'precept', 'preceptor', 'precincts', 'precious', 'precipice', 'predict', 'preen', 'prefer', 'pregnant', 'prejudice', 'preliminary', 'prema', 'premaswarūpa', 'prematurely', 'preoccupation', 'prepare', 'prescribe', 'prescription', 'prescriptions', 'presence', 'present', 'preserve', 'pressure', 'presuppose', 'pretend', 'prevail', 'prevalent', 'prevent', 'previous', 'prey', 'price', 'priceless', 'pride', 'priests', 'primarily', 'primary', 'prime', 'primordial', 'principle', 'principles', 'priorities', 'prism', 'pristine', 'prithu', 'privilege', 'problem', 'problems', 'process', 'proclaim', 'procrastinate', 'procreation', 'produce', 'product', 'products', 'profess', 'profession', 'professions', 'profit', 'profound', 'progeny', 'program', 'programme', 'programmers', 'progress', 'promise', 'promote', 'promotion', 'promotions', 'prompt', 'prone', 'proof', 'propagate', 'proper', 'properly', 'property', 'prophet', 'propitiation', 'propriety', 'prosperity', 'prostration', 'protect', 'protection', 'protectors', 'proteins', 'protestants', 'proud', 'prove', 'provide', 'provision', 'provoke', 'proximity', 'prāñās', 'publicity', 'pudding', 'pulsate', 'pulse', 'pumpkin', 'punish', 'punishment', 'pupil', 'purchase', 'pure', 'purely', 'purest', 'purification', 'purify', 'purity', 'purpose', 'purposeful', 'purse', 'pursue', 'pursuit', 'pursuits', 'purusha', 'purushaarthas', 'purushārthas', 'purānas', 'purāñas', 'pustaka', 'put', 'puttina', 'pādasevanam', 'pādasevanaṃ', 'pāñipādaṃ', 'pūrñimā', 'qualification', 'qualifications', 'qualites', 'qualities', 'quality', 'qualm', 'quarrel', 'quest', 'question', 'quickly', 'quiet', 'quietly', 'quit', 'quite', 'race', 'rack', 'radha', 'radhika', 'radiation', 'radically', 'rage', 'rainbow', 'raindrops', 'raise', 'rajas', 'rajasic', 'rajendra', 'rajo', 'raju', 'raksha', 'rakshasa', 'rakshasas', 'rakshati', 'rakshitāḥ', 'rally', 'rama', 'ramaparrot', 'ramayana', 'ramona', 'rampant', 'ramyate', 'rare', 'rarest', 'rash', 'rather', 'rathna', 'ratho', 'rational', 'ravana', 'ray', 'reach', 'react', 'reaction', 'read', 'ready', 'real', 'realisation', 'realise', 'reality', 'realization', 'realize', 'really', 'realm', 'reap', 'reason', 'rebirth', 'reborn', 'rebound', 'receive', 'recipient', 'recipients', 'reciprocity', 'recitation', 'recite', 'recluse', 'recognise', 'recognition', 'recognize', 'recommend', 'reconstruct', 'reconstruction', 'recover', 'recrimination', 'rectify', 'rectitude', 'reduce', 'reestablish', 'refer', 'reference', 'reflect', 'reflection', 'reflections', 'reflective', 'reform', 'refract', 'refrain', 'refuse', 'regain', 'regard', 'regardless', 'region', 'regions', 'register', 'regret', 'regularly', 'regulate', 'regulation', 'regulations', 'reign', 'reinforce', 'relate', 'relation', 'relations', 'relationship', 'relationships', 'religion', 'religions', 'religious', 'relish', 'rely', 'remain', 'remedial', 'remember', 'remembrance', 'remind', 'remotest', 'removal', 'remove', 'render', 'rendezvous', 'rending', 'renounce', 'renunciant', 'renunciate', 'renunciation', 'reougnant', 'repeat', 'repentant', 'repetition', 'replete', 'reply', 'repository', 'represent', 'reprimand', 'require', 'rescue', 'resemble', 'resentment', 'reside', 'resident', 'resort', 'resound', 'resources', 'respect', 'respective', 'respectively', 'respond', 'responsibilities', 'responsibility', 'responsible', 'rest', 'restless', 'restlessness', 'restrain', 'restraint', 'restraints', 'restrict', 'result', 'retain', 'reticence', 'return', 'reveal', 'revel', 'revelation', 'revelations', 'revengeful', 'revere', 'reverence', 'reward', 'rhythm', 'rice', 'rich', 'riches', 'richest', 'ridicule', 'right', 'righteousness', 'rigorously', 'ring', 'rise', 'rishis', 'ritham', 'ritual', 'rituals', 'river', 'rivers', 'road', 'roads', 'roam', 'robe', 'role', 'roll', 'rome', 'room', 'root', 'rosaries', 'rote', 'round', 'rouse', 'royal', 'rugs', 'ruin', 'ruinous', 'rukmini', 'rukārasthannirodhaka', 'rule', 'rulership', 'ruminate', 'rupavarjita', 'rupees', 'russia', 'rust', 'ruthlessly', 'rāga', 'rājasic', 'sacred', 'sacrifice', 'sadhana', 'safe', 'safekeeping', 'safely', 'safety', 'sag', 'sage', 'saguña', 'sahadeva', 'sahaja', 'sahana', 'sahasranama', 'sail', 'sake', 'salty', 'salutation', 'sama', 'samaachareth', 'samaani', 'samanjasaprema', 'samithih', 'samsāra', 'samyak', 'sanctify', 'sanctity', 'sanddune', 'sandhyaa', 'sandhyavandana', 'sangham', 'sanskrit', 'santhi', 'sanyāsa', 'sanyāsin', 'sanātana', 'saris', 'sarva', 'sarvabhūtaantarātma', 'sarvam', 'sarvamāvrutya', 'sarvatokshi', 'sarvatāḥ', 'sarvāntaryāmi', 'sastras', 'satataṃ', 'satchitānandaṃ', 'sathwa', 'sathya', 'sathyabhama', 'sathyastra', 'sathyaṃ', 'satiate', 'satisfaction', 'satisfy', 'satsaṇga', 'saturate', 'satwa', 'satwic', 'satyasya', 'satyaṃ', 'savagery', 'save', 'saviour', 'say', 'saṃbhavāmi', 'saṃskāra', 'saṃsthāpanārthāya', 'scale', 'scholarship', 'school', 'science', 'scientific', 'scope', 'scriptural', 'scripture', 'scriptures', 'scrutinize', 'search', 'seat', 'second', 'secret', 'secrets', 'sect', 'sects', 'secular', 'secure', 'security', 'see', 'seed', 'seek', 'seekers', 'seem', 'seers', 'seldom', 'select', 'self', 'selfdominated', 'selfinterest', 'selfish', 'selfishness', 'selfless', 'selflessness', 'selfrealisation', 'selfsurrender', 'send', 'sender', 'sense', 'sensual', 'sensuous', 'separate', 'separation', 'serene', 'serenity', 'servant', 'servants', 'serve', 'service', 'serviceable', 'set', 'setbacks', 'seventyfifth', 'several', 'severe', 'sevā', 'sevādal', 'shackle', 'shade', 'shakespeare', 'shakuni', 'shall', 'shanthi', 'shanti', 'shape', 'sharanam', 'share', 'sheaths', 'shed', 'sheep', 'sheer', 'shin', 'shine', 'shiromukhaṃ', 'shiva', 'shivaji', 'shloka', 'short', 'shoulder', 'shout', 'show', 'shower', 'shravañaṃ', 'shrine', 'shrishtham', 'shrutimalloke', 'shuchiḥ', 'shāstras', 'siblings', 'sick', 'sickness', 'siddhis', 'sight', 'sign', 'signalise', 'significance', 'significant', 'signify', 'sikshana', 'silence', 'similar', 'similarly', 'simmer', 'simple', 'simpleminded', 'simplify', 'simply', 'sin', 'since', 'sincere', 'sincerely', 'sincerity', 'sinful', 'sing', 'single', 'singleminded', 'singlepointedly', 'sisters', 'sit', 'sita', 'situation', 'situations', 'siva', 'sixth', 'skill', 'skills', 'slaughter', 'slave', 'sleep', 'slide', 'slightest', 'sloth', 'small', 'smaller', 'smart', 'smash', 'smile', 'smilingly', 'smoke', 'smoker', 'smooth', 'snehaṃ', 'soak', 'soap', 'social', 'society', 'sofa', 'soft', 'softly', 'softness', 'software', 'soham', 'solace', 'sole', 'solely', 'solve', 'somebody', 'somehow', 'someone', 'something', 'sometime', 'sometimes', 'somewhere', 'song', 'songs', 'soon', 'sooner', 'sorely', 'sorrow', 'sorry', 'sort', 'soul', 'souls', 'soup', 'sour', 'source', 'sow', 'space', 'spark', 'speak', 'special', 'specially', 'species', 'specific', 'speck', 'speculation', 'speech', 'spell', 'spend', 'spill', 'spirit', 'spiritual', 'spiritualism', 'spirituality', 'spite', 'splendour', 'splendrous', 'spoil', 'spontaneous', 'spontaneously', 'spot', 'spouse', 'spread', 'spring', 'spur', 'stab', 'stability', 'stag', 'stage', 'stain', 'stalk', 'stand', 'standard', 'star', 'start', 'state', 'statement', 'status', 'stay', 'steadfast', 'steadfastness', 'steadily', 'steadiness', 'steady', 'stealthily', 'steep', 'steer', 'step', 'stick', 'stile', 'still', 'stillness', 'stomach', 'stone', 'stop', 'store', 'stories', 'storm', 'story', 'straight', 'straightforwardness', 'strange', 'stray', 'stream', 'streets', 'strength', 'strengthen', 'stress', 'strictly', 'strife', 'strike', 'strive', 'strong', 'stronger', 'structure', 'struggle', 'students', 'study', 'stuff', 'style', 'sub', 'subject', 'subjugate', 'sublimation', 'sublime', 'submerge', 'submission', 'submit', 'substance', 'subtle', 'suburbs', 'succeed', 'success', 'successful', 'succumb', 'such', 'suddenly', 'suddhodhana', 'sudras', 'suffer', 'suffuse', 'sugar', 'suit', 'sukha', 'summarise', 'summit', 'summum', 'sundry', 'sunrise', 'sunset', 'superfluous', 'supply', 'support', 'suppose', 'suppress', 'supra', 'supreme', 'surcharge', 'sure', 'surely', 'surf', 'surgery', 'surpass', 'surprise', 'surrender', 'survive', 'susceptible', 'sustain', 'sustenance', 'swabhāva', 'swami', 'swarthaprema', 'swarūpa', 'swarūpaṃ', 'sway', 'sweet', 'sweeten', 'sweeter', 'sweetly', 'sweetness', 'sweets', 'swell', 'swim', 'sword', 'swārthaprema', 'symbol', 'symbolise', 'sympathy', 'synonymous', 'synonyms', 'system', 'systems', 'sādhaka', 'sādhanā', 'sākhya', 'sākhyam', 'sākshātkāra', 'sāmbashiva', 'sārga', 'sātvic', 'sūtras', 'table', 'tackle', 'taint', 'take', 'talent', 'talismans', 'talk', 'tamas', 'tamasic', 'tangible', 'tank', 'tantamount', 'tap', 'tapa', 'tapas', 'target', 'tarnish', 'task', 'taste', 'tatwamasi', 'teach', 'teacher', 'teachers', 'tear', 'techniques', 'teenage', 'tejas', 'telecommunication', 'telephone', 'tell', 'temper', 'temple', 'tempo', 'temporal', 'temporary', 'tempt', 'tend', 'tendencies', 'tender', 'tenderness', 'tenure', 'term', 'terrific', 'terror', 'test', 'text', 'texts', 'thamas', 'that', 'the', 'then', 'theories', 'there', 'thereafter', 'thereby', 'therefore', 'therefrom', 'therein', 'these', 'thief', 'thine', 'thing', 'things', 'think', 'third', 'this', 'thorns', 'thorny', 'thoroughly', 'thou', 'though', 'thoughtless', 'thoughts', 'thousand', 'thousands', 'thread', 'threaten', 'three', 'throes', 'throughout', 'throw', 'thus', 'thyself', 'till', 'tilt', 'time', 'tin', 'tishṭhati', 'to', 'today', 'together', 'toil', 'tolerance', 'toll', 'tomorrow', 'tone', 'tongue', 'tonics', 'torture', 'total', 'totality', 'totally', 'touch', 'touchstone', 'toward', 'towards', 'town', 'trace', 'trade', 'traditional', 'traditions', 'tragic', 'train', 'trait', 'traitors', 'traits', 'tranquillity', 'transcend', 'transcendental', 'transform', 'transformation', 'transforming', 'transgress', 'transient', 'translation', 'transmission', 'transmute', 'transpose', 'travel', 'treasure', 'treat', 'tree', 'trials', 'tribes', 'tribulations', 'trick', 'trifle', 'triguñas', 'trikālas', 'trilokas', 'trivial', 'trouble', 'true', 'truly', 'trunk', 'trust', 'truth', 'truthful', 'truthfulness', 'truths', 'try', 'tubers', 'tulasi', 'tulasidas', 'tummy', 'tune', 'turmoil', 'turn', 'twaṃ', 'twenty', 'twin', 'twinkle', 'two', 'twofold', 'type', 'tyāga', 'tāmasic', 'uddhava', 'udāsina', 'ulcer', 'ultimate', 'ultimately', 'unable', 'unaffected', 'unafraid', 'unalloyed', 'unbecoming', 'unbroken', 'uncertainty', 'unchanged', 'unchanging', 'unconscious', 'undercurrent', 'undergo', 'underlie', 'undermine', 'underneath', 'understand', 'understatement', 'undertake', 'undiminished', 'undoubtedly', 'unflinching', 'unfold', 'unfortunate', 'unfortunately', 'unfriendly', 'ungrateful', 'unhesitatingly', 'uniformly', 'unify', 'union', 'unique', 'uniqueness', 'unitary', 'unite', 'unity', 'universal', 'universally', 'universe', 'unlearn', 'unless', 'unmoved', 'unnecessarily', 'unperturbed', 'unpleasant', 'unpolluted', 'unprecedented', 'unprejudiced', 'unreal', 'unrest', 'unrighteousness', 'unsacred', 'unseen', 'unselfish', 'unsettle', 'unshakable', 'unshakeable', 'unsteady', 'unsullied', 'unto', 'untold', 'untouched', 'untruth', 'unwavering', 'up', 'upanishads', 'upapandavas', 'upeksha', 'uphold', 'uplift', 'upon', 'upset', 'upstream', 'upsurge', 'upwards', 'urge', 'use', 'useful', 'useless', 'using', 'usual', 'usually', 'utilise', 'utilize', 'utter', 'utterly', 'vacant', 'vada', 'vadanti', 'vairāgya', 'vaisa', 'vaisyas', 'valid', 'valuable', 'value', 'vandanam', 'vandanaṃ', 'vanish', 'vanquish', 'varchaska', 'variety', 'various', 'varna', 'varnas', 'vary', 'vast', 'vastness', 'veda', 'vedanta', 'vedantic', 'vedas', 'vedhaantha', 'vedic', 'vedānta', 'vedāntic', 'vegetables', 'vegetarian', 'vegetarianism', 'vegetarians', 'vendors', 'venkamma', 'venkataraman', 'venture', 'verily', 'verse', 'vessel', 'vibhaagashah', 'vibhishana', 'vibrant', 'vibrations', 'vice', 'vices', 'viceversa', 'victim', 'victims', 'victory', 'vidvans', 'vidya', 'vidyā', 'view', 'viewfinder', 'vigilant', 'vijaya', 'village', 'violence', 'viprah', 'virakthi', 'virakti', 'virtue', 'virtues', 'virtuous', 'virtuously', 'vishnu', 'vishnusmarañaṃ', 'visible', 'vision', 'visit', 'visualise', 'visualize', 'vital', 'viveka', 'vocabulary', 'voice', 'volcano', 'volunteer', 'vouchsafe', 'vow', 'vratha', 'vritti', 'vulgar', 'vānaprastha', 'vātsalya', 'wail', 'wait', 'wake', 'walk', 'wander', 'wane', 'want', 'warn', 'warrior', 'warriorhood', 'warriors', 'wash', 'waste', 'watch', 'watcher', 'watchword', 'water', 'wave', 'waver', 'ways', 'waywardness', 'weak', 'weaken', 'weaker', 'weakness', 'wealth', 'weapon', 'weapons', 'wear', 'weave', 'weeks', 'weep', 'weigh', 'weight', 'weighty', 'weird', 'welcome', 'welfare', 'well', 'wellbeing', 'west', 'western', 'wetness', 'whatever', 'whatsoever', 'wheat', 'wheel', 'whenever', 'whereas', 'wherever', 'whether', 'which', 'whirlpool', 'white', 'whither', 'who', 'whoever', 'whole', 'wholeheartedly', 'wholeness', 'wholesome', 'whomever', 'whose', 'wicked', 'wickedness', 'widening', 'wider', 'widespread', 'wife', 'wild', 'will', 'willingness', 'win', 'wind', 'wine', 'wing', 'wipe', 'wire', 'wisdom', 'wise', 'wish', 'with', 'withdraw', 'withdrawal', 'within', 'without', 'witness', 'wive', 'woman', 'womb', 'women', 'won', 'wonder', 'woollen', 'word', 'wordly', 'work', 'workshop', 'world', 'worldly', 'worlds', 'worry', 'worse', 'worship', 'worth', 'worthless', 'worthwhile', 'worthy', 'would', 'write', 'wrong', 'yajna', 'yashas', 'yasoda', 'yathārthaprema', 'year', 'yearn', 'years', 'yellow', 'yesterday', 'yield', 'yoga', 'yoginaḥ', 'yoke', 'yore', 'you', 'youare', 'young', 'younger', 'youth', 'yuge', 'yukti', 'zenith', 'zero', 'zoroaster', 'ānanda', 'ātmanivedanam', 'ātmanivedanaṃ', 'īshwara']\n"
     ]
    }
   ],
   "source": [
    "# bag of words model\n",
    "vectorizer = CountVectorizer()\n",
    "count_vect = vectorizer.fit_transform(messages)\n",
    "print(count_vect.shape[0])\n",
    "# look at the dataframe\n",
    "print(count_vect.shape[0])\n",
    "pd.DataFrame(count_vect.toarray(), columns = vectorizer.get_feature_names())\n",
    "# token names\n",
    "print(vectorizer.get_feature_names())"
   ]
  },
  {
   "cell_type": "code",
   "execution_count": 16,
   "metadata": {},
   "outputs": [],
   "source": [
    "## - shuffle the pack to create a random and unbiased split of the dataset\n",
    "#import random\n",
    "from sklearn.utils import shuffle\n",
    "#discourseData = shuffle(discourseData)"
   ]
  },
  {
   "cell_type": "code",
   "execution_count": 17,
   "metadata": {},
   "outputs": [],
   "source": [
    "## - creating slicing index at 80% threshold\n",
    "sliceIndex = (int((len(discourseData)*.8)))"
   ]
  },
  {
   "cell_type": "code",
   "execution_count": 18,
   "metadata": {},
   "outputs": [],
   "source": [
    "trainDF = pd.DataFrame()"
   ]
  },
  {
   "cell_type": "code",
   "execution_count": 19,
   "metadata": {},
   "outputs": [],
   "source": [
    "trainDF['text'] = discourseData['message']\n",
    "trainDF['label'] = discourseData['label']\n",
    "\n",
    "trainDF, testDF = trainDF[:sliceIndex], trainDF[sliceIndex:]"
   ]
  },
  {
   "cell_type": "code",
   "execution_count": 20,
   "metadata": {},
   "outputs": [
    {
     "name": "stdout",
     "output_type": "stream",
     "text": [
      "432\n",
      "108\n",
      "346    When all follow the sacred path, the world wil...\n",
      "151    There cannot be life without love. A small exa...\n",
      "47     Serve others for they are reflections of the s...\n",
      "347    Give up ignorance. Light the lamp of wisdom wi...\n",
      "93     God wears Truth, the good seek Truth and the b...\n",
      "400    Love is no merchandise. Do not bargain about i...\n",
      "517    What exactly is Truth? Is it a description of ...\n",
      "216                                         Know thyself\n",
      "390    Never forget God. God alone is everlasting. Th...\n",
      "54     A person might be an expert in any field of kn...\n",
      "416             The entire universe originated from Love\n",
      "306    Swami says that only through love and not thro...\n",
      "276    The human being today is behaving with less gr...\n",
      "180    Love is your life. Love is your goal. The Bhag...\n",
      "182     Your love becomes worldly in nature when you ...\n",
      "343    That is the Principle of Love. Worldly love ma...\n",
      "282    Love is the most essential undercurrent of you...\n",
      "271    These three paths make love (prema) grow in pe...\n",
      "83     When you do not accept the insult some one cas...\n",
      "205                  Always direct your love towards God\n",
      "514    Everyone desires and seeks Peace. Lasting Peac...\n",
      "337    There will be decline in morals giving rise to...\n",
      "105    I have come to tell you of this universal unit...\n",
      "389    Today violence and murders have become the ord...\n",
      "13     Learn to speak what you feel, and act what you...\n",
      "477    Love Must Bind All Believers Together. Jesus w...\n",
      "145    The intensity of the mother’s feeling arises f...\n",
      "31     When individuals change, society will change. ...\n",
      "252    Withdrawal of the five senses of wisdom (jnane...\n",
      "324            Pure Love Is the Royal Road to Reach God.\n",
      "                             ...                        \n",
      "116    The love toward material objects is ichhā (des...\n",
      "430    This body is approaching its seventyfifth birt...\n",
      "334     So long as a person follows the head alone, n...\n",
      "468    Among the gopis, the foremost devotees of Kris...\n",
      "301    Lord Krishna permeates every atom of the unive...\n",
      "84     When you feel you cannot do good, at least des...\n",
      "256    Brahmins are known by their significant traits...\n",
      "164        Atma symbolises truth and hence is permanent.\n",
      "304    They are the various aspects of love. The Prin...\n",
      "372    Bhakti (devotion) can flow along two paths—sag...\n",
      "444    People today observe individual differences. T...\n",
      "364    The thought in the mind, the word on the tongu...\n",
      "204                                  Love with intensity\n",
      "397    There are several people here who are deluded ...\n",
      "50     Do not think about the body. The body comes an...\n",
      "99     I have come to tell you of this universal unit...\n",
      "111    Everything is based on love and love alone. Th...\n",
      "443    We call others “brothers and sisters”. At the ...\n",
      "217                   Experience unity, Become Pure Love\n",
      "528    Violence in any form is evil and to kill innoc...\n",
      "448    The man who writes about himself and his own t...\n",
      "363    The nurturing of love is possible only in a te...\n",
      "505                     Love as a feeling is NonViolence\n",
      "499    I always teach you love, love and love alone. ...\n",
      "356    This day Jesus is worshipped but His teachings...\n",
      "399    Real devotion presupposes unshakeable love tow...\n",
      "30     Whenever you undertake to do something, do it ...\n",
      "353                    Love—The Path to Self Realisation\n",
      "522    Right Conduct is Cleanliness, Courage, Determi...\n",
      "440    [Swami shows His handkerchief.] What is this? ...\n",
      "Name: text, Length: 108, dtype: object\n"
     ]
    }
   ],
   "source": [
    "# split the dataset into training and validation datasets \n",
    "train_x, valid_x, train_y, valid_y = model_selection.train_test_split(trainDF['text'], trainDF['label'],test_size = 0.20)\n",
    "\n",
    "# label encode the target variable \n",
    "encoder = preprocessing.LabelEncoder()\n",
    "train_y = encoder.fit_transform(train_y)\n",
    "valid_y = encoder.fit_transform(valid_y)\n",
    "\n",
    "print(len(train_x))\n",
    "print(len(valid_y))\n",
    "print(valid_x)"
   ]
  },
  {
   "cell_type": "code",
   "execution_count": 21,
   "metadata": {},
   "outputs": [],
   "source": [
    "# create a count vectorizer object - Bag of Words\n",
    "vectorizer = CountVectorizer()\n",
    "count_vect = vectorizer.fit(trainDF['text'])\n",
    "\n",
    "\n",
    "# transform the training and validation data using count vectorizer object\n",
    "xtrain_count =  count_vect.transform(train_x)\n",
    "xvalid_count =  count_vect.transform(valid_x)"
   ]
  },
  {
   "cell_type": "code",
   "execution_count": 22,
   "metadata": {},
   "outputs": [],
   "source": [
    "# word level tf-idf\n",
    "tfidf_vect = TfidfVectorizer(analyzer='word', token_pattern=r'\\w{1,}', max_features=5000)\n",
    "tfidf_vect.fit(trainDF['text'])\n",
    "xtrain_tfidf =  tfidf_vect.transform(train_x)\n",
    "xvalid_tfidf =  tfidf_vect.transform(valid_x)\n",
    "\n",
    "# ngram level tf-idf \n",
    "tfidf_vect_ngram = TfidfVectorizer(analyzer='word', token_pattern=r'\\w{1,}', ngram_range=(2,3), max_features=5000)\n",
    "tfidf_vect_ngram.fit(trainDF['text'])\n",
    "xtrain_tfidf_ngram =  tfidf_vect_ngram.transform(train_x)\n",
    "xvalid_tfidf_ngram =  tfidf_vect_ngram.transform(valid_x)\n",
    "\n",
    "# characters level tf-idf\n",
    "tfidf_vect_ngram_chars = TfidfVectorizer(analyzer='char', token_pattern=r'\\w{1,}', ngram_range=(2,3), max_features=5000)\n",
    "tfidf_vect_ngram_chars.fit(trainDF['text'])\n",
    "xtrain_tfidf_ngram_chars =  tfidf_vect_ngram_chars.transform(train_x) \n",
    "xvalid_tfidf_ngram_chars =  tfidf_vect_ngram_chars.transform(valid_x)"
   ]
  },
  {
   "cell_type": "code",
   "execution_count": 23,
   "metadata": {},
   "outputs": [
    {
     "name": "stdout",
     "output_type": "stream",
     "text": [
      "  (0, 4740)\t0.054984373174593024\n",
      "  (0, 4734)\t0.05224471356660047\n",
      "  (0, 4473)\t0.1057132174999689\n",
      "  (0, 4469)\t0.05586881735777562\n",
      "  (0, 4211)\t0.0895499454648524\n",
      "  (0, 4209)\t0.05771750424839857\n",
      "  (0, 4098)\t0.05717792264108226\n",
      "  (0, 4083)\t0.04532896206245029\n",
      "  (0, 4071)\t0.0737103623872937\n",
      "  (0, 4064)\t0.10324067732190599\n",
      "  (0, 4061)\t0.10203579673318519\n",
      "  (0, 4044)\t0.11058241681989457\n",
      "  (0, 4040)\t0.04434254188421\n",
      "  (0, 3925)\t0.15742278742128749\n",
      "  (0, 3915)\t0.14144483805258512\n",
      "  (0, 3914)\t0.1605741576026428\n",
      "  (0, 3899)\t0.09318829424663538\n",
      "  (0, 3887)\t0.06147515349907481\n",
      "  (0, 3817)\t0.09111434361929982\n",
      "  (0, 3812)\t0.07590161616982506\n",
      "  (0, 3801)\t0.08694467225122061\n",
      "  (0, 3744)\t0.07517475294958263\n",
      "  (0, 3740)\t0.055613524486634855\n",
      "  (0, 3724)\t0.06840405352350164\n",
      "  (0, 3699)\t0.11292964136326893\n",
      "  :\t:\n",
      "  (431, 1085)\t0.08559419218992695\n",
      "  (431, 1078)\t0.10164545755336775\n",
      "  (431, 1075)\t0.09738573095708153\n",
      "  (431, 885)\t0.14193695640874948\n",
      "  (431, 884)\t0.13244104737588916\n",
      "  (431, 751)\t0.1192671579118721\n",
      "  (431, 744)\t0.05405869759560833\n",
      "  (431, 672)\t0.18037380324696797\n",
      "  (431, 663)\t0.1029998180130826\n",
      "  (431, 403)\t0.11137371416471666\n",
      "  (431, 321)\t0.17605763885609127\n",
      "  (431, 320)\t0.16858871365000222\n",
      "  (431, 230)\t0.06234885885268253\n",
      "  (431, 227)\t0.12301826958401664\n",
      "  (431, 225)\t0.09122257486243918\n",
      "  (431, 158)\t0.06824054227471305\n",
      "  (431, 154)\t0.05753797990894213\n",
      "  (431, 135)\t0.05437261233178576\n",
      "  (431, 125)\t0.04690368712569672\n",
      "  (431, 114)\t0.07426176656461873\n",
      "  (431, 109)\t0.06390964468007601\n",
      "  (431, 57)\t0.14566367649183526\n",
      "  (431, 54)\t0.054688951143978815\n",
      "  (431, 7)\t0.16858871365000222\n",
      "  (431, 3)\t0.08911776745383591\n"
     ]
    }
   ],
   "source": [
    "print(xtrain_tfidf_ngram_chars)"
   ]
  },
  {
   "cell_type": "code",
   "execution_count": 24,
   "metadata": {},
   "outputs": [
    {
     "name": "stdout",
     "output_type": "stream",
     "text": [
      "['message', 'life song - sing . life game - play . life challenge - meet . life dream - realize . life sacrifice - offer .', 'life love - enjoy .', 'poisonous word anyone , word wind fatally even arrows .', 'education character', 'worldly thoughts diminish , thoughts increase . normally , mind time desire worldly things . desire , peace become stronger', 'caste , caste humanity . religion , religion love . language , language heart .', 'love barren cloud moisture , tree fruit yield milk . ever never earn grace .', 'anger , , jealousy biggest diseases , keep aloof three diseases .', 'life mosaic pleasure pain - grief interval moments .', 'surrender mind completely , take care every .', 'love bridge change . build house .', 'charity mean land full beggar . provide support mean beggar , provide food , clothe conveniences encourage laziness beg .', 'learn speak feel , speak', 'love selflessness , self lovelessness', 'simple sincere', 'be worlds happy . include universal prayer prayers every . birthday message .', ', . wave , ocean . know free , divine', 'love . serve .', 'help ever . hurt never', 'person , three , think , others think , really .', 'good company important , help cultivate good qualities .', 'speak , , kind , necessary , true , improve silence ?', 'grace like insurance . help time need without limit .', 'practice vocabulary love - unlearn language hate contempt .', 'secret perfect health lie keep mind always cheerful - never worry , never hurry , never bear fear , think anxiety .', 'attach worldly things pursuits . world , world .', 'life like block melt away every moment . spend , devote service others . education human value design prepare everyone life dedicate service .', 'close , close', 'honour mother , mother universe guard harm .', 'whenever undertake something , thoroughly .', 'individuals change , society change . society change , whole world change . welfare individual bind welfare society whole .', 'must welcome test give confidence ensure promotion .', 'knowledge power , true . character power .', 'good example best form service', 'hard effort yield last benefit', 'practise read . take things practise become reality .', 'twenty-four hours , earn spend , contemplation , sleep service others .', 'life opportunity afford drink , achieve something nobler higher merge reality .', 'duty without love deplorable . duty love desirable . love without duty divine .', 'look world vision peace , love , compassion . whole world appear love peaceful .', 'seek peace far-off place . spring heart . peace .', 'power make days earth path flower , instead path thorns .', 'religion separate shower grace profess abide faith .', 'knowledge practice like food digest .', 'royal road spiritual journey… love', \"remain world number years , n't world take hold . n't world take hold inside world . example lotus . stay deep . come light , n't stay without water would . mix either water . see lotus , even water come go . , talk , always 'the lotus eye , lotus feet ' inner significance .\", 'serve others reflections entity another reflection . authenticity , except reference original . feel always kinship creation .', 'divine , , unity divinity .', 'true devotion must dispirit , elate satisfy lesser gain , must fight failure , loss , calumny , calamity , ridicule egoism pride , impatience cowardice', 'think body . body come go , birth death . body . body rust dust . think . love .', 'whatever book read , realize divine merely intellectual effort . oneness promote practice love .', 'desire storm , greed whirlpool , pride precipice , attachment avalanche , volcano . discard desire liberate .', 'desire bonfire burn greater fury , ask fuel…', 'person might expert field knowledge master many material skills accomplishments . without inner cleanliness brain desert waste .', \"'s many desire like small metal coin carry pocket . weight .\", 'purity , unity . without unity attain divinity . life waste . first purity , next unity , realize divinity .', 'body water bubble . mind like monkey . follow either body mind . follow conscience . mind . permanent . voice , voice unchanging truth inside', 'service regard offer , every opportunity serve welcome gift . service do spirit , lead self- realization', 'spiritual practice must direct removal husk revelation kernel', 'devotional sing induce desire experience truth , glimpse beauty , taste bliss self . encourage dive genuinely real self .', 'everyone . . strengthen fundamental truth . propagate truth , real service . service take closer proximity , boat . ocean life , take help boat gain proximity .', 'seed , universe tree , impulses passions branch , intelligence flower , pure consciousness fruit , love sweetness fruit .', 'ray fall upon heart , impede cloud egoism , lotus bloom petals unfold .', 'come disturb destroy faith , confirm faith - christian become better christian , muslim , better muslim , hindu , better hindu .', 'come light lamp love hearts , shin add luster .', 'come behalf exclusive religion . come mission publicity sect creed cause , come collect followers doctrine . plan attract disciples devote fold fold . come tell unitary faith , spiritual principle , path love , virtue love , duty love , obligation love .', \"well say food consume determine 's thoughts . eat flesh various animals , qualities animals imbibe . sinful fee animals , sustain five elements human be ! lead demonic tendencies , besides commit inflict cruelty animals .\", 'less talk - work ! much talk go . excessive talk , spiritual energy waste .', 'life best spend alleviate pain , assuage distress , promote peace . service valuable call \\x93service god.\\x94 need service . please , please .', 'previous occasion incarnate earth , bliss recognise incarnation vouchsafe physical embodiment leave world , spite plenty evidence grace . , ponder moment sathya manifestation , rampant materialism , aggressive disbelief irreverence , bring adoration millions world ? convince basic reason fact supra-worldly divinity human form', 'service . endow body , mind intellect ? feel mind , plan intelligence body serve need service . offer service , worship home flower .', 'service highest spiritual discipline . prayer meditation , knowledge scripture vedanta ( holy scriptures india ) , help reach goal quickly service . service double effect , extinguish give bliss .', 'since move , like , talk , delude belief instance common humanity . warn mistake . also delude sing , talk , engage activities . , movement , divinity reveal , ready , prepare moment .', \"swami give peace mind , must work . first , stop question , 'who ? ' . body , mind , intelligence . 'my ' ? claim ownership declare 'mine ' ? 'my ' indicate ownership . 'my ' life . long life body , connection 'my ' intellect - 'my ' body , 'my ' house , 'my ' land . moment remove life body , 'my ' sense possession . life .\", 'body shine character fine , service worship preserve charm .', 'quality . see everything separate , see everything dual . must remove unity . think unity , think basis everything .', 'essence religions . surrender main duty everyone . surrender mean feel oneness , . ? reason present present .', 'tree teach forbearance tolerance . offer shade , irrespective , religion , nationality status . help fruit shade even lay trunk !', 'teach lesson faith , selfless service process dedication .', 'trust wisdom . make mistake . love uncertainty mistake . intent . remember nothing happen without . still . understand . want understand .', \"lose another 's good fortune ? celebrate , strive emulate . desire determination .\", 'ask , people point towards distant region , wonder manifest ! realize , , behind , around , see felt everywhere .', 'accept insult cast , go back person indulge first , register letter accept return sender .', 'feel good , least desist evil .', 'come amongst support sustain , grovel crude vulgar entities ? avoid place bargain term gift , donations , spiritual guidance transmission .', 'come , spark glory , wave ocean bliss , peace merge .', 'elephant , unable realise innate strength , meekly submit command mahout , work paltry rupees . get sit command mahout account train receive . similarly bharathiyas today blindly follow western culture , forget rich sacred culture . culture bharath sacred , strong , ancient . eternal beacon light guide countries world . bharathiyas forget great culture ?', 'culture bharath enjoin people revere respect mother father . exhort mathrudevo bhava pithrudevo bhava ( mother , father ) . , also exhort acharyadevo bhava athithidevo bhava ( teacher guest ) . tend ignore word mother , else revere respect ?', 'talk hours together , tend forget really intend communicate . many deviations distortions creep speech . today , entire world fill negative feel . whoever come across , whatever , negativity widespread . reflections inner thoughts feel .', 'truth merely tell facts hear know . temporal truths . facts relate momentary appearances . truth relate unchanging reality . full sense truth apply come heart pure unsullied form voice conscience . true time – past , present future . affect change time place . time transform , creation increase , pralaya ( destruction ) reduce . history stain . truth live eternally full . ancient seers call “ ritham ” . unchanging suppress .', 'seek truth , seek . truth . truth exist , , exist . truth must consider life give breath . person breath become useless , life without truth useless become dwell place strife grief . believe nothing greater truth , nothing precious , nothing sweeter nothing last .', 'folly think search truth somewhere . know ’ self truth . realize truth ? experience nondualism . long steep dualism ( divine different ) bind rack opposites , sorrow , real unreal .', 'wear truth , good seek truth rescue truth , truth liberate , truth power , truth freedom . lamp illuminate heart dispel doubt darkness . effulgence truth .', 'discovery truth unique mission . mixture maya ( illusion ) madhava ( ) , maya throw mist hide madhava , action healthy impulses inherit act perform previous body cleanse do austerities body grace lord , maya melt away , mist flee . nara ( ) transform narayana ( ) bhuloka elevate prasanthinilayam .', 'universe dependent truth . truth , universe . truth eternal quality . change . hide . truth . wealth , riches emerge truth . embodiment truth . truth alone ’ abide . dharma permanently live truth . vedas , repository knowledge wisdom emanate truth . truth alone royal path . truth knowledge – infinity , brahman . wherever truth follow , live dharma . dharma higher truth . morality higher truth . truth , experience love , love visualize truth .', 'duty without love deplorable . duty love desirable . love without duty divine .', 'duty imply force compulsion love spontaneous express without external prompt . japa ( recitation ) , dhyāna ( meditation ) deeds merit perform futile cultivate universal selfless love .', 'come light lamp love hearts , shin add lustre .', 'come tell universal unitary faith , atmic principle , path love , dharma love , duty love , obligation love .', 'separate , love , proclaim lord . love primordial urge basis creation . love . love assume many different form phenomenal world give variety experience individuals . form love keep change base ’ relationship , principle love remain unchanged .', 'chapter , swami enumerate different form love human be experience delineate human love differ divine love . human love temporary base attachment affection . divine love pure , selfless endure . swami tell true bhakti ( devotion ) love . must cultivate love become embodiments pure love .', ', . life , breath , soul . form . .', 'love , love . love , love . separate love . beloved ones , self', 'come speak behalf particular dharma ( faith religion ) , like hindu dharma . come mission publicity sect , creed cause , come collect followers doctrine . plan attract disciples devote fold fold .', 'come tell universal unitary faith , atmic principle , path love , dharma love , duty love , obligation love .', 'separate , love , proclaim lord . love primordial urge basis creation . love . love assume many different form phenomenal world give variety experience individuals . form love keep change base ’ relationship , principle love remain unchanged .', 'chapter , swami enumerate different form love human be experience delineate human love differ divine love . human love temporary base attachment affection . divine love pure , selfless endure . swami tell true bhakti ( devotion ) love . must cultivate love become embodiments pure love .', ', . life , breath , soul . form . .', 'love , love . love , love . separate love . beloved ones , self', 'attraction vast brahman ( atom ) attraction whole part . basis love—the love mother , father , friend , spouse even devotee towards . jīva ( individual self ) love brahman totality part . part whole belong . hatred envy greed pride .', 'everything base love love alone . human bear love , sustain love ultimately merge love . love basis human life . forget true love get carry away worldly physical love , love true sense .', 'world , virtue greater love . love truth . love righteousness . love wealth . world originate love , sustain love ultimately merge love . every atom origin love . innumerable power atomic power magnetic power world power love surpass . life bereft faith love meaningless useless . humans world , love life love everything . love five elements ( pancha bhūtas ) emerge . love shin brilliantly every individual . human be , able comprehend significance love , attribute physical relationship .', 'love direct toward totality know bhakti ( devotion ) .', 'love mother toward child vātsalya ( affection )', 'love exist wife husband moha ( infatuation ) . love exist among friends relations anurāga ( affection ) .', 'love toward material object ichhā ( desire ) .', 'look little closer , discover life love . . love nature life , burn nature fire , wetness water , sweetness sugar . tend plant leave green . become plant become lifeless stick , stop love . love last long life exist . mother love long life . life depart , bury with-out least compunction . love bind life . fact , love life . person love share dead . reason love expand ever-widening circle .', 'love something enter live midway . atmic principle always time . allow love change moment moment . must transmute thoughts expressions love .', 'regard whatever action perform offer best form sādhanā ( spiritual discipline ) . whatever good deeds spiritual act perform , suffuse love worthless .', 'love exist love nothing else . spontaneous impart delight . everything permeate love . love see heart eye . listen ears tranquillity heart . speak tongue compassion . compassion , kindness love separate word mean thing . love many synonyms .', 'entire nature suffuse power attraction . world attract . power attraction originate changeless eternal principle truth , basis creation . know transcendental truth . present trikālas , trilokas triguñas ( three periods time , three worlds three attribute ) . .', 'human possess constituents need generate electrical energy , radiation telecommunication . whole world fill electromagnetic energy . world govern principle mutual attraction . green grass attract . child attract mother . universal attraction relate magnetic power . rama supreme symbol power attraction . “ ramyate rama ” ( confer ānanda rama ) . rama dasharatha spiritual rama atmarama ( indweller every heart ) . atma universal magnet attract everything . today many people world draw place , power attraction . keep flower , be attract afar . draw flower sweet honey . single attract plastic flower . sweetness attract people prema ( love ) . love manifest many form maternal love , filial love , fraternal affection , marital love , friendly love . divine love basis form attraction . powerful magnet . present everywhere include every human .', 'live love . love life . without love love , exist earth . love sustain . love strengthen . love urge behind adventure , sacrifice , success .', 'devotion signify love . love divine true love . expressions love merely attachments sort another . love . live love . start love . fill love . love . . love consider divine people every faith . manifest love regardless others behave . cultivate love .', 'essence bhakti ( devotion ) love formal exercise japa ( recitation ) worship various kinds .', 'worship offer divine reside be . love . live love . love mean realise bliss self , centre . need seek elsewhere . find within oneself thoughts control mind turn inwards . dedicate action lord . highest knowledge . summum bonum existence . love become life . alone true devotion .', 'nine type devotion : shravañaṃ ( listen glory ) , kīrtanaṃ ( devotional sing ) , vishnusmarañaṃ ( contemplate ) , pādasevanaṃ ( worship lord ’ feet ) , vandanaṃ ( adore ) , archanaṃ ( worship ) , dāsyaṃ ( servant ) , snehaṃ ( cultivate friendship ) ātmanivedanaṃ ( surrender ) . respond .', 'purāñas ( scriptures ) describe live great exemplars nine form bhakti ( devotion ) . parikshit shravañaṃ ( listen glory ) , narada kīrtanaṃ ( devotional sing ) , prahlada vishnusmarañaṃ ( contemplate ) , prithu archanaṃ ( worship ) , akrura vandanam ( adore ) , hanuman sevā ( service ) , arjuna sākhyam ( friendship ) , lakshmi pādasevanam ( worship lord ’ feet ) bali ātmanivedanam ( selfsurrender ) .', 'devotion ? merely offer several type worship go pilgrimage . unalloyed true love love ’ sake alone constitute devotion . true devotion love flow pure heart unpolluted selfish motives . love intimate bond relationship devotee lord . nine type devotion . equal prema ( pure love ) .', 'inner current nine type devotion prema love .', 'vedānta proclaim love moksha . heart devotee fill love tender sweet . sometime everyone bind make heart shrine love lord . love union universal realise . devotee achieve union eternal , everything appear divine . gopikas brindavan devote . experience divine bliss intense devotion . like fish live water devotee , immerse nectarine ocean divine love , exist moment without love . devotee relish thing . every part body much fill love organ find expression proclaim glory render service . kind devotion gopikas krishna . something beyond intellect power reason . krishna explain uddhava true nature gopis ’ bhakti ( devotion ) . bhakti incapable intellectual analysis , dismiss blind faith . intellectual enquiry explore subtle know experience .', 'purāñas ( scriptures ) consider moksha ( liberation ) mergence divine . bliss experience constant contemplation divine devotion even merge divine .', 'lord enshrine devotee , devotee renounce desire liberation . devotion make lord . drop water fall ocean achieve immortality infinitude . hold drop water palm , evaporate moments . join ocean , become boundless vast ocean .', 'love—the pathway', 'path lie love . love anywhere .', 'truly speak , embodiments love . stream love flow heart another . find anything greater love . example . many gather today . reason ? swami ’ love attract . love divine magnetic power present human . sacred epics like ramayana , mahabharata bhagavata , find love undercurrent . cultivate love , need acquire property . attain love . attain mean . love magnetic power transform even bitter enemy dearest friend .', 'consider love life . foremost duty . search anywhere world .', 'love', 'love , lover love , three . without love , lover . even love lover , without love , love function . three , love chief ingredient .', 'therefore , realise everything paramatma swarūpa ( embodiment supreme self ) ? certainly , realise without fail . saturate chiefly uniformly everything , paramatma ( supreme self ) . difference among three . three , prema ( love ) discernible sarvāntaryāmi ( reside hearts ) . everything suffuse prema . unhesitatingly declare paramatma ( supreme self ) premaswarūpa ( embodiment love ) .', 'love emanate heart source . love immortal , nectarine , blissful infinite . heart fill love boundless . rivers different name form merge ocean become , love many form enter ocean heart get identify . impossible describe principle love full . love attract . love manifest form nature . therefore , nature attract .', 'karshati krishna ( attract krishna ) . attract everyone confer bliss . embodiment sweetness . people prepare various type sweets sugar . similarly , divinity name form world . limit particular form . consider form . anywhere , worship form . form divine . develop love faith , everywhere experience love . possible experience divinity without develop love .', 'immerse love , everything appear vibrant life . power love boundless . love impulse manifest different persons different ways . supreme devote like gopikas consider krishna breath life worship . “ everything ” , declare .', 'hand , yasoda ’ love krishna mother towards child . krishna ’ departure , wait days news mathura . note difference devotional love gopikas maternal love yasoda . yasoda look upon krishna ordinary child , darling heart , innocent ways world . anguish think , “ imagine torture inhuman demons mathura inflict balarama krishna streets mathura . krishna ! wait longer return ” . great difference love devote love mother .', 'intensity mother ’ feel arise sense maternal attachment . devote ’ feel different . gopikas ’ lament , “ krishna ! ’ show beautiful face listen divine music flute ? ” love radha , totally absorb love krishna , different . “ krishna ! wherever whatever form assume , bless form ” . radha yearn kind union . love principle case . love call different name , expression .', 'love express many ways . experience vary goal . carry life phenomenal world , love assume manifold form . form love keep change accord ’ relationships . pure love unchanging . pure love limit today human ’ selfinterest .', 'love conquer anything . selfless , pure , unalloyed love lead human . selfish constrict love bind world . unable comprehend pure sacred love , human be today prey endless worry attachment worldly object . ’ primary duty understand truth love principle . person understand nature love , astray .', 'various contexts word love use today relation true mean love . affection , mother child husband wife incidental certain temporary relationship real love . true love neither begin . exist three categories time—past , present future . alone true love fill human endure bliss .', 'human level , love assume many form . word love use common parlance context relations mother child , husband wife , master servant , preceptor pupil . true love . term prema ( love ) . anurāga ( affection ) . prema apply total love towards divine . utterly selfless . come world fall . sahaja swarūpaṃ , ( essence ’ nature express spontaneously without external prompt ) .', 'prema ( love ) anurāga ( affection ) . affection , direct towards worldly object , get taint . pollution , sorrow ensue . human become prey desire disappointments . however love direct towards , become pure , selfless , endure divine .', 'life without love . small example illustrate point . mother . twenty years . sometime die . mother wail body , “ ! able live long alive . live ? ” type grief result attachment mother develop towards physical form . true love . important love love physical form . able love love ’ sake , attain real love . love physical body long body present . thereafter love ebb away . therefore , love love ’ sake . love life . life . atmatatwa ( principle atma ) verily . atmatatwa reality .', 'person grow childhood adulthood , attachments change mother friends , wife children , acquisition wealth . down involve pursuit wealth , person begin feel need . perpetual alternation attachment separation call real love spiritual endure .', 'fail understand true mean love principle , human undermine life . everyone realise love present equally be .', 'love towards term bhakti ( devotion ) .', 'love assume many different form exhibit different relationships worldly life . love husband wife term moha ( infatuation ) . love mother child call vātsalya ( maternal love ) . love kith call anurāga ( affection ) .', 'member live species manysided love towards offspring , parent comfort ; guard food drink , joy play . type love attachment distinct name suit object fix . call affection direct towards offspring . name infatuation direct towards persons less fortunate , comradeship flow towards equal , attachment extend goods place . become fascination case , friendship others . direct towards elders teachers parent , become reverence humility .', 'bhakti ( devotion ) word use reference love direct lord . love break many stream flow many directions towards many point , cause grief , get fix mortal things moment . instead , allow love flow singlepointedly ocean lord ’ grace . sādhanā ( spiritual exercise ) call bhakti ( devotion ) .', 'life without love meaningless . love , grow . true love distinguish attachment either persons things . attachment base selfishness . love base selflessness . love fruit bear flower good deeds . engage selfless service experience essence pure love .', 'everything world govern bound . however , love limit . “ anirvachanīyaṃ prema ” ( love beyond power word ) , declare sage narada . flow love lifegiving water everyone . love secure ? japa ( recitation ) meditation study scriptures .', 'dwell vedas purānas ( scriptures ) . dwell heart seek . people close mouth open hearts . experience divine bliss .', 'reason brahma vidyā ( spiritual study ) preach prema ( love ) cultivate sake prema . show prema sake obtain material benefit . prema show sake obtain material benefit , last short time wear quickly . therefore , prema , attach atma also true permanent .', 'generally call happiness relate bodily comfort transient . transient pleasure relate body come moments immediately afterwards plunge deep sorrow since momentary . kind bliss get atma permanent , pure selfless .', 'material object permanent therefore prema show acquire object also permanent .', 'atma symbolise truth hence permanent .', 'kind prema truth present every jīva ( individual self ) . develop prema truth sake , prema truth develop prema truth present everyone join together become prema truth infinity . say upanishads , “ satyasya satyaṃ ” truth truths', 'fill hearts love . love base selfinterest call divine love . love alone sacred base complete obliviousness ’ self solely concern yearn . able live peace amongst animals ? sag fill divine love , could extend love wild beasts also transform creatures love . use weapon love , could transform even nature wild animals .', 'days yore , sag live forest amidst wild animals perform penance .', 'sag lethal weapons .', 'hallmark love tyāga ( selfless sacrifice ) . love seek nothing anyone . bear illwill towards anyone . utterly selfless pure . fail understand true nature love , human yearn various ways . love cherish feel selflessness sacrifice . deem love world—whether maternal love , brotherly love , friendship—there element selfishness . ’ love totally free taint selfishness . divine love reach even remotest . bring together separate . raise human animality divinity . transform gradually form worldly love divine love .', 'experience divine love , people must prepare give selfishness selfinterest . must develop purity steadfastness . firm faith divine , must foster love regardless obstacles ordeals .', 'love divine four kinds . swārthaprema . second samanjasaprema . third parārthaprema . fourth yathārthaprema . swarthaprema ( love base selfinterest ) like lamp keep room . lamp illumine room . kind selfish love confine limit group extend others . samanjasaprema compare light moon . moonlight visible outside inside . , however , effulgent . light . kind love extend wider group intense . third parārthaprema . like light . illumine inside outside brilliance . continuous sense visible night . permanent absence rise . actually , always . likewise , selfless love appear absent sometimes appear . fourth yathārthaprema atmaprema . love present always , inside outside , place time , circumstances . divine love . imperishable . eternal . immanent everyone .', 'love manifest person , achieve peace pass understand .', 'love small word pregnant profound mean . people worldly sense : “ love . love you. ” prepare sacrifice others dear . true love . love . live love . able understand true nature love .', 'misinterpret love worldly sense . equate love physical relationship . prepare give love love . today nobody prepare sacrifice life love . people ready take others ’ live meet selfish end . might acquire high educational qualifications . prove futile earn divine love . ’ love true eternal . worldly love transient . attract moment like twinkle star . acquire divine love fundamental principle life . prepare offer life sake divine love .', 'love bear separation beloved .', 'today celebrate advent human form lord come earth gokula instil love human be . nature divine love understand divine human form teach human human be nature love .', 'body . [ swami point body . ] make five elements . another body . [ swami point person nearby . ] make five elements . therefore , . scope difference ? mother , father , friend—every make five elements . thus , even purely material point view , reflect philosophy adwaitaṃ nondualism . entire universe , five elements ; sixth element . matter search , find element ; everywhere , five . , within human , separate distinct element .', 'supreme love . supreme love regard sixth element ; reflect indweller divine principle', 'gross subtle . . vedic aphorism “ twaṃ ” mean “ thou ” , reflect divine principle . must aspire sense unity .', 'love life . love goal . bhagavadgita also lay great emphasis principle love . fill life love . immense love . describe word . love others love swami . give love . take love turn .', 'trace body attachment . doctor say would perform surgery . tell , “ whatever want . body . body ” .', 'love become worldly nature body consciousness . develop love transcend body consciousness . understand eternal truth .', 'truly experience divine love , lead worldly life . make love flow incessantly towards .', 'weakness concentrate divine love , divine grace confer greatest strength .', 'things come divine grace ever flow .', 'whatever able , develop divine love .', 'director humans mere actors . good performers ’ play .', 'midst world replete fear , distrust mutual recrimination , prove messengers divine embodiments love , peace truth . declare reality divine world large make realise divinity everyone .', 'love . love form . cultivate divine love .', 'exist . doubt . exist , scope nature exist . experience prakruti ( nature ) emerge apprehension paramatma ( supreme self ) . paramatma , realisation parātatwa ( supreme reality ) spring . parātatwa atmatatwa ( self ) .', 'therefore , always love parātatwa . confine love particular , always susceptible change . students able understand nature divine love , scope disappointment . always engross appointment disappointment . love name , form . direct love towards form .', 'principle love describe word . descriptions reflect part whole truth .', 'instead try describe , make efforts become deserve ’ love . love form . bestow love form . love ultimate goal . love sanctify life . hence , develop love . love alone protect . love physical body attachment . love remain constant time . term prema ( love ) word . form . place love exist . love allpervasive . encompass anḍa , pinḍa brahmānḍa ( entire cosmos ) . love basis activities eat , talk walk . fact , love sustain life . people tend forget sacred principle love even know significance . foolish . experience love , enjoy share others', 'child become youth youth become , accordingly , physical body undergo change gradually lose beauty charm passage time .', 'vedas glorify divine love . even narada , author bhakti sūtras ( aphorisms devotion ) , could describe nature divine love . describe various term state mind devote fill love lord , could describe prema ( love ) . compare prema ( love ) priceless . likewise tulasidas also refer rama ’ name precious . love find ? bhagawan , embodiment love . treat lightly infinitely valuable love , eternal , pure , sacred powerful beyond word .', '“ originate firmament . grow earth . birth death . allpervading . emerge heart knot ignorance break ” .', 'love', 'love serve', 'love', 'develop forbearance forgiveness', 'exercise ceiling desire', 'cultivate steadfast devotion', 'purify mind heart', 'love intensity', 'always direct love towards', 'love without expectation reward', 'love transcend space time', 'love heal', 'love bestow bliss', 'love protect', 'love unify', 'love transform', 'love destroy evil', 'love', 'love without distinction', 'know thyself', 'experience unity , become pure love', 'love ; live love', 'forbearance lifebreath . inhale exhale forbearance . forbearance greatest strength bharat ( india ) . reason stability despite many suffer losses . amount difficulties unsettle person forbearance . forbearance face unprecedented difficulties . believe forbearance remain unmoved untouched face difficulties . bharatiyas ( indians ) fill forbearance .', 'another form forbearance love . love also synonymous peace . thus , forbearance , love , peace mean . mānava ( humankind ) refer love upanishads . bharatiya possess love nature . indians today give indian culture worldly , materialistic transient things cause misery . “ power forbearance ? ” —it great word . measure mind speech .', 'alexander rule vast empire die carry ? go emptyhanded . carry pure love leave world . much satisfaction richest person world many desire poorest person world . today people fill desire . long desire , never happy peaceful .', 'teach love students love . love swabhāva ( nature ) , students sathya institute discipline orderly unrest campus . illwill towards anyone . persons criticise even bear malice hatred towards . enemies . everyone dear . love permanent quality , worry always happy peace .', 'love speech sathya ( truth ) .', 'love action dharma ( righteousness ) .', 'waste life salty marsh samsāra ( worldly life ) ? strive rather reach vast ocean grace . realise self . attain satchitānandaṃ ( beingawarenessbliss ) . holy consummation , fill bliss .', 'earn wealth pure love , richest person world .', 'principles dharma change suit convenience people . dharma immutable . dharma persist dharma , , forever . course , practice rule apply dharma might change accord change cause ; even , practice test basis scriptures ( sastras ) , basis advantage . calculation . scriptures always support rule yield tangible visible advantage , vedas . expect indicate act . dharma test line ; direct ocular proof impossible . mimamsakas state dharma know vedic mantras vedas attempt elucidate truths beyond ocular demonstration .', 'dharma follow consequences , might even eglected advantage patent immediate . everyone motive standard . example , different idea fruit bath , morning even prayers , repetition name , meditation , prescribe . people cancel repeat gayatri even instead recite thousand name ( sahasranama ) siva vishnu . “ perform morning even prayers ( sandhyavandana ) proper time ( kaale sandhyaa samaachareth ) ; prescription. ” , spite directions , breach dharma cancel even prayers like ? similarly prescriptions every caste . create four cast ( varnas ) , divide basis quality activities . ( chaathurvarnyam mayaa shrishtham guna karma vibhaagashah ) say gita . mean quite clear ; teach . , rely kinds paltry arguments reason , many follow dharma appeal , without fear , also drag innocent ignorant onto wrong path .', 'lord come uplift downtrodden reestablish dharma . reason incarnation lord , say ring tone gita . , point clearly grasp . many read gita take lord incarnate dharma destroy force a-dharma begin prevail . basis draw conclusion dharma get destroy . gita . word use diminish ( glaani ) ; , indications dharma danger , “ come order protect dharma harm. ” come protect preserve dharma destroy ! doctor life leave ? , dharma , life-breath humanity , destroy , need incarnation lord ( bhavarogavaidya ) ? lord protect ? word decline use indicate destruction decline weaken dharma . protection dharma task lord , dharma breath soul ( jivi ) .', 'dharma ordinary affair . practise dharma dead ; practise divine nature . , need turn people dharmic path mean traditional methods good advice , tempt attractive consequences follow path , threaten dissociate , inflict punishment last resort traditional methods sama , dhaana , bheda , danda ) . ancient time , people never give practice dharma , even threaten death point sword . , without even slightest pressure others , people slide fall a-dharma . indeed , dharma interpret various confuse ways , strictly follow real dharma obstruct , laugh , treat worse dried-up grass . anxiously adhere dharma brand cheat , hypocrites , ignoramuses . calumnators know dharma principles . unfortunate individuals ! capacity grasp mean word .', 'judge dharma understand people know even literal mean word . people bear blind know ray ? course , feel heat ray fall body , ’ idea nature , form , shape , brilliance , . , person conception dharma , faith dharma , derive observance incomprehensible . dilate dharma people useless venture blow conch people stone-deaf . conch lips person blow , ’ hear least', 'adhere strictly dharma', 'dharma prejudice partiality ; imbue truth justice . , people adhere dharma ; never . wrong deviate . path dharma require people give hatred others cultivate mutual concord amity . concord amity , world grow , , place happiness . well establish , world free disquiet , indiscipline , disorder , injustice .', 'whatever deal , must first grasp real mean . , cultivate daily , benefit . mean , wisdom grow last earn . basic things dharma action ( karma ) . wise , impartial unprejudiced , confirm dharma , walk path truth ( sathya ) , instruct vedas . path people today', 'knowledge dharma reach three stag : ( ) must receive train wise people ( vidvans ) , also imbue dharma . ( ) must aspire attain self-purification ( aathmashuddhi ) truth ( sathya ) . ( ) must realize value knowledge vedas ( veda-vidya ) , voice ( parameswara ) .', 'three complete , understand truth truth separate untruth . enquiry truth do amity cooperation ; must equally eager discover benefit . everyone ’ opinion must test touchstone dharma , universal good ( sarva-lokahitha ) . principles pass test specially keep apart , use , spread world advancement human welfare . mean , develop happiness equal measure . “', '“ ( samithih samaani ) ” , say scripture . claim wisdom ( jnana ) mean attain , like education . therefore , must noble pure deeds .', 'keep mind conscience path', 'renounce evil deeds , give desire —these accomplish instrument , mind ( manas ) . objectives human life ( purushaarthas ) gain . result persistent train , mind learn obey interest . hand , memory ( chittha ) present past present experience invite things perspective , judge background . equanimity attain process , go mind . , become singleminded .', 'remember also —the mind conscience— keep straight path welfare mankind ( sarva-manava-sukha ) . dharma shine illumine person serve confer . person receive grace lord also unique privilege merge . whenever give anything anyone take anything anyone , transgress boundaries dharma . command . follow time , believe bounden duty . fill every ounce energy essence dharma endeavour progress path , , every pass .', 'dharmic person reveal decision enthusiastic exultation every . adherence dharma must order . attitude fear lord see everywhere everything , ever-present apprehension might slide , natural bend towards truth , lean towards right conduct —the mind ( manas ) endow virtues . task direct utilize welfare mankind .', 'dependence dharma ensure happiness increase . remove spite develop towards others . allow swell pride another suffer grieve . wickedness confer happiness ? remember , happy happy !', 'people respect disgrace , find honour falsehood , deceit , injustice . respect truth , straightforwardness , justice . dharma prescribe vedas test capable test . impartial . faith grow practice . worship gods follow rule prescribe vedas ; mean , people strengthen dharmic practice . dharma command lord ; authentic voice , well follow . divine person ( devatha ) ? name person observe truth ( vratha ) daily life .', 'consider much talent lord give people . endowment , seek four goals ( purusha-arthas ) move forward path lord , adhere strictly demand truth . talent ; purpose gift . gift eyesight things ; blind luck . , gift truth , long four goals adherence dharma , lord ; others blind . lord also give people instrument develop intellect discrimination . well realize , lord unto fresh talent source power , full grace towards struggle . people seek follow dharma , truth also reveal .', 'discipline truth ( sathya ) . careless discipline truth , every duty lay dharma every action prompt dharma hang heavy burden . search reality behind phenomena search make dharmic action light pleasant . lord shape people incline towards delight expansion vision happy moral virtuous . , people must serve best interest adhere basic nature , concentrate brahman , cultivate truth , practise dharma .', 'heroism observe dharma rigorously ( ojas ) .', 'fearless self-control ( tejas ) .', 'discard feel sorrow down life , equanimity .', 'unshakable faith truth dharma ( sahana ) .', 'mental physical health excellent kind , earn discipline celibacy ( bala ) .', 'desire ability speak sweetly straight , practice truth love .', 'withdrawal five sense wisdom ( jnanendriyas ) five sense action ( karmendriyas ) vice sublimation sense service truth ( indriya-moha ) .', 'win overlordship worlds self-won domination inner world .', 'destruction ’ prejudice pursuit truth time ( dharma ) .', 'dharma bring good ; confer bliss ( ananda ) hereafter . essential humanity today glory universal dharma', 'brahmins know significant traits : knowledge ( vidya ) , virtue , action exalt beneficial kind , spread virtue example . promote cultivate develop brahmin , whoever . qualification authority exercisable brahmin . highly learn person person conduct befit learn deserve status . earn qualifications effort make eager justify position .', 'sign protectors ( kshatriyas ) . efficient undertake , heroism , courage , adventure , eagerness punish wicked protect virtuous . endow qualities entitle status warriorhood . take task attitude establish home worthy rule .', 'next business people ( vaisyas ) . make currents commerce flow smooth fast , forge communication link nations commonwealth make wealth multiply world . task . must ensure concord people unbroken undiminished . aspire “ fame ( yashas ) great deeds noble achievements ” “ splendour ( varchaska ) help spread education health erection school , hospitals , like ” . must devote wealth promotion worthy cause . mean , virtue righteousness foster .', 'labourers ( sudras ) ideal characteristics : produce gather things value , deviate path dharma . always earnest realize object human existence always strive , must intelligently store protect things produce produce , common benefit . things thus collect liberally utilize spread genuine knowledge ( vidya ) sustenance support virtuous .', ', cooperative effort four type human endeavour , wealth become much manifold ; render happy . four cast ( varnas ) feel social order design overall maintain worldly dharma ( lokadharma ) . caste adhere duties , welfare world doubtless assure ; besides , able even important , bliss atma . hand , feel caste , code duties , rule , welfare security world endanger', 'enter field trade , purchase consume goods offer ? start teach , learn practise ? command , obey ? produce grow , seek products toil ? create diversity contribute unity , practice truth dharma every individual social , lord ordain live accord duty caste ( varna-dharma ) .', 'believe occupation ( vritti ) base caste ( varna ) ; , cast name basis occupations . today , neither caste occupation . profession today , another tomorrow ; caste today , another tomorrow —this instability lie root disturb atmosphere world , discontent spread .', 'infuse every profession occupation inner morality , constant attachment truth , unperturbed equanimity fortitude ; , follow duties caste ( varna ) prescribe professions —that summum bonum , supreme bless . fail , misery chronic poverty . choice first , rama saviour ( raksha ) , second , worldly punishment ( lokashiksha ) distress ( dhurbhiksha ) . saviour punishment learn dharma ( dharma-sikshana ) !', 'love think shanthi ( peace )', 'love understand ahimsa ( nonviolence )', 'love flow unseen river . develop love sanctify educational system train students practice human value essential condition lead worthy live .', 'appeal , strive direction make education really purposeful turn students good citizens , country proud .', 'paramatma ( supreme self ) alone real . paramatma truth . paramatma love . meditate truth , love . possible realise whatever form meditate upon . always company devote . satsaṇga ( good company ) , viveka ( spiritual discrimination ) vairāgya ( detachment , renunciation ) implant increase . strengthen spirit endow inner peace . mind merge paramatma ( supreme self ) .', 'develop love order earn divine grace . even handkerchief unless . ask peace , happiness liberation . give return ? offer love receive grace form peace , happiness liberation . everybody right . give first earn . love service earn right . .', 'another special thing repetition name ( nāmasmaraña ) . possible acquire various occult power ( siddhis ) yoga penance ( tapas ) . every likelihood lord forget power come . blind pride , person might even basic victory spiritual practice . case remembrance name , repetition name meditation . dangers beset paths .', 'three paths make love ( prema ) grow people . love , peace ( shanthi ) achieve . remembrance name , repetition name meditation come extraordinary love . difference .', 'peace mind achieve , condition automatically attain . yoga penance come extraordinary power .', 'mind subject vary moods—sorrow , anger fear , love hate . diseases arise mind basic cause two—rāga dwesha ( attachment aversion ) . mind fill twofold feel . consequently , tend forget basic human nature . mind state consider basic enemies human—lust , hatred , delusion , greed , envy pride—as virtues . vices poison person ’ entire . person forget inherent divinity cease human . victim infamy . person fill good feel enjoy peace happiness .', 'people talk bhakti ( devotion ) , yoga jnāna ( knowledge ) . mean term ? bhakti mean get involve bhajan ( devotional sing ) enjoy tune beat songs ? yoga mean sit corner exercise breath control ? jnāna consist read book get rote shloka ( verse hymn ) ? sanyāsa ( renunciation ) ? wear ochre robe ? bhakti mean get vices attachment , hatred envy manifest pure love . anyone love pomp , fill pride consume envy devotee test . devotion nowhere near person . devotee overcome hatred , envy attachment experience peace bliss love . devotee acquire attribute divine .', 'love vital . love divine . render offer pure enough grace , manifestation love . brighter manifestation , nearer . prema ( love ) affect modify considerations caste creed , religion . tarnish envy , malice hate . preserve love poison evils . endeavour cultivate lack hatred , distinctionfree feel . root religions , substance scriptures , rendezvous roads , inspiration individuals principle prema . firmest foundation human ’ mission life . light ensure world peace world prosperity . fill every word love . fill every love . word emerge tongue shall stab like knife , wind like arrow , like hammer . foundation sweet nectar , counsel console vedāntic ( scriptural ) wisdom , soft path blossom . must shower peace .', 'human today behave less gratitude bird , beasts even tree display . people ungrateful parent , teachers , society even . make parade adherence truth , righteousness , peace , love nonviolence practise . ? intense selfishness preoccupation ’ concern interest . person shed selfishness turn mind towards .', 'love dispel ignorance conceit human dispel morning mist . heart seat love . love must express , begin , home . must extend ’ village town , ’ state , nation ultimately whole world .', 'swami simplify understand principle love aphorism : “ love think sathya . love action dharma . love feel shanthi love understand ahimsa ” . love underlie current human value . speak love , sathya ; work saturate love , dharma . life live accord value give peace ( shanthi ) . love emanate peaceful heart bring bliss swami say bliss . chapter help understand love basis value virtues guide thoughts , word action .', 'love atma . love wisdom . love truth . love righteousness . love peace love nonviolence . everything contain love . love life principle . human be forget principle love ruin live worldly love .', 'love , untruth violence restlessness find place . human heart single chair , doubleseated sofa musical chair . fill heart love , wicked feel place .', 'order experience prema ( love ) , human go search several methods . really want experience prema , understand peace shanthi mean . want follow path peace , accept path dharma . want follow path dharma , accept path truth . small example . take prema shin light . want experience shin light , bulb . want bulb glow experience shin light , connection bulb . connection wire bulb , bulb go glow . wire , electric current . electric current compare truth , wire compare dharma bulb compare shanti peace . three things , prema , light . good bulb . wire . go light ? unless current inside wire , bulb glow .', 'love essential undercurrent talk work .', 'talk much , stray away truth . restrict talk barest minimum . ancients practise “ less talk , work ”', 'speak love truth', 'work love righteousness .', 'give peace .', 'human value visible naked . form truth ? none see form . rather , beyond form . emerge bosom .', 'dharma ? dharma follow teach heart .', 'shanthi ( peace ) ? outside ? . ashanthi ( unrest ) outside . human today crave peace peace alone , spite possess sort wealth . millionaire . reply “ money , house kinds wealth peace ” . peace therefore obtain world outside . flow within . peace , love . light love shin . love illuminate entire universe . hence , strengthen love , scope hatred . develop feel separation , hatred another . hand , develop feel oneness , feel hatred person ?', 'ancient rishis ( sag ) use observe silence part spiritual discipline . observance silence help progress spiritual path . practise silence , easily experience peace mind . love manifest peace . fill love , enemies . therefore , lead life love . love establish peace world .', 'attain human birth . nothing greater . jantunām narajanma durlabhaṃ ( live be , human birth rarest ) . bear bring society . work welfare society ? wealth earn come society . show gratitude society . world face problems human show gratitude society . never neglect society . society ’ wellbeing wellbeing . anybody look welfare society ? . selfishness around . give selfishness work welfare society .', 'world enjoy peace security serve society devotion towards . want peace reign world , first develop peace . peace ? come heart .', 'heart source peace , truth , righteousness love . forget heart search peace external world . ’ peace bazaar . piece . peace heart .', 'fill heart love . whatever work , total love .', 'human barriers around transcendental infinite love use trivial purpose . world become chaotic today . people attribute various reason lack peace security . main reason people able develop love within .', 'make effort realise presence infinite , immortal nectarine love within . today , love find place human heart , since become desire .', 'love , peace . peace , truth . truth , . develop faith .', 'acquire love draw .', 'mean , fear anxieties , greed envy , hatred haughtiness today infect people world establish peace . “ worlds happy ” . prayer come naturally every human heart .', 'goal sanātana dharma lead . everyone must sing goal , live melody song merge , melody , paramātma ( supreme self ) .', 'lord krishna permeate every atom universe . sarvatāḥ pāñipādaṃ sarvatokshi shiromukhaṃ . sarvatāḥ shrutimalloke sarvamāvrutya tishṭhati ( hand , feet , eye , head , mouth ears pervade everything , permeate entire universe ) .', 'love personify . experience love . earn grace love . love conquer love .', 'love , question arise . love confer peace , prosperity , success , auspiciousness bliss . separate .', 'various aspects love . principle love present everyone form atma . atma infinite eternal . vedas declare , sathyaṃ jnānaṃ anaṇtaṃ brahmā ( brahman embodiment truth , wisdom eternity ) . ? everywhere form atma . present be . name form . embodiment truth bliss .', 'life exist even moment without love . love . power love make aware unity existence . swami say divine operate love . physical level , power love protect sustain . cure physical ailments help overcome waywardness mind . love power unite people , communities nations world .', 'swami say love world attain peace .', 'pray heart soul , effect karma disappear like mist . devotion free person consequences deeds . person devote small fraction enormous time devote wealth , family position , thoughts , need fear lord death .', 'think even moment , person hope peace mind ?', 'love like mariner ’ compass , always point north . love direct godward every action . greater path goal . scholarship ritual worship serve transform spirituality . fill hearts love . nation enjoy peace . view world depend colour glass wear . vision fill love , whole creation appear brahmamayaṃ ( fill divinity ) . youth today need .', 'faith love .', 'love , peace .', 'peace truth .', 'truth bliss . bliss . yearn bliss best proof holy nature . human bliss . seek bliss . bliss blessedness person . since bliss , happiness union . nothing else award , unaffected whatever happen happen .', 'ever serene love confer peace heart . ’ heart fill peace , whole atmosphere fill peace . witness happen yesterday . entire cover dark cloud . 7:30 a.m. heavy downpour seem imminent instead downpour cloud “ condition ” atmosphere leave . good thoughts feel , nature respond manner .', 'often address “ embodiments love ” love true form , pure , unsullied , eternal , ancient , formless nondual . love mother confidence mother . confidence basis love . confidence , love .', 'make mother happy . peace happiness world . meaningless worship without revere ’ parent . first , offer worship mother give birth . mother ’ heart nectarous whole world nectarous . rama ’ divinity blossom love care kausalya . bear womb kausalya , qualities kausalya . worship . shivaji ( indian emperor ) could much sacrifice country bear pure lady , jijabai . nobility mother children attain good fortune', 'nothing beyond love . love mainspring good fortune . human without love lifeless . therefore adore worship mother embodiment love .', 'every human potentially messenger . , today , human be become messengers lord death . traitors true human state .', 'humanness demand everyone manifest divinity within . everyone real messenger strive promote peace security world . path follow . ’ message sacred totally free selfinterest .', 'christ bear , three kings come infant . declare child would lover . second say would beloved . third declare . lover messenger . love “ ” . experience , become . “ father ” . therefore , outset must prepare messengers .', 'mean live message . message call service . compassion , morality integrity essential elements message . propagate message faith promote . love watchword . absence love give rise hatred . today unity among people . without unity bliss ? without bliss anyone experience ?', 'power divine love . love form divine . love alone merge love . fill divine love . experience oneness divine .', 'happiness arise pure love also source truth , righteousness , peace forbearance .', 'pure love royal road reach .', 'many ways realise . among shanti mārga ( path peace ) , sākhya sārga ( path friendship ) , anurāga mārga ( path affection ) , vātsalya mārga ( path maternal love ) , madhura mārga ( path sweetness ) . five paths , element selfinterest .', 'prema mārga ( path pure love ) , trace selfinterest . hence , paths merge path love . pure love therefore royal road . consider love present . form divine . divine present , whomever love , love divine . forget sublime allencompassing conception love , human be today lose narrow alleys . promote love humanity , divine descend earth time time . purpose advent ? promote love principle primary purpose . fail understand true mean love principle , human undermine life . everyone realise love present equally be . love assume many different form exhibit different relationships worldly life . love husband wife term moha ( infatuation ) . love mother child call vātsalya ( maternal love ) . love kith call anurāga ( affection ) . love towards term bhakti ( devotion ) . thus love express many ways . experience vary , goal . carry life phenomenal world , love assume manifold form . form love keep change accord ’ relationships . pure love unchanging . pure love limit today human ’ selfinterest .', 'love like mariner ’ compass , always point north . fill hearts love . nation enjoy peace . view world depend colour glass wear . vision fill love , whole creation appear brahmamayam ( fill divinity ) . youth today need . love relate body . base heart . present equally . like current common bulbs vary power . trace selfishness love . unfortunately today hearts human be become barren without love . hence , compassion . people today behave cruel manner wild animals jungle . hatred . maternal love become rare fraternal feel among siblings absent . love among pandava brothers among rama brothers supreme examples fraternal love .', 'love direct godward every action . greater path goal . scholarship ritual worship serve transform spirituality .', 'vary bodily relationships kinship base atma . “ ekovasī sarvabhūtaantarātma ” ( dwell be ) .', 'investigate nature “ ” . everyone undertake enquiry ultimate goal life . instance , find ghee ( clarify butter ) ultimate product derive milk go process conversion curds butter . process inquiry know mimāmsa . investigate nature “ ” , claim ownership body , mind , sense things ( “ body ” , “ mind ” ) . body mind , ? anyone pursue line enquiry ? human call mānava . sanskrit term mean . , human live free ignorance . mean human , long past many previous live . mean recognise term vedantic parlance , greatness human birth become evident .', 'fill . students . world today simmer discord violence . peace security absent . fear stalk land everywhere . fear , acquire abhayatwam ( fearlessness ) . achieve ? reduce desire attachments . students . develop morality good conduct . lead exemplary live serve nation . sole purpose education develop humility discipline .', 'respect parent love . true education . work sevādal members volunteer . helpers must correct vision , clarify . eye , enable everyone . , awareness transmute every word , think deed benediction .', 'world combination dharma adharma ( unrighteousness ) . human life combination physical spiritual aspects , relate , respectively , head heart . human follow head physical world view , thereby forget spiritual aspect .', 'long person follow head alone , neither person society country large , attain peace security . peace security reign supreme world human give body attachment follow principle love originate heart .', 'dualities righteousness unrighteousness , truth falsehood , merit , heat cold coexist creation . people want adharma eradicate completely world . want dharma exist possible . world , dharma exist without adharma viceversa . world combination dharma adharma . exist absent . human power discrimination lead life dedicate dharma . lie secret happiness .', 'follow dharma . human be ’ dharma different dharma animals . human be unable differentiate . human ’ dharma adhere principles truth , nonviolence compassion . human never attain peace security long give bestial qualities . food , sleep , fear procreation common humans animals . , human ’ dharma ? think human constitute half total truth . part truth lie understand animal . keep remind , “ human , animal ” . stop stage . enquire belong stage life , whether brahmachāri , grihastha , vānaprastha sanyāsin ( celibate , householder , recluse renunciate ) . follow appropriate dharma accord stage life . celibate , follow dharma householder .', 'decline morals give rise trouble turmoil human fail adhere dharma appropriate stage life . person today unable understand principle dharma correspond four stag life . code conduct different different stag life . never mistake notion dharma people irrespective stage life . cause adharma today human try follow dharma appropriate stage life . strictly adhere dharma correspond stage life .', 'confidence basis love . embodiments love . often address “ embodiments love ” love true form , pure , unsullied , eternal , ancient , formless nondual . love mother confidence mother . , confidence basis love .', 'peace , truth bliss elsewhere . . embodiment peace , truth bliss . foolish search peace bliss external world .', 'principle love . spiritual practice prove futile , adhere principle love .', 'world like mirror . find mirror reflection , reality . right appear leave mirror . consider reality ? mirror remove , reflection also disappear reality remain . consider embodiment divinity . experience true nature love . sākshātkāra ( selfrealisation ) . people claim vision self meditation , vision reality true sākshātkāra . worldly relationships temporary like pass cloud . subject change passage time , reality absolutely changeless .', 'nothing exist separate . everything reflection inner . visualise reflection everybody reflection mirror . order propagate truth , lord krishna declare bhagavadgita : “ part ” . separate .', 'principle love . worldly love turn hatred change time . like today like tomorrow . love like dislike . different love . adore jesus , zoroaster , allah , rama , krishna , buddha guru nanak . call name . pettina perulu ( name give somebody ) . love alone puttina peru ( natural name ) . name give bind change love changeless . aspire love . true bhakti ( devotion ) . bhakti confer yukti ( discrimination ) , virakti ( detachment ) mukti ( liberation ) .', 'become buffalo . order right path sometimes pretend angry reality never angry . harsh word dunnapota ( hebuffalo ) . truly buffalo undertake good action . become good fellow good . heavy downpour , calf away safety , hebuffalo remain sloth inertia . become inactive like hebuffalo . transform . human life highly sacred . disuse .', 'love everybody . love true form . spark divinity . , share love fellow be , share love . become divine .', 'follow sacred path , world undoubtedly attain peace prosperity .', 'give ignorance . light lamp wisdom within ultimately merge divine . swami ’ message today . develop love . love alone annihilate mind love alone cure disease . love eradicate evil qualities . love . love hridaya , physical body . love divinity instal heart . body , mind , intellect sense merely instrument .', 'master . , master mind mastermind . never become slave mind . contemplate divine . chant name , contemplate form ; understand truth .', 'discriminate divine love wordly love', 'develop unity think , word deed', 'practise nāmasmaraña ( constant remembrance )', 'freedom sorrow', 'love—the path self realisation', 'love must manifest sevā ( selfless service ) . sevā must take form food hungry , solace forlorn , consolation sick suffer . jesus wear sevā .', 'heart full compassion temple . jesus plead compassion . compassion message . sorely distress sight poor .', 'jesus worship teach neglect . worship teach neglect . everywhere , pomp , pageantry , hollow exhibitionism . lecture , lecture , lecture ! activity , love , sevā . heroes lecture , zero put say practice . develop compassion . live love . good , good good . .', 'believe jnāna ( knowledge ) . even , love serve compassion . believe master father servants children bhakti ( devotion ) . even , command wipe tear , nourish sick help lame climb stile , pity sympathy . believe , faith karma , adore dedication . even , love say highest form adoration mean sevā ( service ) do love . love , therefore , breath sādhaka ( spiritual aspirant ) .', 'modern students take wrong path name love . understand true love . love gift every human . utilise service society . unity essential progress community . person share love others . right part society .', 'nectar describe scriptures extremely sweet . nectar nowhere approach sweetness love . love , nectar appear insipid . uniqueness love beyond comprehension ordinary people.such love arise churn ocean bliss . hence , action base love . mundane world , love assume external form . pure gold give goldsmith make jewel , mix copper metal thereby value reduce . likewise , pure love mix worldly attachments , get taint . taint love direct towards sevā ( selfless service ) get purify .', 'shall leave message ruminate upon―that message love . love . love . love , certainly evident . love people . love intensely . transform love service . transform service worship . highest spiritual practice . live without spark love . even person love something somebody intensely . , must recognise love reflection premaswarūpa ( embodiment love ) reality , reside heart . without spring love bubble heart , prompt love . recognise spring . rely . develop possibilities . irrigate whole world . discard taint self . seek anything return extend . daily affairs , create factions revel hatred . good others fault . revere others instal . revere also seat . make heart pure reside therein .', 'need surrender anything . love beings—that enough . love expectation return . love sake love . love nature love . love form worship know like . others happy , happy likewise . others misery , alleviate best ability . practise love sevā ( selfless service ) . mean , realise unity harm .', 'wish become eligible ’ love , action must consistent love . impossible secure ’ love without appropriate sacred action . always hanker reward ever truly happy ? compensation ought seek pleasure duty properly . service true reward . command , everything bind wrong .', 'nurture love possible tender heart . attachment worldly object , tenderness lose . mind direct towards sensual world , life become artificial . office , greet people artificially . namaskāraṃ ( salutation ) do ahaṃkāraṃ ( ) . respect give artificially position emanate heart . emanate heart truth . person dong service others love , respect person . formal action count . good heart behind action entitle respect regard . develop tender heart fill love rather mechanically . love heart , anything whatsoever', 'think mind , word tongue deed hand—try make three . many people hope lead good live good deeds . believe possible . never become good mean good deeds . good order deeds word good . first endeavor good person . thereafter , become possible good . good . good . possible predict reason person ’ life blossom expand . pray underneath tree yield bitter fruit . ’ give sweet fruit . branch sweet fruit tree graft tree , yield sweet fruit , though originally could . process graft equivalent satsaṇga ( good company ) human affairs—getting involve good godly . service fellow human be pure intentions always seek good company . transform . evil traits grow many live generations wipe away instant . godly group , cultivate good habit attitudes involve good activities .', 'give whatever pray . take care . right things . four wive . happen bombay work connect business . , write prepare bring home whatever want . write give list things want . first wife ask nice tonics health rugs woollen clothe service whenever fell ill. second wife want saris ( dress ) latest style , choli ( dress ) piece , jewellery bombay type sundry decorative stuff . third ask select religious book , jnaneshwari , abhangs bhaktivijaya ( spiritual book ) available bombay bookshops , well picture panḍharinath , bhavani baba . fourth wife list . simply write , “ return soon safe , enough ” . nothing love . others packets contain whatever write . think well , discriminate clearly , pray .', 'divine attract ? deceive mislead ? . transform , reconstruct , reform—a process call saṃskāra ( accumulate tendencies ) . purpose reconstruction ? make person useful serviceable society , efface affirm within person unity be . person undergo saṃskāra become humble servant need help . stage paropakāra ( help others ) . service kind , do reverence selflessness , prepare person realise pervade many . last stage sākshātkāra ( selfrealisation ) . vedas proclaim immortality—the stage merge birthless , deathless , universal entity—is feasible renunciation detachment rituals , progeny wealth . human renounce selfish desire , love expand unto farthest regions universe become aware cosmic love feed four process mention . important know underlie urge .', 'love base physical form . body perishable impermanent . beyond biological parent , permanent parent revere . truth love . though body , truth remain permanent father . likewise love eternal mother . grow passage time never diminish . regard truth love parent , essential existence eye wing bird wheel cart , lead worthy live . sacred remembrance , firmly enshrine hearts reverence truth love , make live sublime render dedicate service fellow human be .', 'second quality devotee must possess shuchiḥ cleanliness . sort cleanliness lord expect ? outer cleanliness inner cleanliness ? require . love cleanliness . cleanliness godliness . however confine oneself external cleanliness alone . inner purity also necessary . fact , prime importance . omnipresent . present outside well inside . however , must first recognise divine principle within . example . brass vessel use prepare soup . vessel tin inside , soup would spoil even poison . heart like brass vessel . vessel must coat inside prema ( love ) . precaution take , inside clean . inner purity essential achieve external purity . exactly mean external purity ? mean wash soap water . mean perform selfless service society action pleasure .', 'next come udāsina , mean detachment . must totally detach respect whatever . kind work . , example , engage service activity . however , expectation type ( include outcome ) , also seek reward , praise , appreciation . especially work service organisations , careful . must crave fame name . must seek praise respect . lament , “ work hard much mention whatsoever newspapers ! ” work crave expectations , good might get nullify sanctity work get destroy . therefore , must service work sincerely , immune success failure , praise well criticism .', 'seek future selfishness . concern bliss also selfishness . human , give selfinterest regard happiness others devote wellbeing , truly selfless person .', 'lord love love others . seek lord ’ love , must love others . love others love . without worry happen past without concern future , strive make best present cultivate love service .', 'bhakti ( devotion ) flow along paths—saguña bhakti ( form attribute ) nirguña bhakti ( without form beyond attribute ) . feel away , higher , beyond plead mercy , petition grace pray boons , saguña . adore lord master , guardian saviour . ceremonials praise , propitiation prostration , submission service . practise discipline see be , core every cell atom , alive aware ; experience unity creation—for creation body also it—then , nirguña . nirguña contemplation sugar . saguña adoration sugar doll , catch fancy attract love loyalty . every stand credential quit world . bhagavadgita ask “ satataṃ yoginaḥ ” —ever control , ever restrain , ever yoke divine . vigilant , steady , earnest . steady person earn wisdom . absence careful tend , spark nurse huge conflagration . vigilant care , even conflagration reduce flicker .', 'single drag debit . soak every moment love , , . avail spend hours dhyāna ( meditation ) , rise move amongst people spread anger , inflict resentment word deeds ?', 'japa ( recitation ) , dhyāna ( meditation ) sevā ( selfless service ) , cultivate love towards . take dhruva , example . pray practise austerities order induce grant rulership kingdom . appear vishnu , say , “ lord ! desire kingdom . want ” . similarly preliminary stag , pray worldly boons material gain , thoughts clarify purify , desire boon lord—he .', 'give love liberate worry . love principle know practise , human free anxiety fear . imagine visit friend city plan stay friend days . money afraid carry . hand purse friend safekeeping , happily round place city suburbs long visit . roam busiest market trace fear . purse love . give . liberate worry , anxiety fear . japa ( recitation ) , dhyāna ( meditation ) sevā sādhanā ( selfless service ) , cultivate love towards . take dhruva , example . pray practise austerities order induce grant rulership kingdom . appear vishnu , say , “ lord . desire kingdom . want ” . similarly preliminary stag , pray worldly boons material gain , thoughts clarify purify , desire boon lord—he . , entity closest human , dearest human . mother father might little afar right , . even love , depart move afar . “ anorañīyān ” ( smaller atom ) vedas . become “ mahato mahīyān ” , expand beyond cosmos fill grace . every cell , . earn awareness intense love .', 'hearts indians suffuse kshamā ( forbearance ) . india encounter many setbacks suffer since begin history . indians perturb . extol : “ forbearance truth . forbearance righteousness . forbearance teach vedas . forbearance nonviolence . forbearance compassion . forbearance sacrifice . forbearance confer happiness heavenly bliss . fact , everything worlds ” .', 'experience love principle . thereby world hatred . hatred go , world free violence strife . cruelty violence find world today , root cause selfishness . eradicate . cultivate love principle manifest love thoughts action , experience bliss love . fill love divine , pain trouble forget . propagate principle divine love advent avatars take place time time .', 'thoughts emanate mind purify love , result right action , dharma , love become part experience , think action shanthi .', 'belong race humanity . today people understand significance different faiths different modes worship prevalent bharat . feel existence different cast , communities religions responsible violence , unrest conflict country . existence different religions nothing violence conflict country . absence inner purity responsible .', 'mind human responsible conflict disturbance , differences religions communities . grave mistake attribute unrest disturbance country existence different religions . thousands years people india live unity fraternity spite existence various religions communities .', 'different religions come existence lead human divinity , create conflict disturbance . nothing wrong religion . mistake lie mati ( mind ) , mata ( religion ) . mind good , find fault religion ? people belong jāti ( race ) , mānava jāti ( human race ) . understand mean jāti . base form .', 'religions many goal . jewel many gold . star many . cow many milk . be many breath . nations many earth . flower many worship .', 'today celebrate festival guru pūrñimā . guru ? “ ” stand gunātīta ( attributeless ) . “ ” signify rupavarjita ( formless ) . another interpretation word guru . gukāro andhakārasyāt ; rukārasthannirodhaka ( “ ” signify darkness “ ” denote dispel darkness ) . , , attributeless formless , true guru . word “ bhagawan ” ( ) letter “ ” stand effulgence . ordinary electric bulb illuminate limit area , allpervasive illumine entire creation . divinity shin everybody .', 'quality kshama , venkataraman point ( speech make earlier ) , quality kshama ( forbearance ) essential . forbearance truth.forbearance righteousness.forbearance nonviolence . forbearance teach vedas . forbearance confer happiness heavenly bliss .', 'comprehend love clearly , ahimsa nonviolence result automatically . love unseen undercurrent bind four value . summarise follow : love plus thoughts sathya . love plus feel shanthi . love plus action dharma . love plus understand ahimsa . love common denominator value . form , love . give love human fail nourish love beast . love absence love make animal , human .', 'guru dispel darkness ignorance', 'hate anybody . world people drive hatred narrow feel . even extent kill . heinous crime . hurt others amount hurt . hatred certainly rebound .', 'today people derive demonic pleasure cause harm others without understand truth reap consequences action . make others happy certainly happy .', 'today violence murder become order . greatness kill others . even insect capable . greatness lie save live . embodiments love . bind face consequences action . good certainly reap good result . dishearten immediate reward . wait . certainly reward . suffer nothing consequence deeds past . prayer alone alleviate suffer extent . prayer express gratitude .', 'never forget . alone everlasting . truth . parent pass away sometime remain forever . eternal . always adore . addition , love parent others . love steady unwavering . love . form ganapati . love present be .', 'consider love life truth breath . intimate inseparable relationship love truth .', 'today people word love without actually know mean . human know value mean love , utilise trivial mundane purpose . people mistake notion worldly physical attachment love consider love life . true love reign supreme people selfishness develop spirit sacrifice . love ; love . crave worldly love bereft life . aspire divine love life . today many highly educate . help render society ? practically nothing . acquire degrees sake earn money . serve society spirit love sacrifice . love form brahman . true spiritual discipline lie connect love divine love . life sanctify steady selfless love .', 'atma , love present be . prabhu anek ( many name ) . feel oneness , develop love . heart also fill love . heart like tank sense like tap . “ tank ” full love , come “ tap ” also love . whatever others reflection inner . first , understand truth . evil others , actually reflection evil feel . . prema ( love ) . . atma . everything .', 'live like brothers sisters . children . realise truth , experience true love . bear different parent life principle .', 'cosmos fill love . universe base love . lose transient pleasures worldly life , humans forget supreme love principle .', 'selfishness grow selflessness decline . narrowmindedness widespread . broadness heart wane . desire increase . ideals vanish . human life dominate selfishness selfinterest . ancient sag enthrone tyāga ( sacrifice ) highest pedestal . adore righteousness . today sublime ideals forget bharat . consequence , country rack every kind trouble .', 'several people delude ephemeral things . doubt , pure heart . pure thoughts . certain amount pollution set . must ensure happen . sādhanā ( spiritual discipline ) . sādhanā ? sit meditation japa ( recitation ) ? . sādhanā . think mean meditation ? think sit lonely place contemplate lord ’ name . . contemplate upon pure thoughts mind . contemplate truth . really wish know secret sādhanā , explain simple methods . example , make mind steady still short period eleven second . attain realisation even short period . realisation achieve become restless like clock . eleven second stillness mind would enough . ’ even . achieve period . hence , trouble unnecessarily . , present , put body trouble . waste money . time waste life waste . money waste evil . hence , waste money time . time time . hence , whenever find time , think swami . certainly appear . , even talk . receive several letter say swami appear talk . also sādhanā . develop unflinching faith swami . surely succeed sādhanā . several people come devote . , doubt , deep devotion towards swami . devotion ? hallmark devotee ? analyse first . first foremost , develop faith . faith , love . love , truth . truth , . need make special efforts know truth . fact , eleven second enough realise truth . contemplate mind period eleven second truth able ’ darshan . devotion merely perform certain form worship undertake religious vow japa ( recitation ) .', 'constantly remember truth love . live love . cultivate positive noble thoughts , everything turn good .', 'real devotion presuppose unshakeable love towards , devoid delusion . cultivate steadfast love towards . certainly attain divinity .', 'love merchandise . bargain cost . flow clear heart stream truth , river wisdom . emanate head tongue . emerge full free heart . highest duty , noblest godliness', 'understand principle love . love everything . treat love beall endall life . direct love towards material object . continue love love ’ sake , love eternal . body love , principle love . name form evanescent impermanent . love things . love direct towards things physical , whereas love love ’ sake eternal . consider truth truth . associate truth material object . similarly , love associate material object . love simply love . , love . must attain divinity love .', '’ parent ? ’ children , relations friends ? ? previous live ? future ? immerse thoughts impermanent relationships , lose sight divine love everlasting unchanging . even experience temporary relationships , nature divine love understand . human birth imply existence parent . relationship child parent corporeal . parent instrumental birth cause . however , even instrument , elements divine present . understand human birth progeny truth father love mother . even ’ natural parent absent , forget real parents—truth love . truth love beget jnāna ( wisdom ) , true lineage person establish .', 'many persons , “ swami , realise truth ? please grant selfrealisation ” . reply , “ liberate moment ‘ ’ go ” . “ ” liberation . “ ” . “ ” “ mine ” . liberation . “ ” create , protect grow ignorance . baby “ iormine ” . easily give anything grasp . “ ” harden increase intelligence part doll . allow role separate “ ” damage spring love sacrifice heart .', 'teach humankind truth divine love love incarnate earth human form . scriptures declare divine descend earth teach humankind ways dharma , justice truth . “ dharma saṃsthāpanārthāya saṃbhavāmi yuge yuge ” ( incarnate earth reestablish dharma ) . krishna ’ declaration bhagavadgita . people fill love , dharma , justice truth instal . without love , righteousness mechanical ritual . kind righteousness without love ? sort justice ? lifeless corpse .', 'love life . without love , human exist moment .', 'acquire various type knowledge travel across globe . , spite worldly achievements , able understand principle love . taste love , world real form . therefore , become truly embodiments love . love flow incessantly heart . immerse flow love . love , emerge truth righteousness . sathyaṃ vada . dharmaṃ chara ( speak truth . practise dharma ) . truth righteousness pillars mansion human life rest .', 'love give rise principles . knowledge greater knowledge love . read number pustaka ( book ) , love acquire book . read pustaka ( book ) mastaka ( head ) fill “ dirt ” ? “ dirt ” , become animal lose sense discrimination .', 'give ignorance . light lamp wisdom within ultimately merge divine . swami ’ message today .', 'develop love . love alone annihilate mind love alone cure disease . love eradicate evil qualities . love . love hridaya ( heart ) , physical body . love divinity instal heart . body , mind , intellect sense merely instrument .', 'master . master mind mastermind . never become slave mind . contemplate divine .', 'chant name , contemplate form ; understand truth .', 'develop love attain ultimate merger divine . pray love . lead live spread message love . love goal life . become recipient ’ love , love whole world . power ’ love . totally selfless sacred . hence , always pray love', ', go bombay , head bharatiya vidya bhavan , k.m . munshi , convene conference intellectuals . ask address . person audience ask , “ swami , america russia manufacture weapons . india lag behind respect . india also manufacture weapons ? ” tell , “ dear , bharat ( india ) need today arm ammunition . need uphold dharma ( righteousness ) . dharmo rakshati rakshitāḥ ( uphold dharma , dharma protect return ) . waste money manufacture weapons . countries spend money defence , result , people countries suffer want proper food .', 'divine love grace weapons protect nation', 'might read mahabharata bhima , arjuna , nakula sahadeva implicitly obey command dharmaja , embodiment dharma . likewise , india , america russia compare dharmaja , arjuna bhima respectively . arjuna bhima obey dharmaja , also america russia follow india provide india uphold dharma . india need possess sathyastra dharmastra , weapons truth righteousness . inherent principle love . gigantic tree emerge small seed .', 'entire universe originate love', 'principle love present .', 'human be essentially . differences feel . human be change feel recognise truth divinity immanent . transformation human .', 'love word indicate strive realise falsehood many reality . love identify . hate separate . love transpose self another think , speak . love take within fold , entities render . love , love , begin feel know experience . mean dhyāna ( meditation ) , realise resident hearts , urge , motive , guide , goal . yearn vision , awareness make priceless possession . , often for—sākshātkāra ( direct vision reality ) . love pure free taint mine merge . course , hard sādhanā ( spiritual discipline ) .', 'mind much , . negate deny , deprive oneself many expectancies , dive deep oneself , swim upstream current generations attachment worldly things , include body bear .', 'gopīs ( cowherd girls ) fill highest type love experience krishna principle every speck dust blade green . love krishna make whole world krishna . denial everything else method visualise krishna . , integer i. repeat , . manifold creation repeat often . dust blade , drop spot—each , alone . , exception . also . realisation truth , identity , mergence—this sākshātkāra .', 'battle rakshasas lanka , rama lakshmana destroy many great rakshasa warriors first days . third formidable warrior stand . vibhishana tell rama : “ conquer warrior , whole lanka . greater warrior even ravana ” . rama fight mighty rakshasa whole , could vanquish . rama point give battle . stage , vibhishana , behind rama , say : “ time give fight . must rally strength destroy enemy . miss chance . tell love ” . egg vibhishana , rama continue fight destroy opponent . formidable warrior fell battlefield . moment learn warrior dead , vibhishana also collapse grind . recover chant name rama , vibhishana confess rama , “ swami ! mark weakness part . succumb weakness . fill love , could succumb weakness ? ” rama observe , “ ’ right . collapse suddenly ? ” vibhishana reply , “ swami ! happen bodily attachment . parental affection . mighty warrior ” . vibhishana ’ . vibhishana . ensure victory lord , vibhishana hesitate even kill battle . rama ask vibhishana , “ ? wrong part ? tell begin ? ” vibhishana reply , “ face enemy , worry kind relationship battlefield . room considerations relationship . anyone take arm , cease relation . whether mother , father , anybody else , figure enemy especially , question relationship . completely surrender . servant . must concern primarily victory temporary kinship . truth ” . abound love vibhishana rama , contribute rama ’ victory . love divine inextricable bond . worldly attachments impermanent . tāmasic bond ( qualities sloth inaction ) like iron chain . rājasic bond ( quality passion ) copper chain . sātvic ( pure ) bond like chain gold . whether chain iron , copper gold , chain . nature metal vary , chain shackle nevertheless . vibhishana declare , “ bond . content pure love rama ” . demonstrate world supreme quality total love divine vibhishana act manner .', 'vibhishana . love divine manifest devotee illustrate example vibhishana , younger brother ravana . vibhishana submit many indignities hand ravana love rama .', 'consider form', 'say , jantunām narajanma durlabham ( birth human rarest birth ) . sanctify life make proper sense . talk please . talk softly sweetly . proper control vision . know happen kichaka look droupadi evil intentions . bhima smash head piece . buddha exhort humankind cultivate samyak drishti ( sacred vision ) . buddha attain enlightenment cultivate sacred vision . consider form .', 'think good . good . hear good . talk good good . attain divinity .', 'body approach seventyfifth birthday . years , remain blissful aware principle unity . experience bliss understand truth . hate anybody enemies . absolutely fear everything form . atma exist . innocent child smile , smile . likewise , smile blissfully , . sacred heart . cultivate sacred feel . result also sacred . faith everywhere . undergo trials tribulations , never lose faith . consider faith lifebreath . embodiment love , improper food habit , evil qualities like jealousy anger arise .', 'food , head . head , . , consume satwic ( pure ) food . sacred feel speech also become sacred .', 'say , jantunām narajanma durlabham ( birth human rarest birth ) . sanctify life make proper sense . talk please . talk softly sweetly . proper control vision . know happen kichaka look droupadi evil intentions . bhima smash head piece . buddha exhort humankind cultivate samyak drishti ( sacred vision ) . buddha attain enlightenment cultivate sacred vision . consider form .', 'body approach seventyfifth birthday . years , remain blissful aware principle unity . experience bliss understand truth . hate anybody enemies . absolutely fear everything form . atma exist . innocent child smile , smile . likewise , smile blissfully , . sacred heart . cultivate sacred feel . result also sacred . faith everywhere . undergo trials tribulations , never lose faith . consider faith lifebreath .', 'think good . good . hear good . talk good good . attain divinity .', 'embodiment love , improper food habit , evil qualities like jealousy anger arise . food , head . head , . , consume satwic ( pure ) food . sacred feel speech also become sacred .', '', 'world creation . right human beings—all live be include animals , bird even insects creation . creation , origin bliss . difficulties trouble imagination human . pleasure interval pain . happiness without difficulties . difficulties mean give happiness make miserable sorrow . hence whatever come , consider ’ gift happy . consider give make suffer . suppose pain stomach . doctor ? perform operation , cause pain . pain doctor cause remove suffer . hence , bear difficulties overcome sorrow', 'millions live be world . originate . therefore , present . people give many name , rama , allah jesus ; . atma another name . everyone . real name atma love . love present everywhere alleviate suffer . endow love free suffer . come distant place like america . ? come love . attain anything love . specific name . present human form atma . atma mean ? mean love . love unite . imbibe principle unity , become . attain unity , purity . purity , atmatatwa ( atma principle ) manifest .', 'therefore , must unity attain divinity . . . anywhere separate . develop feel . , “ ” , represent unity . estimate bliss derive unity . . fickle mind unsteady wander arbitrarily .', 'thing steady . love , love , love . love . live love . learn today . love present everyone . mother love children feel love . children . therefore , love . hatred . cause pain suffer .', 'separate . wherever , present . forsake . place . wherever look , present . [ swami point different things . ] . . embodiments . eye large number people . similarly . ? , , . need search . vision limit physical level differences . rely physical body . body like water bubble . mind like monkey . moment mind next moment fly away another place . manas , buddhi , chitta , ahamkāra ( mind , intellect , reflective mind , ) —all temporary like pass cloud . thing permanent . . ? develop feel . correct answer question , ? perform number spiritual practice like bhajans , japa tapa , love form undercurrent practice .', 'fact , love need perform spiritual practice . perform spiritual practice , love . fill mind love . “ prema mudita manase kaho rama rama ” ( recite name rama heart full love ) . hence , give highest importance love . love important . love . live love . spiritual practice undertake . worldly relations temporary . impermanent like pass cloud come . mental reaction , reflection resound .', '[ swami show handkerchief . ] ? cloth . merely cloth . combination thread . thread even . cotton creation . everything emerge like thread . weave thread like . like important . important like . change body mind . love changeless . permanent . everything birth death birth death love . birthless deathless love . come truth . truth . truth . form love present everywhere , wherever look . treasure love heart', 'present human breath . breathe , breath come ? come within . breath . form ? present human form soham , reveal divine identity . “ ” mean “ ” , “ ” mean “ ” . therefore “ soham ” , mean “ ” . “ ” refer present human form love . therefore , human treasure love heart safely . thoughts come like pass cloud . love permanent eternal . perform every task love . even come across enemy , love greet person say , “ hello , hello ” . also respond say “ hello , hello ” . reaction , reflection , resound feel . whatever good experience result action . everything come within . hence , always remain immerse love . love , achieve anything perform task . love responsible entire creation function world . greater love . love . whatever without love futile exercise . hence treasure love heart . everybody attract towards love . bestow everything . love create , sustain destroy . look world physical eye , diversity creation . , fact , everything love . change . fill love . follow principle love , give fruit spiritual practice .', 'people call many name rama , krishna , jesus allah . name refer . call allah , respond . similarly , call jesus , zoroaster rama , respond . name give human . bear name . original name love . refer dictionary . love . human many physical relationships . consider someone husband , someone someone daughter . physical worldly relations . establish relationships ? . since relationships acquire , subject change . love remain . love chant name rama , krishna , govinda , narayana , jesus allah . name refer divinity . grind rice prepare various dish dosa idli . rice sugar prepare payasam ( sweet pudding ) . rice dish . , present entire creation love . perform every task love .', 'call others “ brothers sisters ” . physical level separate . relationships make . never observe diversity . brothers , sisters relationships . child . essentially divine . beyond age form . love true form . love present form . hence every develop love . call rama , krishna . difference name . . love everyone wholeheartedly . experience bliss . long love , devoid bliss .', 'people today observe individual differences . three aspects individual : ) think ; ) others think ; ) really . physical level identify name , form village . reality , . realise . recognise unity entire creation . worldly relations also value recognise unity . number zero , value increase . remove , value . manner , chant name realise oneness . ekam viprah bahudhā vadanti ( truth wise refer various name ) . vedas authenticate truth .', 'love heart , country , chant name , perform spiritual practice . hate anybody . help ever ; hurt never . devote suppose . call devotee , observe differences “ mine . mine ” . good . amount hat . think “ , , around , ” . wherever look , present . develop feel oneness . attain highest bliss .', 'come different countries different name form . come , . today onwards , always remain bliss forever ever . people , “ today birthday ” . mean birthday ? birth body . today bear . tomorrow . eternal . birth , death . always happy . desire . allow differences “ mine thine ” come near . sing glory lord voice . unity divinity . lack unity , diversity . hence develop unity . unity , purity . purity attract . white dress symbolise purity . differences see dress different colour . give room differences . dress , observe unity purity mind , feel thoughts . . return respective place , lead live unity , love bliss . bhajan make happy . consider bhajan bhojan ( food ) satiate spiritual hunger . partake food bhajan every moment , . right morning till night , constantly bhajan entire wake time . swami ’ teach . perform task , contemplate name within . within , without , beyond , behind . happy .', 'consider love life . education acquire meaningful . forget love , life become meaningless . live sake love . share love fellow human be become recipients divine love . share others worldly love . true love relate heart . people talk divine love intoxicate drink deep wine worldly love . love everybody without trace selfishness . divine love .', 'write time write people time .', 'truth universally acknowledge always gentleman dance , except moment require', \"life never nothing- 's nothing . forget binaries\", 'truly abomination nature always find comfortable spot five minutes leave .', \"missions obligate carry life journey . first , seek truth throughout lifetime . second , simply good . engrave mind life board game make start finish good . . hardest part , deal obstacles prevent smooth sail . trick , always strive right person situations – regardless personal cost . make sure right book shoulder weigh book leave . scale real . regardless choose faith , measurement system find world 's religions . , make sense souls , good , place ? course . really secure best set afterlife , vibrations good deeds must surpass death\", \"secrets universe n't really secrets . 's humanity subjugate blissful ignorance right question . answer , unable question , secrets .\", \"would question barretto 's love , since know jenny love jenny ; 's universal truth\", \"heavenly children , stories concoct 's name anger ; would never instigate brothers , encourage tribes harbor resentment towards another . prefer love hat . spread kindness , peace knowledge , spread lie , fear terror — misuse name\", \"heavenly children , 's messengers limitless fish . come color , regions , languages creeds . message , n't ? wish unite children family tree .\", 'believe universal morality ,', 'radically phenomenal thing truth find , ’ go reveal . start dig direction truth . ’ ultimate life adventure', 'deal smart programmers , strong impression much common phenomenon lord arrange universe create genetics ( cells , , molecules , etc. ) . genetics computer program create magic perform highly intelligent cod work .', 'ever weird strong feel program godlike kind work ? lord create world entire universe base molecular techniques cod , software developers create digital world base cod', 'rise east', 'set west', 'human mind product nature . resemble form nature , follow ancient code adhere universal rule structure , time , rhythm ? human mind establish train education pulse , tempo , pace , lilt ? read allow witness rhythm , beat , intonation people ’ mind ? write allow develop , monitor , train pulsate pulse surf mental cadence ? read enable groundswell life refract prism people ’ storm word ? read depict upsurge image thoughts work mind , casement frame humankind ? write spur scrutinize indistinct picture take viewfinder submerge mind ? inspire write draw compose material binders structure multi-dimensional mind', 'person seek enlighten existence must awaken realize universal truths .', 'good work always provoke wicked . jesus compassion ( karuñā ) come human form . spread spirit compassion confer solace distress suffer . notice torture bird beasts temple jerusalem , reprimand vendors drive precincts . draw upon anger priests . good work always provoke wicked . falter fear opposition obstruct .', 'challenge give . evoke hide source strength . bring grace reinforce effort . pleasure spring interval pain . struggle difficulties order taste delight victory . jesus target many mighty obstacles brave . result , name story message shed splendrous light world . jesus , every prophet , messenger , teacher truth spiritual leader endure ridicule , neglect persecution . though diamond cast dust lustre remain . price diminish . though sweet pumpkin grow thorny fence taste remain . attraction diminish .', 'even peacock ’ hatch fowlroost , charm remain nature change . divine , though move among sundry , never affect deflect . envious folk heap insult jesus . even among disciples , betray desert . selfdominated people turn envious greatness goodness . since prema jesus trace self jesus unafraid . loveless envelop fear . love instil courage promote adventure . delight dare . follow master , face devil , fight finish game .', 'among gopis , foremost devote krishna radhika niraja . uddhava leave , hear address krishna ramaparrot plead vision krishna assuage griefstricken hearts . uddhava ask radhika , lie unconscious sanddune , whether message krishna . recover sense , radhika think krishna . cry : tree grow upwards would cling like creeper . blossom flower would hover like . mountain meru would cascade like river . boundless , would like star . bottomless deep would merge like river . , krishna ? whither go , krishna ! pity , krishna ! krishna ! see radhika piteous state , uddhava ’ heart melt . realise krishna send mission gopis make learn true bhakti ( devotion ) . uddhava realise krishna enact episode show even well verse shāstras ( scriptures ) learn inner truth true devotion onepointed , unalloyed devotion show gopis towards krishna . love mean goal . secret reveal gopis .', 'love everything—in music krishna ’ flute , fill world love flood parch earth love . divine every . realise , . cultivate intense love . strive develop love krishna ’ birth . krishna bear every gokulāshṭami ( krishna ’ birthday ) . krishna bear develop divine love mean overcome bond . live teach krishna true celebrate birthday .', 'must take place ; plan must succeed . truth ; truth need hesitate , fear , bend . “ will ” superfluous . grace ever available devote steady love faith . since move freely among , talk sing , even intellectuals unable grasp truth , power , glory real task avatar . solve problem however knotty . beyond reach intensive enquiry meticulous measurement . recognise love experience love assert glimpse reality , path love royal road lead humankind . attempt know external eye . temple stand image , pray close eye , ’ ? ? feel inner wisdom alone reveal . therefore , crave trivial material object crave reward . receive whatever object give sign grace fullness love . shall tell give ring , talismans rosaries . signalise bond give . calamity befall , article come flash return flash take remedial grace protection . grace available call name form , merely wear gift . love bond win grace .', 'consider mean name baba . mean “ divine ” . mean “ mother ” baba mean “ father ” . name indicate divine mother father , sāmbashiva , also mean divine mother father . physical parent exhibit love dose selfishness “ mother father ” shower affection reprimand lead toward victory struggle selfrealisation . come order achieve supreme task unite entire humankind , family bond kinship , affirm illumine atmic reality order reveal divine basis entire cosmos rest , instruct recognise common , divine heritage bind human human , human animal rise divine , goal . embodiment divine love . love instrument . creature without love . lowest love least . self . atheists , though might dislike refuse , malarial patients dislike sweets diabetic patients refuse anything sweets . preen atheists , illness go , relish revere .', 'tell much truth , desire contemplate derive therefrom , inspire observe discipline lay progress toward goal selfrealisation , realisation shin hearts .', 'mean ahimsa either think , word deed , cause harm anybody . ahimsa signify ? merely refrain cause harm injury others . imply also refrain cause harm . harm oneself avoid harm others . ensure ? constantly examine whether conduct right wrong . instance , matter speech , must examine whether word cause pain others . must look taint evil intentions thoughts . listen evil talk . hence everyone give room look , hear , speech , thoughts action .', 'also careful regard food . excessive eat violence body . moderation conducive happiness . ahimsa thus confer happiness . realize everyone , practice nonviolence .', \"ahimsa paramo dharma - ahimsa meritorious deed . violence alternate name truth love . follow nonviolence , achieve love . follow path nonviolence , necessary change mental attitude . nobody harm mind , body speech . purity think , word deed , serve even 's enemies . overwhelm jealous goodness . humility main quality want mantle nonviolence .\", 'rukmini . krishna weigh balance , jewel sathyabhama could balance weight . rukmini come declare mere chant name krishna would equal weight . additional offer leaf , flower little water , scale tilt balance krishna ’ weight . say place tulasi ( type basil plant consider sacred india ) leaf scale . ! go . tulasi leaf carry full weight rukmini ’ boundless love krishna . jewel sathyabhama avail . rukmini ’ invoke name krishna offer tulasi leaf lovefilled heart tilt scale , balance krishna ’ weight . power lord ’ name lovefilled offer lord .', 'love must bind believers together . jesus love . sathya love . explain gather christians sects , . rome today , catholics gather celebrate advent jesus . protestants celebrate church . jews welcome anywhere . presence sathya , equally welcome . jews arraign jesus demand punish . presence [ sathya baba ’ presence ] , jews adore jesus . prema sathya transform transcend memories . make realise caste , caste humanity . religion , religion love . moments , drucker speak jesus christ . courage wisdom offer homage christ impact swami ’ presence . understand omnipresent . name form different naturally aspects . love must bind believers together . believers nonbelievers must love serve image . love must manifest sevā . sevā must take form food hungry , solace forlorn , consolation sick suffer . jesus wear sevā . heart full compassion temple . jesus plead compassion . compassion message . sorely distress sight poor . jesus worship teach neglect . worship teach neglect . everywhere , pomp , pageantry , hollow exhibitionism . lecture , lecture , lecture ! activity , love , sevā . heroes lecture , zero put say practice . develop compassion . live love .', 'good , good good .', 'acquire love love . love unity diversity experience . kind unity love witness prasanthi nilayam nowhere else . myriad pair eye . larger gather elsewhere eye crowd direct different directions . eye everyone , young , , women children , turn towards direction . look anyone ’ face . eye turn towards swami . reason ? love .', 'caste , caste humanity . religion , religion love . language , language heart . basic ideals follow , room petty differences mutual recrimination', 'desire anything . three ’ . purity . second patience . third perseverance . three secure world ’ regard . invitations issue gather .', 'swami ’ love alone attract like magnet .', 'examine carefully texts scriptures deal indian culture traditions . find whether mention liberation ( moksha ) highest realization available indians others . produce single statement line ? emphatically assert . indian spiritualism limitless vastness immensely high ideals ; full stream sanctify ideations , flow along decline diminution , straight smooth ocean divine grace . journey direct , along royal road toward supreme goal .', 'another point : source spiritual principles recognize revere indians ( bharathiyas ) ; support pillar . therefore , support need faith . ancient indian spirituality foundation faiths ; stand summit . achieve victory many oppose faiths , confront many valid arguments theories . indians need follow religion spiritual discipline besides , nowhere else secure discipline truth exist herein . faiths adopt beliefs principles place people ideals adopt .', 'bear mind : indian ( bharathiya ) texts spirituality ancient whole world ; earliest study discoveries atma , personal impersonal , cod conduct , individual social , base revelations discoveries . country , among people , ancient teach see light . misty ideas brief glimpse , deserve name “ spiritual text ” “ literature ” . vedic literature picture spiritual inquiries sag spiritual aspirants result also line think , yearn aspirations , secular struggle temporal problems .', 'find impossible love adore unless meditate form ; essential breathe sheer live . necessary stage process live . accept . childhood father . condemn childhood teenage evil ? experience divine principle , idol worship great help many . aspirant practitioner spiritual discipline condemn idol worship pass stage derive benefit ? would indeed wrong inappropriate .', 'ego-self ( jivi ) identify divine atma , death cease . ego-self identify merge bliss , sorrow cease . merge spiritual wisdom ( jnana ) , error cease . “ material individualness bear delusion ; body , create impression , ever-evolving atom boundless ocean ; second entity form , namely , embody self ; mine merge divine self , delusion disappear upsurge opposite , supreme knowledge. ” ’ think mature process time , undoubtedly school think reach conclusion .', 'self fullness bliss wholeness', 'unwavering . although many type spiritual practice , avail without love . love must unchanging circumstances . faith eldest pandava brothers , dharmaja , steadfast type . whether exile forest emperor , whether disrobe draupadi duryodhana ’ court abhimanyu kill battle , slaughter upapandavas ( aswatthama ) occurred—in situations , faith krishna never waver . firmly believe krishna sole saviour . time contemplate name krishna . whether emperor rule vast realm lose everything game dice , neither elate success depress defeat . primary trait pandavas cherish unflinching faith divine .', 'lord buddha . buddha confront woman full jealousy buddha great popularity buddha come towards express wish attack knife kill , buddha smilingly tell “ love demoness ” . surprise demoness think nobody would love change heart instantly . become dive surrender feet . anger beget anger jealousy beget jealousy . conquer sense unity love .', 'dharmaraja ’ onepointed devotion krishna . pandavas overcome trials tribulations faith . eldest pandavas , dharmaraja , mind always centre krishna . know onepointed , simpleminded devotion krishna . always think krishna even experience kinds difficulties exile . even children , upapandavas kill aswathama , give grief faith krishna . reign mighty emperor , feel elate overwhelm grievous ordeals . pandavas , lord come first , world next interest last . first , world , last “ ”', 'realise oneness atma experience infinite bliss—the bliss eternal .', 'kauravas different order priorities . first “ ” , world last , result lose everything . pandavas keep forefront , ultimately successful endeavour . transcend four purushārthas ( goals life ) . human love body , mind , buddhi ( intellect ) anthaḥ karaña ( inner instrument ) . love body end death body . love mind result bondage aberrations mind . love intellect result endless speculation enquiry . love anthaḥ karaña promote feel . encourage dualism ( separate human ) .', 'ancient culture bharat lay great emphasis understand unity diversity . possible love . love . love . cultivate love true spiritual practice . hold principle love firmly , become eligible attain state nondualism', 'human race human be different . example , flower belong jāti , mangoes neem seed . doubt tree belong jāti fruit flavour fruit vary . kinds taste correspond fruit various tree . understand underlie principle unity jāti . human race human be different . feel , thoughts behaviour pattern different . utter foolishness think annihilate jāti whole . possible kill individuals possible annihilate entire human race . human race true eternal . highly sacred . sign ignorance give room differences conflict without understand unity human race . recognise divinity human basis human unity .', 'want succeed life , develop love potent weapon . love enable ancient sag live harmony wild animals forest . power love . students today recognise power pure love . instead , immerse impure desire undermine precious live . gopikas exemplify highest purest form love . call parā bhakti , devotion lord .', 'higher knowledge acquire world atma jnāna ( knowledge self ) . nothing equal bliss come selfrealisation . attain egosense destroy prayerful submission divine . prayers must issue lips heart . prayers lips like telephone number call . reach person want . prayers heart like “ particular person call ” . straight .', 'always teach love , love love alone . describe love various ways . impossible . love form , namely form attraction . love confer bliss grace . love ; live love . worldly love artificial . human , ignorance , think happiness . human love negative . direct love towards positive principle . never change .', 'always teach love , love love alone . describe love various ways . impossible . love form , namely form attraction . love confer bliss grace . love ; live love . worldly love artificial . human , ignorance , think happiness . human love negative . direct love towards positive principle . never change .', 'name consist five letters—k , , , , a—which represent pancha bhūtas ( five elements ) , pancha prāñās ( five life force ) pancha koshas ( five life sheaths ) . krishna interpret karshati krishna ( attract krishna ) . krishiti krishna ( krishna plougher ) . , krishna plough field heart sow seed love . krushyati krishna ( impart bliss , call krishna ) . thus divinity krishna perceive every place activity .', 'world everything suffuse divinity . divinity nothing exist . even cloth ( handkerchief ) divine . flower divine . everything divine . divinity cloth , desire . love pervade everything . make every effort understand . human heart full love . many students write , “ swami , love ” . symbol hridaya denote love . mean hridaya fill love compassion . hridaya form . īshwara sarva bhūtānam ( dwell be ) ; ishāvāsyam idam jagat ( permeate entire universe ) ; sarvam khalvidam brahma ( verily brahman ) . share love fellow be also bird beasts . stand unite . consider entire universe single family .', 'consider entire universe single family', 'lord krishna embodiment love .', 'today find disturbance unrest world . reason human lack broadmindedness . expansion love human be . contraction love . narrowmindedness human ’ creation . try limit infinite atmic principle .', 'love feel nonviolence', 'practise human value . prema ( love ) basis value . action love right conduct . speak love become truth . think love result peace . understand love lead nonviolence . everything love primary . love place hatred', 'ahimsa ( nonviolence ) another phase sathya ( truth ) . aware kinship , oneness , fundamental atmic unity , knowingly cause pain distress another . ( nonviolence ) mean merely injure live . cause hurt even word , look , gesture . tolerance , fortitude , equanimity - help steady ahimsa . dacoit ( thief ) cut hand , himsa ( violence ) ; doctor amputate , save life ahimsa ( nonviolence ) . krishna want peace world , encourage battle forty lakhs people kill . call himsa ( violence ) ahimsa ( nonviolence ) ? even , krishna give appropriate answer . say : arjuna ! take case cancerous growth body , cancerous growth give pain whole human body , although growth confine localize area . battle , operation , forty lakhs disease-causing germs kill benefit world . good world ? . generally think ahimsa ( nonviolence ) mean cause harm live . ahimsa . even vision hear talk himsa ( violence ) .', 'real santhi ( peace ) depths spirit , discipline mind , faith base seem multiplicity . secure , like gold : variety ornament make . easily detach activity ; mind cling thing . make cling , things leave success failure thing do , loss profit , elation dejection . secret santhi contentment . things go value ; alone become cheap . become cheaper animals ; slaughter millions without qualm terrific growth anger , hate greed ; forget unity , be worlds . contemplation unity alone establish world peace , social peace peace individual . think , speak , act along virtuous line , conscience clean inner peace . knowledge power , say ; virtue peace . exactly peace ? stage sense master hold balance .', 'righteousness heart , beauty character . beauty character , harmony home . harmony home , order nation . order nation , peace world .', 'righteousness heart , beauty character . beauty character , harmony home . harmony home , order nation . order nation , peace world .', 'zenith human value nonviolence . truth , right conduct , peace , love merge nonviolence . nonviolence state mind recognise unity within apparent diversity . manifest nonviolation laws nature respect order . call restraint harm others nature general . nonviolence root forbearance , morality , integrity . ethics nonviolence embrace mean world peace global harmony', 'nonviolence call restraint harm others nature general . nonviolence root forbearance , morality , integrity . ethics nonviolence embrace mean world peace global harmony', 'human value love best express energy permeate life . , emotion passionate feel desire attachment . refer something much deeper , basic human nature . totally unselfish independent whether reciprocity . great religions extol importance love . kindness , care , empathy , compassion . love passive , active , grow , sathya baba would , “ give forgive ” .', 'everyone desire seek peace . last peace find material world . peace require capacity introspection self-awareness . self-awareness enable become mindful thoughts , word deeds . self-awareness become habit , individual begin monitor modify habitual pattern think obstruct peace within . true peace require inculcate equanimity , regardless loss gain , success failure , pain pleasure . quiet mind open heart essential acquire peace . quiet mind require application discipline take time look inward experience silence within', 'component sathya education assertion ultimate universal truth , express multitude ways . ascertain many paths , name , form , truth always . different religions spiritual orientations offer rich variety approach , afford seekers ability choose basis inclination . example , truth approach path wisdom ( rational think knowledge ) . approach path intense devotion towards symbol divinity approach selfless service . truth also find expression nature , , music , poetry , ancient scriptures faiths , scientific discipline . increasingly , various scientific discipline show compatibility science spirituality . science reveal matter nothing energy energy matter . sub-atomic particle physics many common assumptions spirituality point existence force constantly dissolve , preserve , create . ultimately , however , truth find within . pursuit truth require discrimination , intuition , introspection . highest truth changeless past , present future', 'right conduct speak root sanskrit word , dharma . though dharma literal translation english , say encompass total cod ethics , ethical behaviour , moral rectitude . injunction , “ good , good , good , ” capture essence intent value . root attitudes habit inculcate early childhood mature respect adherence duties responsibilities come ’ life circumstances . sathya baba ’ ‘ ceiling desire ’ programme , important aspect sathya education , easily apply expression right conduct . place ceiling ’ desire involve make conscious sustain effort waste food , water , time , energy money . adopt code conduct long towards reduce tragic imbalance exist ‘ have have-nots ’ world .', 'exactly truth ? description thing see without exaggeration understatement ? . , narration incident word hear narrate ? . truth elevate . hold forth ideals . inspire individuals society . light illumine ’ path .', 'good education teach method achieve world peace ; destroy narrow-mindedness promote unity , equality , peaceful co-existence among human be', 'rainbow form dispersion single pure white raindrops . symbolise multiplicity nature cause prism mind . diversity five elements creation origin pure divine light within . revelation truth educare .', 'word educare origin latin word , ‘ educare ’ , mean ‘ elicit. ’ educare aspects , worldly spiritual . worldly education bring latent knowledge pertain physical world . spiritual education bring inherent divinity . , worldly spiritual education essential , without human life value .', 'truth quest knowledge , spirit enquiry , truthfulness , discrimination againt evil think', 'right conduct cleanliness , courage , determination , duty , honesty , service others', 'peace calmness , endurance , purity , self-discipline , self-respect', 'nonviolence awareness responsibility citizenship , compassion , consideration others , harmlessness , helpfulness , justice', 'love care , devotion , empathy , forbearance , friendship , selflessness', \"today , anyone , whether deem devotee , give meat eat . ? meat eat promote animal qualities . well say food consume determine 's thoughts . eat flesh various animals , qualities animals imbibe . sinful fee animals , sustain five elements human be ! lead demonic tendencies , besides commit inflict cruelty animals . hence , genuinely seek become devote give non-vegetarian food .\", 'call devote devote rama krishna , fatten chickens . deem devote ? accept person devotee ? therefore , whether devote india outside , give instant meat eat . therefore , aspire become devote must give meat , liquor smoke', 'violence form evil kill innocent animals tantamount blatant savagery . bless prime minister ( india ) expect things accomplish furing tenure', 'stress vital importance people give habit eat non-vegetarian food even boyhood days . meat eat foster animal qualities make descend demoniac level ; heart-rending sight cow slaughter serve food . worship mother bharat since ancient time . cow-slaughter reougnant culture country . provision drink water people put kill animals food prime need country regain pristine glory .', 'significant note live vegetarian food less prone diseases , whereas non-vegetarians subject diseases . ? animal food incompatible need human body .', 'see noble qualities , easwaramma realize child ordinary , divine nature . eldest daughter venkamma also recognize divine nature child . together , bring child love care', 'mother easwaramma look child [ sathya narayena raju ] love care . days roll child grow . mithabhashi mithaahari ( speak less less ) . easwaramma mystify strange behavior . usually children fond eat . especially people would prefer non-vegetarian items like fish meat . totally averse non-vegetarian food . would even visit house non-vegetarian food cook .', 'order sacred thoughts , give vices like consumption non-vegetarian food , smoke drink intoxicants .', 'certain habit . members organization good habit . jaisa anna , vaisa mann - food , think . feel experience - bhavam bhavati . partake food proper . food sort durguna , duralochana duschinta- habit , thoughts . give smoke . also eschew drink . alcoholism smoke ruin health . without health achieve small thing . meat eat also . partake animal food , develop animal qualities . food , head . regulation food . fourth gamble . spiritual field immediately give smoke , drink , meat eat gamble . four qualities . take meat eat . many people kill animals non-vegetarianism . responsible death animals . kill . . kill innocent animals .', \"time birth till time body perish , make many attempt earn money acquire food . process amass wealth , adopt mean methods adopt also bird animals . matter acquire food , different kinds strength , abilities skills use skills use animals bird well . right knowledge skill animals bird also . process spend energies acquire food , go away aspect atma . purpose feed , many live sacrifice . process search food , many things like tree , bird , fish animals sacrifice . various live things sacrifice merge human be , also acquire human live rebirth . none jivas get chance rise higher human live . entire life spend make effort reborn 's death , thus repeat cycle birth death . become slave process birth death . allow become slave process . make attempt become great effulgent spirit .\", 'hence , meat eat discarded.food condition nature mind . mind guide think . think result action . action lead commensurate match result effect . chain action food result action highlight fact meat eat lead beastly action concomitant evil effect .', 'sacred vijaya dasami take oath give vices smoke , drink partake non-vegetarian food . many realize evil-effects habit . smoker blow white handkerchief , find yellow spot . sign disease . smoke lead cancer . drink demonic quality . make intoxicate forget . consume non-vegetarian food also quality . human body make flesh , need consume flesh bird animals ? partake sacred food . sacred feel . sacred thoughts sacred deeds , sacred food essential .', 'tongue engage speak truth , speak sweetly consume pleasant wholesome body . degrade consume intoxicate drink non-vegetarian food indulge smoke . noxious habit affect brain also .', 'nature modify nurture ; even dog cease relish meat train relish vegetarian food', 'fact plant also life like animals . animals endow mind , nervous systems plant possess . animals weep kill . case plant ; , equate kill animals destruction plant faulty logic . , kill animals eat flesh lead creep dissemination animal qualities behavior ( mean acquire beastly qualities eat animal flesh ) . thus follow acquire beastly qualities - tamasic nature - buffalo sheep .', \"act food eschew . nishidda karmas . relate act eschew . instance , spiritual aspirant observe certain regulations regard food . must totally eschew rajasic food like alcoholic drink meat . nature food determine nature ' thoughts , feel action . ' conduct right proper , carefully observe discipline regard diet .\", \"vedhaantha declare mind cause ' bondage liberation . mean mind use properly turn godwards . equally mind responsible health sickness . context , food important . proteins present milk , curds vegetables much meat . matter diet , doctor give right prescription , diseases avert\", 'regulations regard food . many doctor emphasize value proteins recommend meat , egg , . proteins form serve build body , considerable harm mind . doctor primarily concern gross physical body . little attention subtle form mental makeup . diseases prevalent world today relate mind . mental illness seem outnumber physical ailments .', 'meat right concentrate body want strength , spiritual aspirants good .', 'misunderstand misinterpret . duty convey truth exist . today reason human population increase attitude people . live fill small tummy , create plenty world . create large amount rice , large amount fruit , alrge amount wheat . good food create good , meat fish . fish kill reborn human be', \"meat alcoholic drink take heavy toll 's health , cause many disease\", 'third need satwic food . mean none edible items excessively sour , bitter . eschew rajasic food like fish meat . even good satwic food take excess . people consume much satwic food even though satwa , develop rajasic qualites . satwic meal light stomach light stomach ! light stomach weighty stomach , become ramona .', \"third category describe `` madhyapaanoratha daanavah '' ( addict intoxicate drink meat eat lead sensuous life demonic ) . person intensely selfish feel consideration others . wicked person , sway evil motives evil action , describe demon .\", 'meat body proteins , mental proteins . keen spiritual life , eat meat worthwhile ; keen wordly life , right . another spiritual reason . kill animal give suffer , pain , harm . every creature , give pain ? sometimes someone beat cry , feel much pain . much pain kill . animals come purpose supply food human be . come work life world . human dead , fox animals , come provide food human body ; come ourpose . similarly , eat animal , animal come provide food .', \"madhya paana ratho dushtah '' ( demonic human revel intoxicate drink ) . eat meat drink liquor demonic vices . indulge drink lose sense propriety , compassion love become demons\", \"individual transformation achieve ? habit among individuals smoke , drink liquor , meat eat gamble . habit degrade individuals also inflict hardships families . habit give individual manifest inherent goodness . 's personality blossom lead mora life .\", \"members organizations cultivate certain desirable practice . instance , regulate diet , 's food influence ones thoughts . smoke intoxicate drink give . ruinous health . meat eat also give eat animal food promote animal tendencies . fourth evil gamble . take spiritual path avoid much possible four practice .\", \"meat good spiritual life need `` mental proteins '' , also mean make animal suffer kill\", 'little milk , butter cheese acceptable harm do obtain', \"important aspect swami 's teach , point emphasize , take pure food . avoid eat animal food . type consumption likely promote spiritual progress\", 'good company lead detachment ; detachment make free delusion . freedom delusion lead steadiness mind ; steadiness mind confer liberation .', 'always happy peaceful . live like members family , love affection . weigh petty difficulties suffer . give scope worry . even wife children suffer disease , perturb . back place firm faith everything turn good . lead happy peaceful life .', 'body like water bubble . mind like monkey . ’ follow body . ’ follow mind . follow conscience .', 'good company lead detachment ; detachment make free delusion . freedom delusion lead steadiness mind ; steadiness mind confer liberation .', 'atma embodiment eternal bliss , wisdom absolute , beyond pair opposites , expansive pervasive like , goal indicate mahavakya tatwamasi , without second , eternal , pure , unchanging , witness function intellect , beyond mental condition three attribute satwa , rajas tamas . mind alone responsible sorrow difficulties , well happiness , human be . several people consider mind call monkey mind . opinion , monkey mind , mankind . always kind . mind give happiness . also mind cause worry sorrow . keep mind proper state , nothing . consider mind also divine . always happy .', 'today , wherever look find hatred differences opinion among people . fact , differences real sense . appear differences secular life . spiritual angle . strictly speak , zero hero . alone . others zero stand next . reason acquire value . remove , reduce mere zero ! hence , important entity life .', 'forget . fact , forget amount forget . hence , forget . reason advise , “ always careful ” . must constantly inquire , “ forget ? ” must always aware true nature remind , “ ” . firmly establish truth , scope entertain evil thoughts others .', 'creation emerge truth merge truth . place cosmos truth exist ? visualise pure unsullied truth .', 'always happy peaceful', \"interfere others ' business unless ask . create problems interfere often others ' affairs . somehow convince best , logic perfect logic , conform think must criticize steer right direction , direction . kind attitude part deny existence individuality consequently existence , create unique . human be think exactly . women prompt divine within . look everything . bother ? mind business peace .\", 'forget forgive . powerful peace mind . often nurture feel inside heart person insult harm . foster grievances , turn result loss sleep , develop stomach ulcer , high blood pressure many ailments stealthily gnaw within . forget insult injury do nourish grievance excavate wind forever . therefore essential cultivate forgive forget . believe justice doctrine karma . judge insult . life short waste trifle . forget , forgive , march .', \"crave recognition . world full selfish people . seldom praise anybody without selfish motive . praise today rich power sooner powerless , forget achievement start criticize . moreover , person mortal bundle defect . individual picture perfect . value word praise another mortal like ? crave false recognition lose peace mind world praise ? believe . people 's praise last long worth . duties ethically sincerely leave rest .\", \"jealous . experience jealousy disturb peace mind . know work harder colleagues office , promotions , . start business several years youare successful neighbor whose business year . several examples like every walk life . jealous ? , remember everybody 's life shape previous karma become destiny . destine rich , world stop . destine , help either . nothing gain blame others misfortune . jealousy anywhere , give restlessness .\", 'change accord environment . change environment single handedly , chance fail . instead , change suit environment . , even environment , remain unfriendly , mysteriously appear congenial harmonious', \"endure cure . best turn disadvantage advantage . every face numerous inconvenience , ailments , irritations accidents beyond control . must learn things . must learn endure cheerfully think , `` , '' . 's logic beyond comprehension . believe gain patience , inner strength , power .\", 'bite chew . maxim always remember . often tend take responsibilities capable carry . do satisfy . know limitations . take additional load create worry ? gain peace mind expand external activities . extra time , spend inwardlife prayer , introspection meditation . reduce thoughts mind , make restless . fewer thoughts , greater peace mind .', 'meditate regularly , meditation make mind thoughtless . highest state peace mind . experience . meditate earnestly half hour every , tend become calm remain twenty-three half hours . mind disturb much . must gradually increase period daily meditation . think interfere daily work . contrary , increase efficiency turn work less time', \"never leave mind vacant.empty mind devil 's workshop . evil deeds start mind . keep mind occupy something positive , something worthwhile . actively follow hobby . something hold interest . mustdecide value - money peace mind . hobby , like social work temple work always earn money , sense fulfillment achievement . even rest physically , occupy healthy read mental chant 's name .\", \"procrastinate never regret . waste time wonder `` n't ? '' days , weeks , months years waste futile mental debate . never plan enough never anticipate future happen . always remember plan . value time things . matter fail first time . rectify mistake succeed next time . sit back worry lead nothing . learn mistake brood past . regret ! whatever happen destine happen . take . power alter course 's . spill milk ?\", 'speech offend , truthful , pleasant beneficial , practise', 'even speak truth , inflame passion , diminish enthusiasm inflict injury', 'utter truth . please . never tell truthful unpleasant . mean speak untruth please . speak truth likely hurt person ’ feel . every speak truth , truth please .', 'speech , word cause excitement , true , please well-meaning', 'ahimsa : primary duty', 'buddha attach great importance ahimsa . consider foremost dharma ( duty ) . ‘ ahimsa paramo dharmah ’ , declare buddha . ahimsa signify ? merely refrain cause harm injury others . imply also refrain cause harm oneself . harm oneself avoid harm others . whoever desire observe ahimsa must violence . ensure ? constantly examine whether ’ conduct right wrong . instance , matter speech , must examine whether ’ word cause pain others . must ’ look taint evil intentions thoughts . listen evil talk . cause harm individual', 'hence , everyone give room look , hear , speech , thoughts action . determine ? consult ’ conscience . whenever act diktats ’ conscience , result follow . conscience form divine within everyone . whatever , conscience tell whether right wrong . however , ascertain directive conscience wait time . hurry . want something , must consider moment whether would proper speak . want listen something , must examine whether good listen decide proper .', \"careful regard react five elements , also regard food . excessive eat violence body . moderation food conducive happiness . ahimsa ( nonviolence ) thus confer happiness . hurt himsa ( violence ) . . even drinking/using water , observe restraint . likewise , 's entire life govern principle nonviolence . many germs take bath walk action . even process breathe many germs . violence present activities . therefore , avoid consequences involuntary violence live creatures , advise dedicate action divine . , mean dedicate divine , conscious act violence . conscience approve conduct . vedantic parlance , conscience call ‘ chit ’ . also call ‘ awareness ’ . awareness total understand . total understand within capacity every human . everyone must strive express awareness . thus , ahimsa primary duty .\", \"ahimsa '' signify ? merely refrain cause harm injury others . imply also refrain cause harm . harm avoid harm others . whoever desire observe `` ahimsa '' must violence . ensure ? constantly examine whether conduct right wrong . instance , matter speech , must examine whether word cause pain others . must look taint evil intentions thoughts . listen evil talk . cause harm individual . hence , everyone give room look , hear , speech , thoughts action . ''\", ', mean nonviolence ? people consider hurt harm others violence . , ! harm also violence . talk unnecessarily , eat immoderately , work much - violence . mean , lead life moderation balance . anything do beyond limit violence .', 'mean merely injure live . cause hurt even word , look gesture . tolerance , fortitude , equanimity - help steady ahimsa . remove chance cause pain others . call sahana ( forbearance ) kshama ( forgive ) .', 'ahimsa paramodharmah ( nonviolence supreme dharma ) . cause hurt others speech , action . accord , true dharma ( righteousness ) consist refrain cause harm anyone think , word deed .', 'proclaim , know know various name form . declare instal heart every . look emblem sathya organisation ! tell hindu , muslim , parsi , buddhist christian adore consummation.a heart saturate love never entertain thoughts violence .', 'want five human value , mankind throes distress disaster . morning newspaper full murder , massacre , arson dacoit activities . brain mind pollute dangerous extent . education aim provide information promote skills . tackle problems moral degeneration , sublimation desire , sense control development spiritual insight . convert brute human form .', 'hundred eye watch every word deed discover whether master human value whether practise . , important , , universal watcher , witness weigh every think , word deed . examine judge able acquire self-satisfaction sincerity serenity . prove humanness practice value , unique qualities .', 'consult conscience . whenever dictate conscience , result follow . conscience form divine within everyone . whatever , conscience tell whether right wrong… hurt ahimsa ( violence ) .', \"even drink water , observe restraints . likewise , 's entire life govern principle nonviolence . many germs take bath walk action . even process breathe many germs . violence present activities . therefore , avoid consequences involuntary violence live creatures . advise dedicate action divine .\", 'advise dedicate action divine . mean dedicate divine conscious act violence . conscience approve conduct . vedic parlance , conscience call chit . also call awareness . awareness total understand . total understand within capacity every human . everyone must strive express awareness . thus , ahimsa primary duty', 'today unrest violence grip world , sathya dharma decline hearts people . find outside nothing reflection , reaction resound inner feel . human life highly sacred , precious divine . fritter away life indulge unsacred activities .', 'immanent every equal measure . , must visualize equally others . , see . , injure others fear come harm others ? basis indian ideal ahimsa . world-transforming truths embed ancient texts , even inside head help ; practice , steadily faith .', 'omnipresent', 'advise dedicate action divine .', 'even speak truth , inflame passion , diminish enthusiasm inflict injury', 'utter truth . please . never tell truthful unpleasant . mean speak untruth please . speak truth likely hurt person ’ feel . every speak truth , truth please .', 'speech , word cause excitement , true , please well-meaning', 'ahimsa : primary duty', 'buddha attach great importance ahimsa . consider foremost dharma ( duty ) . ‘ ahimsa paramo dharmah ’ , declare buddha . ahimsa signify ? merely refrain cause harm injury others . imply also refrain cause harm oneself . harm oneself avoid harm others . whoever desire observe ahimsa must violence . ensure ? constantly examine whether ’ conduct right wrong . instance , matter speech , must examine whether ’ word cause pain others . must ’ look taint evil intentions thoughts . listen evil talk . cause harm individual', 'hence , everyone give room look , hear , speech , thoughts action . determine ? consult ’ conscience . whenever act diktats ’ conscience , result follow . conscience form divine within everyone . whatever , conscience tell whether right wrong . however , ascertain directive conscience wait time . hurry . want something , must consider moment whether would proper speak . want listen something , must examine whether good listen decide proper .', \"careful regard react five elements , also regard food . excessive eat violence body . moderation food conducive happiness . ahimsa ( nonviolence ) thus confer happiness . hurt himsa ( violence ) . . even drinking/using water , observe restraint . likewise , 's entire life govern principle nonviolence . many germs take bath walk action . even process breathe many germs . violence present activities . therefore , avoid consequences involuntary violence live creatures , advise dedicate action divine . , mean dedicate divine , conscious act violence . conscience approve conduct . vedantic parlance , conscience call ‘ chit ’ . also call ‘ awareness ’ . awareness total understand . total understand within capacity every human . everyone must strive express awareness . thus , ahimsa primary duty .\", \"ahimsa '' signify ? merely refrain cause harm injury others . imply also refrain cause harm . harm avoid harm others . whoever desire observe `` ahimsa '' must violence . ensure ? constantly examine whether conduct right wrong . instance , matter speech , must examine whether word cause pain others . must look taint evil intentions thoughts . listen evil talk . cause harm individual . hence , everyone give room look , hear , speech , thoughts action . ''\", ', mean nonviolence ? people consider hurt harm others violence . , ! harm also violence . talk unnecessarily , eat immoderately , work much - violence . mean , lead life moderation balance . anything do beyond limit violence .', 'mean merely injure live . cause hurt even word , look gesture . tolerance , fortitude , equanimity - help steady ahimsa . remove chance cause pain others . call sahana ( forbearance ) kshama ( forgive ) .', 'ahimsa paramodharmah ( nonviolence supreme dharma ) . cause hurt others speech , action . accord , true dharma ( righteousness ) consist refrain cause harm anyone think , word deed .', 'proclaim , know know various name form . declare instal heart every . look emblem sathya organisation ! tell hindu , muslim , parsi , buddhist christian adore consummation.a heart saturate love never entertain thoughts violence .', 'want five human value , mankind throes distress disaster . morning newspaper full murder , massacre , arson dacoit activities . brain mind pollute dangerous extent . education aim provide information promote skills . tackle problems moral degeneration , sublimation desire , sense control development spiritual insight . convert brute human form .', 'hundred eye watch every word deed discover whether master human value whether practise . , important , , universal watcher , witness weigh every think , word deed . examine judge able acquire self-satisfaction sincerity serenity . prove humanness practice value , unique qualities .', 'consult conscience . whenever dictate conscience , result follow . conscience form divine within everyone . whatever , conscience tell whether right wrong… hurt ahimsa ( violence ) .', \"even drink water , observe restraints . likewise , 's entire life govern principle nonviolence . many germs take bath walk action . even process breathe many germs . violence present activities . therefore , avoid consequences involuntary violence live creatures .\", 'advise dedicate action divine . mean dedicate divine conscious act violence . conscience approve conduct . vedic parlance , conscience call chit . also call awareness . awareness total understand . total understand within capacity every human . everyone must strive express awareness . thus , ahimsa primary duty', 'today unrest violence grip world , sathya dharma decline hearts people . find outside nothing reflection , reaction resound inner feel . human life highly sacred , precious divine . fritter away life indulge unsacred activities .', 'omnipresent ; immanent every equal measure . , must visualize equally others . , see . , injure others fear come harm others ? basis indian ideal ahimsa . world-transforming truths embed ancient texts , even inside head help ; practice , steadily faith .', 'truth , enough ; righteousness follow . truth righteousness together like positive negative , peace ; peace love . scope violence human surcharge current love . today , violence rampant everywhere . people suffer sorrow difficulties . hence , must strive cultivate innate human value .', 'suffuse love , selfishness approach . hence , develop love . love divine . able develop love , nonviolence come accord . love , trace violence', 'regard ahimsa , context industrial management , wider social mean merely avoid cause harm others . avoidance pollution atmosphere natural resources like rivers ways enterprise practise ahimsa .', \"thamas depict black . symbolise darkness ignorance . rajo guna , rouse anger hatred person , excite blood turn eye , represent colour . sathwa guna , characterise purity dedication , represent white colour . everyone world creature three gunas . 's action base gunas .\", 'service divine , cultivation bhakti ( devotion ) virakthi ( detachment ) transcend three gunas . purpose , acquire three qualities : anasakthi ( desirelessness ) , virakthi ( detachment ) upeksha ( equanimity ) . anasakthi absence desire except desire .', 'forgiveness truth , dharma , essence veda , nonviolence yajna ( holy sacrifice ) , source everything else .', 'confront problems difficulties upset , become victims depression , sign weakness . situation , bring tolerance attitude forgiveness play agitate give rise anger , hatred revengeful attitude . quality kshama ( forgiveness ) greatest power human . lose quality , become demonic', \"inner mean seek lord 's feet thereby lord forgive sin penitent . mere hold feet enough . must genuinely repentant declare commit similar offences . secure atonement .\", 'speak truth .', 'practice dharma .', 'observe nonviolence .', 'anger , desire , greed , attachment , pride jealousy unbecoming human .', 'happiness find things world . everything fleet . waste life pursuit petty ephemeral pleasures . nirvana truth . sense oneness life . turn mind towards permanent nirvana', \", give everything turn renunciant . significance step ? buddha declare : `` sangham sharanam gachchami '' , ( hand society , head forest . ) renounce everything think promote welfare society . declare : `` dharmam sharanam gachchami . '' dharma ? `` ahimsa paramodharmah . '' dharma mean cause harm anyone .\", 'suddhodhana try protect external worldly influence keep palace even send school . happen ultimately ? buddha decide renounce everything quest truth human existence declare ahimsa ( harm ) supreme good .', 'people need today ? three things : heart pure white like moon , speech soft sweet like butter , face love kind . lack world today . entire atmosphere frighten . harshness speech . softness heart . heart pure soft like butter . today , contrary , people hardhearted . fill hearts compassion . speech sweet truthful . truly human .', 'buddha teach great truth world . declare vedas scriptures constitute truth . people bear mind non-harming supreme virtue . cause harm anyone think , word deed . tongue give utter truth .', 'sita happy panchavati , almost every rama lakshmana indulge violence . , lakshmana away collect fruit tubers , sita approach rama say , “ lord , desire commit three evils : utter falsehood , eye ladies , commit violence . certainly , free first evils . firmly believe never utter falsehood , embodiment truth . ”', 'rama felt happy word sita say , “ certainly qualification describe virtuous person wife . sita , happy recognise affinity truth. ” sita continue , “ also free weakness look wive others . another great virtue . appreciate commit violence beasts demons . demons harm . ”', 'rama smile word say , “ sita , though speak truth , conduct consonance promise give sag aspirants . bind duty stand promise . though demons harm personally , subject devote untold suffer . ruthlessly disturb sacrifice perform sag . sag perform sacrifice welfare well-being mankind . resort violence wellbeing mankind. ” sita realise mistake seek forgiveness rama touch feet . conduct sita consonance scriptural injunction : wife advise husband well indulge evil ; like minister advise king properly . fact , women follow example mandodhari , always struggle mend ways husband , ravana', 'meditation : light meditation candle send ray heal love light oneself , friends , people world , especially feel conflict trouble . imagine uphold world send love light , universe , become purpose .', 'thoughts , feel , desire activities must move brahman ( universal absolute ) . , whatever speak , whatever see , must cognise brahman . real brahmacharya stage , merely observe certain discipline control sense mind . next discipline ahimsa ( absence violence ) . mean merely injure live . cause hurt even word , look gesture . tolerance , fortitude , equanimity - help steady ahimsa . remove chance cause pain others . call sahana ( forbearance ) kshama ( forgive ) . assess worth whatever others , cultivate fortitude understand appreciate behaviour pardon fault . capacity invaluable truth , righteousness , wisdom , nonviolence , renunciation , delight compassion . need possess spiritual advancement .', \"live become glorious experience sweeten tolerance love . willingness compromise others ' ways live cooperation common task . make live happy fruitful . certain modes behaviour lay prove beneficial centuries practice . observe modifications suit condition today . develop department life , pity develop unique qualities human be .\", \"rajendra prasad good servant name rathna exceptionally faithful serve long time satisfaction master . ask clean room . rajendra prasad keep give mahatma gandhi , book . servant clean table book fell break . become nervous tell master truth beg pardon mistake . hear , rajendra prasad shout rage ask show face highly valuable gift mahatma , break . servant plead could survive without seek forgiveness . rajendra prasad mood listen go bid servant sight . night , rajendra prasad could sleep memory drive away servant haunt . next morning miss usual morning coffee , rathna would usually serve . reflect behaviour felt sorry send faithful servant fault . realise mistake keep carelessly book instead keep safe place . send word rathna take back seek pardon say : `` rathna good . mistake keep book . must excuse rash action . '' ask continue serve till life . anger come temper inside yield bout temper bind suffer . control anger avoid talk act angry mood .\", 'find anger rise within , ( follow ) : withdraw place pass time cool emotions . drink glass cold water quietly place . take brisk walk mile anger . stand mirror look face .', 'methods , anger gradually come . , however , stay near person provoke anger , limit anger lead to.owing anger agitation blood get heat . take three months blood cool . within period , nerve become weaker even blood cells destroy . weakness aggravate memory power reduce . set prematurely . aberrations witness today among arise anger . entire daily life fill anger…', 'feel angry , hearty laugh . limit speech . much talk lead heat exchange word . lesson learn . cultivation peace keep anger check develop large-hearted love .', 'prema associate feel produce shanthi . prema animate action , result dharma . prema combine understand become ahimsa ( non-injury ) . therefore whenever feel angry , think prema ( love ) , develop thoughts love heart . peace .', 'develop human value . anger hatred demonic qualities . asooya ( envy ) worse either . must demonic qualities attune life dignity', 'women particular must guard , women capable make great sacrifice either good purpose . , make sacrifice good cause . develop good traits eschew evil . housewife good qualities , house become miniature paradise . mistress house indulge deeds , peace home . control tendencies quarrel petty differences , women behave like sisters , develop harmony mutual regard .', 'also learn behave like brothers , believe fatherhood brotherhood . young people realise nature action determine nature future .', 'action result consequences . moreover , year , advisable everyone practise virtue mounam ( reticence ) .control speech highly desirable . whatever thoughts arise mind , find expression word . say restraint speech give abundant peace . excessive talk harm mind . even restrain speech , sweetness .', 'organs body like eye , ears , limbs become jealous tongue , say make efforts secure food , tongue enjoy . strike work never send food ! tongue taste food pass palatable items food inside , convert internal organs energy give blood . tongue retain . vital part play tongue , organs would able function . organs become jealous tongue stop send food , view harm , spell ruin action , could function food . consequently , supply energy send organs function . similarly , jealousy part person ultimately result ruin .', 'organs body like eye , ears , limbs become jealous tongue , say make efforts secure food , tongue enjoy . strike work never send food ! tongue taste food pass palatable items food inside , convert internal organs energy give blood . tongue retain . vital part play tongue , organs would able function . organs become jealous tongue stop send food , view harm , spell ruin action , could function food . consequently , supply energy send organs function . similarly , jealousy part person ultimately result ruin . students must study drama shakespeare character always fill jealousy finally jealousy make weak forlorn . bhasmasura boon lord shiva severe penance person whose head keep hand reduce ash . finally , bring keep hand head .', \"buddha confront woman , full jealousy , great popularity . buddha come towards express wish attack knife kill , buddha smilingly tell `` love demoness . '' surprise demoness think nobody would love change heart instantly ; become dive surrender feet . anger beget anger jealousy beget jealousy . conquer sense unity love .\", 'happiness sorrow experience worldly life , inevitable like sunset sunrise . think year give better experience . correct . mind responsible pleasure pain . mind good find anything good . embodiments divine , nothing bliss . , folly part suffer pain grieve ? today find jealousy hatred dance like devil world . people jealousy hatred pursue wicked path bring ruin .', 'best example kauravas mahabhararatha . brothers dhuryodhana dhusshasana embodiments twin evils hatred jealousy . krishna tell dharmaja , eldest pandavas , kauravas surcharge evil qualities could never improve imbibe human qualities . karna embodiment join company , shakuni evil adviser add fuel fire . though dhuryodhana dhusshasana bear notable royal family , discard human qualities jealousy hatred bring ruin family clan . krishna add jealousy dangerous canker eat root tree life , hatred pest attack trunk tree . thus tree life completely destroy pests . kauravas victims pests seek ruin .', 'chief duty investigation truth . truth dedication devotion , dependent grace , shower hearts saturate love .', 'faith truth save long . stick regardless might befall .', 'experience truth alone foster love , truth all-embracing integrate , see distinctions . truth current love bulb illumine . truth , experience love ; love , visualize truth .', 'dharma characterize holiness , peace , truth fortitude . dharma yoga , union , merger ; sathya ( truth ) . attribute justice , sense control , sense honour , love , dignity , goodness , meditation , sympathy , non-violence : dharma persist age . lead universal love unity .', 'every profession , every stage life , gender , period life fix – childhood , boyhood , adolescence , youth , middle , – duties obligations , norm guide individual benefit society', 'practice preach , do , keep practice line precept . earn virtuously ; yearn piously ; live reverence , live attain ; dharma .', 'perform work actors would play , keep identity separate get attach role . remember whole thing play lord assign part . well part ; duty end . design play enjoy .', 'think , speak , act along virtuous line , conscience clean inner-peace . knowledge power , say . virtue peace .', 'things go value ; alone become cheap . become cheaper animals ; slaughter millions without qualm terrific growth anger , hate greed ; forget unity , be , worlds', 'contemplation unity alone establish world peace , social peace peace individual .', 'righteousness heart , beauty character . beauty character , harmony home . harmony home , order nation . order nation , peace world .', 'love think truth', 'love action right conduct', 'love feel peace', 'love understand nonviolence', 'must tell paramount importance love . love ; live love . embodiment perfect love . know realize , reach , love . moon help moonlight ; ray love .', 'earth huge enterprise , busy factory , product love . mean sadhana ( spiritual practice ) , possible produce love export millions millions people need . share , deeper grow , sweeter taste , greater . mean love , approach stay presence , love , live love live', 'live consciousness omnipresent atma , live love , love flow flood everyone else . cultivate love towards , gain nearness . measure distance term meter miles ; intensity love decide distance ,', 'ahimsa ( non-violence ) mean merely injure live physically . cause harm even word , look gesture . tolerance , fortitude , equanimity – help practice ahimsa steadily .', 'ahimsa another facet sathya ( truth ) . aware kinship be , fundamental atmic unity oneness , knowingly cause pain distress another .', 'evil – good . hear evil – hear good . speak evil – speak good . think evil – think good . evil – good . .', 'always love follow truth ; falsehood never beneficial .']\n"
     ]
    }
   ],
   "source": [
    "print(messages)"
   ]
  },
  {
   "cell_type": "code",
   "execution_count": null,
   "metadata": {},
   "outputs": [],
   "source": [
    "# load the pre-trained word-embedding vectors \n",
    "embeddings_index = {}\n",
    "for i, line in enumerate(open(r'C:\\Users\\425858\\wiki-news-300d-1M\\wiki-news-300d-1M.vec',encoding=\"utf8\")):\n",
    "    values = line.split()\n",
    "    embeddings_index[values[0]] = numpy.asarray(values[1:], dtype='float32')\n",
    "\n",
    "# create a tokenizer \n",
    "token = text.Tokenizer()\n",
    "token.fit_on_texts(trainDF['text'])\n",
    "word_index = token.word_index\n",
    "\n",
    "# convert text to sequence of tokens and pad them to ensure equal length vectors \n",
    "train_seq_x = sequence.pad_sequences(token.texts_to_sequences(train_x), maxlen=300)\n",
    "valid_seq_x = sequence.pad_sequences(token.texts_to_sequences(valid_x), maxlen=300)\n",
    "\n",
    "# create token-embedding mapping\n",
    "embedding_matrix = numpy.zeros((len(word_index) + 1, 300))\n",
    "for word, i in word_index.items():\n",
    "    embedding_vector = embeddings_index.get(word)\n",
    "    if embedding_vector is not None:\n",
    "        embedding_matrix[i] = embedding_vector"
   ]
  },
  {
   "cell_type": "markdown",
   "metadata": {},
   "source": [
    "### Machine Learning Algorithms"
   ]
  },
  {
   "cell_type": "code",
   "execution_count": null,
   "metadata": {},
   "outputs": [],
   "source": [
    "# Utility function to train models\n",
    "\n",
    "def train_model(classifier, feature_vector_train, label, feature_vector_valid, is_neural_net=False):\n",
    "    # fit the training dataset on the classifier\n",
    "    classifier.fit(feature_vector_train, label)\n",
    "    \n",
    "    # predict the labels on validation dataset\n",
    "    predictions = classifier.predict(feature_vector_valid)\n",
    "    \n",
    "    if is_neural_net:\n",
    "        predictions = predictions.argmax(axis=-1)\n",
    "    \n",
    "    return metrics.accuracy_score(predictions, valid_y)"
   ]
  },
  {
   "cell_type": "code",
   "execution_count": null,
   "metadata": {},
   "outputs": [],
   "source": [
    "#Naive Bayes on Count Vectors\n",
    "accuracy = train_model(naive_bayes.MultinomialNB(), xtrain_count, train_y, xvalid_count)\n",
    "print (\"NB, Count Vectors: \", accuracy)\n",
    "\n",
    "# Naive Bayes on Word Level TF IDF Vectors\n",
    "accuracy = train_model(naive_bayes.MultinomialNB(), xtrain_tfidf, train_y, xvalid_tfidf)\n",
    "print (\"NB, WordLevel TF-IDF: \", accuracy)\n",
    "\n",
    "# Naive Bayes on Ngram Level TF IDF Vectors\n",
    "accuracy = train_model(naive_bayes.MultinomialNB(), xtrain_tfidf_ngram, train_y, xvalid_tfidf_ngram)\n",
    "print (\"NB, N-Gram Vectors: \", accuracy)\n",
    "\n",
    "# Naive Bayes on Character Level TF IDF Vectors\n",
    "accuracy = train_model(naive_bayes.MultinomialNB(), xtrain_tfidf_ngram_chars, train_y, xvalid_tfidf_ngram_chars)\n",
    "print (\"NB, CharLevel Vectors: \", accuracy)\n",
    "\n",
    "# WordEmbeddings wiki-news-300d-1M.vec\n",
    "accuracy = train_model(naive_bayes.MultinomialNB(), train_seq_x, train_y, valid_seq_x)\n",
    "print (\"NB, WordEmbeddings Vectors: \", accuracy)\n",
    "\n",
    "\n"
   ]
  },
  {
   "cell_type": "code",
   "execution_count": null,
   "metadata": {},
   "outputs": [],
   "source": [
    "# Linear Classifier on Count Vectors\n",
    "accuracy = train_model(linear_model.LogisticRegression(), xtrain_count, train_y, xvalid_count)\n",
    "print (\"LR, Count Vectors: \", accuracy)\n",
    "\n",
    "# Linear Classifier on Word Level TF IDF Vectors\n",
    "accuracy = train_model(linear_model.LogisticRegression(), xtrain_tfidf, train_y, xvalid_tfidf)\n",
    "print (\"LR, WordLevel TF-IDF: \", accuracy)\n",
    "\n",
    "# Linear Classifier on Ngram Level TF IDF Vectors\n",
    "accuracy = train_model(linear_model.LogisticRegression(), xtrain_tfidf_ngram, train_y, xvalid_tfidf_ngram)\n",
    "print (\"LR, N-Gram Vectors: \", accuracy)\n",
    "\n",
    "# Linear Classifier on Character Level TF IDF Vectors\n",
    "accuracy = train_model(linear_model.LogisticRegression(), xtrain_tfidf_ngram_chars, train_y, xvalid_tfidf_ngram_chars)\n",
    "print (\"LR, CharLevel Vectors: \", accuracy)\n",
    "\n",
    "# WordEmbeddings wiki-news-300d-1M.vec\n",
    "accuracy = train_model(linear_model.LogisticRegression(), train_seq_x, train_y, valid_seq_x)\n",
    "print (\"LR, WordEmbeddings Vectors: \", accuracy)\n"
   ]
  },
  {
   "cell_type": "code",
   "execution_count": null,
   "metadata": {},
   "outputs": [],
   "source": [
    "#SVM Linear\n",
    "accuracy = train_model(svm.SVC(), xtrain_count, train_y, xvalid_count)\n",
    "print (\"SVM, Count Vectors: \", accuracy)\n",
    "\n",
    "accuracy = train_model(svm.SVC(), xtrain_tfidf, train_y, xvalid_tfidf)\n",
    "print (\"SVM, WordLevel TF-IDF: \", accuracy)\n",
    "\n",
    "accuracy = train_model(svm.SVC(), xtrain_tfidf_ngram, train_y, xvalid_tfidf_ngram)\n",
    "print (\"SVM, N-Gram Vectors: \", accuracy)\n",
    "\n",
    "accuracy = train_model(svm.SVC(), xtrain_tfidf_ngram_chars, train_y, xvalid_tfidf_ngram_chars)\n",
    "print (\"SVM, CharLevel Vectors: \", accuracy)\n",
    "\n",
    "# WordEmbeddings wiki-news-300d-1M.vec\n",
    "accuracy = train_model(svm.SVC(), train_seq_x, train_y, valid_seq_x)\n",
    "print (\"SVM, WordEmbeddings Vectors: \", accuracy)"
   ]
  },
  {
   "cell_type": "code",
   "execution_count": null,
   "metadata": {},
   "outputs": [],
   "source": [
    "# RF on Count Vectors\n",
    "accuracy = train_model(ensemble.RandomForestClassifier(n_estimators=100), xtrain_count, train_y, xvalid_count)\n",
    "print (\"RF, Count Vectors: \", accuracy)\n",
    "\n",
    "# RF on Word Level TF IDF Vectors\n",
    "accuracy = train_model(ensemble.RandomForestClassifier(n_estimators=100), xtrain_tfidf, train_y, xvalid_tfidf)\n",
    "print (\"RF, WordLevel TF-IDF: \", accuracy)\n",
    "\n",
    "# RF on Word Level TF IDF Vectors - n grams\n",
    "accuracy = train_model(ensemble.RandomForestClassifier(n_estimators=100), xtrain_tfidf_ngram, train_y, xvalid_tfidf_ngram)\n",
    "print (\"RF, WordLevel TF-IDF n gram : \", accuracy)\n",
    "\n",
    "# RF on Character Level TF IDF Vectors - n grams\n",
    "accuracy = train_model(ensemble.RandomForestClassifier(n_estimators=100), xtrain_tfidf_ngram_chars, train_y, xvalid_tfidf_ngram_chars)\n",
    "print (\"RF, CharLevel TF-IDF: \", accuracy)\n",
    "\n",
    "# WordEmbeddings wiki-news-300d-1M.vec\n",
    "accuracy = train_model(ensemble.RandomForestClassifier(n_estimators=100), train_seq_x, train_y, valid_seq_x)\n",
    "print (\"RF, WordEmbeddings Vectors: \", accuracy)"
   ]
  },
  {
   "cell_type": "code",
   "execution_count": null,
   "metadata": {},
   "outputs": [],
   "source": [
    "# Extereme Gradient Boosting on Count Vectors\n",
    "accuracy = train_model(xgboost.XGBClassifier(), xtrain_count.tocsc(), train_y, xvalid_count.tocsc())\n",
    "print (\"Xgb, Count Vectors: \", accuracy)\n",
    "\n",
    "# Extereme Gradient Boosting on Word Level TF IDF Vectors\n",
    "accuracy = train_model(xgboost.XGBClassifier(), xtrain_tfidf.tocsc(), train_y, xvalid_tfidf.tocsc())\n",
    "print (\"Xgb, WordLevel TF-IDF: \", accuracy)\n",
    "\n",
    "# Extereme Gradient Boosting on Word Level TF IDF Vectors n grams\n",
    "accuracy = train_model(xgboost.XGBClassifier(), xtrain_tfidf_ngram.tocsc(), train_y, xvalid_tfidf_ngram.tocsc())\n",
    "print (\"Xgb, WordLevel n grams TF-IDF: \", accuracy)\n",
    "\n",
    "# Extereme Gradient Boosting on Character Level TF IDF Vectors\n",
    "accuracy = train_model(xgboost.XGBClassifier(), xtrain_tfidf_ngram_chars.tocsc(), train_y, xvalid_tfidf_ngram_chars.tocsc())\n",
    "print (\"Xgb, CharLevel Vectors: \", accuracy)\n",
    "\n",
    "# WordEmbeddings wiki-news-300d-1M.vec\n",
    "accuracy = train_model(xgboost.XGBClassifier(), train_seq_x, train_y, valid_seq_x)\n",
    "print (\"Xgb, WordEmbeddings Vectors: \", accuracy)"
   ]
  },
  {
   "cell_type": "code",
   "execution_count": null,
   "metadata": {},
   "outputs": [],
   "source": [
    "# kNN on Count Vectors\n",
    "accuracy = train_model(KNeighborsClassifier(n_neighbors=5), xtrain_count.tocsc(), train_y, xvalid_count.tocsc())\n",
    "print (\"kNN, Count Vectors: \", accuracy)\n",
    "\n",
    "# kNN on Word Level TF IDF Vectors\n",
    "accuracy = train_model(KNeighborsClassifier(n_neighbors=5), xtrain_tfidf.tocsc(), train_y, xvalid_tfidf.tocsc())\n",
    "print (\"kNN, WordLevel TF-IDF: \", accuracy)\n",
    "\n",
    "# kNN on Word Level TF IDF Vectors n grams\n",
    "accuracy = train_model(KNeighborsClassifier(n_neighbors=5), xtrain_tfidf_ngram.tocsc(), train_y, xvalid_tfidf_ngram.tocsc())\n",
    "print (\"kNN, WordLevel n grams TF-IDF: \", accuracy)\n",
    "\n",
    "# kNN on Character Level TF IDF Vectors\n",
    "accuracy = train_model(KNeighborsClassifier(n_neighbors=5), xtrain_tfidf_ngram_chars.tocsc(), train_y, xvalid_tfidf_ngram_chars.tocsc())\n",
    "print (\"kNN, CharLevel Vectors: \", accuracy)\n",
    "\n",
    "# WordEmbeddings wiki-news-300d-1M.vec\n",
    "accuracy = train_model(KNeighborsClassifier(n_neighbors=5), train_seq_x, train_y, valid_seq_x)\n",
    "print (\"kNN, WordEmbeddings Vectors: \", accuracy)\n",
    "\n",
    "\n",
    "#Finding N for Count Vectors\n",
    "#https://www.ritchieng.com/machine-learning-k-nearest-neighbors-knn/\n",
    "# try K=1 through K=25 and record testing accuracy\n",
    "k_range = range(1, 26)\n",
    "# We can create Python dictionary using [] or dict()\n",
    "scores = []\n",
    "# We use a loop through the range 1 to 26\n",
    "# We append the scores in the dictionary\n",
    "for k in k_range:\n",
    "    knn = KNeighborsClassifier(n_neighbors=k)\n",
    "    knn.fit(xtrain_count, train_y)\n",
    "    y_pred = knn.predict(xvalid_count)\n",
    "    scores.append(metrics.accuracy_score(valid_y, y_pred))\n",
    "print(\"Best N, kNN on Count Vectors : \",scores)\n",
    "\n",
    "#Finding N for TF-IDF\n",
    "#https://www.ritchieng.com/machine-learning-k-nearest-neighbors-knn/\n",
    "# try K=1 through K=25 and record testing accuracy\n",
    "k_range = range(1, 26)\n",
    "# We can create Python dictionary using [] or dict()\n",
    "scores = []\n",
    "# We use a loop through the range 1 to 26\n",
    "# We append the scores in the dictionary\n",
    "for k in k_range:\n",
    "    knn = KNeighborsClassifier(n_neighbors=k)\n",
    "    knn.fit(xtrain_tfidf, train_y)\n",
    "    y_pred = knn.predict(xvalid_tfidf)\n",
    "    scores.append(metrics.accuracy_score(valid_y, y_pred))\n",
    "print(\"Best N, kNN on TF-IDF : \",scores)\n",
    "\n",
    "#Finding N for TF-IDF n-grams\n",
    "#https://www.ritchieng.com/machine-learning-k-nearest-neighbors-knn/\n",
    "# try K=1 through K=25 and record testing accuracy\n",
    "k_range = range(1, 26)\n",
    "# We can create Python dictionary using [] or dict()\n",
    "scores = []\n",
    "# We use a loop through the range 1 to 26\n",
    "# We append the scores in the dictionary\n",
    "for k in k_range:\n",
    "    knn = KNeighborsClassifier(n_neighbors=k)\n",
    "    knn.fit(xtrain_tfidf_ngram, train_y)\n",
    "    y_pred = knn.predict(xvalid_tfidf_ngram)\n",
    "    scores.append(metrics.accuracy_score(valid_y, y_pred))\n",
    "print(\"Best N, kNN on TF-IDF n-grams : \",scores)\n",
    "\n",
    "#Finding N for TF-IDF n-grams Char\n",
    "#https://www.ritchieng.com/machine-learning-k-nearest-neighbors-knn/\n",
    "# try K=1 through K=25 and record testing accuracy\n",
    "k_range = range(1, 26)\n",
    "# We can create Python dictionary using [] or dict()\n",
    "scores = []\n",
    "# We use a loop through the range 1 to 26\n",
    "# We append the scores in the dictionary\n",
    "for k in k_range:\n",
    "    knn = KNeighborsClassifier(n_neighbors=k)\n",
    "    knn.fit(xtrain_tfidf_ngram_chars, train_y)\n",
    "    y_pred = knn.predict(xvalid_tfidf_ngram_chars)\n",
    "    scores.append(metrics.accuracy_score(valid_y, y_pred))\n",
    "print(\"Best N, kNN on TF-IDF n-grams Char : \",scores)\n",
    "\n",
    "\n",
    "#Finding N for Word Embeddings\n",
    "#https://www.ritchieng.com/machine-learning-k-nearest-neighbors-knn/\n",
    "# try K=1 through K=25 and record testing accuracy\n",
    "k_range = range(1, 26)\n",
    "# We can create Python dictionary using [] or dict()\n",
    "scores = []\n",
    "# We use a loop through the range 1 to 26\n",
    "# We append the scores in the dictionary\n",
    "for k in k_range:\n",
    "    knn = KNeighborsClassifier(n_neighbors=k)\n",
    "    knn.fit(train_seq_x, train_y)\n",
    "    y_pred = knn.predict(valid_seq_x)\n",
    "    scores.append(metrics.accuracy_score(valid_y, y_pred))\n",
    "print(\"Best N, kNN on Word Embeddings : \",scores)\n",
    "\n"
   ]
  },
  {
   "cell_type": "code",
   "execution_count": null,
   "metadata": {},
   "outputs": [],
   "source": [
    "#Rocchio classification\n",
    "\n",
    "accuracy = train_model(NearestCentroid(), xtrain_count, train_y, xvalid_count)\n",
    "print (\"Rocchio classification, Count Vectors: \", accuracy)\n",
    "\n",
    "accuracy = train_model(NearestCentroid(), xtrain_tfidf, train_y, xvalid_tfidf)\n",
    "print (\"Rocchio classification, WordLevel TF-IDF: \", accuracy)\n",
    "\n",
    "accuracy = train_model(NearestCentroid(), xtrain_tfidf_ngram, train_y, xvalid_tfidf_ngram)\n",
    "print (\"Rocchio classification, N-Gram Vectors: \", accuracy)\n",
    "\n",
    "accuracy = train_model(NearestCentroid(), xtrain_tfidf_ngram_chars, train_y, xvalid_tfidf_ngram_chars)\n",
    "print (\"Rocchio classification, CharLevel Vectors: \", accuracy)\n",
    "\n",
    "# WordEmbeddings wiki-news-300d-1M.vec\n",
    "accuracy = train_model(NearestCentroid(), train_seq_x, train_y, valid_seq_x)\n",
    "print (\"Rocchio classification, WordEmbeddings Vectors: \", accuracy)"
   ]
  },
  {
   "cell_type": "code",
   "execution_count": null,
   "metadata": {},
   "outputs": [],
   "source": [
    "#Gradient Boosting\n",
    "from sklearn.ensemble import GradientBoostingClassifier\n",
    "\n",
    "accuracy = train_model(GradientBoostingClassifier(n_estimators=100), xtrain_count, train_y, xvalid_count)\n",
    "print (\"Gradient Boosting, Count Vectors: \", accuracy)\n",
    "\n",
    "accuracy = train_model(GradientBoostingClassifier(n_estimators=100), xtrain_tfidf, train_y, xvalid_tfidf)\n",
    "print (\"Gradient Boosting, WordLevel TF-IDF: \", accuracy)\n",
    "\n",
    "accuracy = train_model(GradientBoostingClassifier(n_estimators=100), xtrain_tfidf_ngram, train_y, xvalid_tfidf_ngram)\n",
    "print (\"Gradient Boostingn, N-Gram Vectors: \", accuracy)\n",
    "\n",
    "accuracy = train_model(GradientBoostingClassifier(n_estimators=100), xtrain_tfidf_ngram_chars, train_y, xvalid_tfidf_ngram_chars)\n",
    "print (\"Gradient Boosting, CharLevel Vectors: \", accuracy)\n",
    "\n",
    "# WordEmbeddings wiki-news-300d-1M.vec\n",
    "accuracy = train_model(GradientBoostingClassifier(n_estimators=100), train_seq_x, train_y, valid_seq_x)\n",
    "print (\"Gradient Boosting, WordEmbeddings Vectors: \", accuracy)"
   ]
  },
  {
   "cell_type": "code",
   "execution_count": null,
   "metadata": {},
   "outputs": [],
   "source": [
    "##Meta Bagging Estimator with KNeighborsClassifier\n",
    "from sklearn.ensemble import BaggingClassifier\n",
    "from sklearn.neighbors import KNeighborsClassifier\n",
    "\n",
    "accuracy = train_model(BaggingClassifier(KNeighborsClassifier(n_neighbors=4)), xtrain_count, train_y, xvalid_count)\n",
    "print (\"Bagging-K Nearest, Count Vectors: \", accuracy)\n",
    "\n",
    "accuracy = train_model(BaggingClassifier(KNeighborsClassifier(n_neighbors=3)), xtrain_tfidf, train_y, xvalid_tfidf)\n",
    "print (\"Bagging-K Nearest, WordLevel TF-IDF: \", accuracy)\n",
    "\n",
    "accuracy = train_model(BaggingClassifier(KNeighborsClassifier(n_neighbors=16)), xtrain_tfidf_ngram, train_y, xvalid_tfidf_ngram)\n",
    "print (\"Bagging-K Nearest, N-Gram Vectors: \", accuracy)\n",
    "\n",
    "accuracy = train_model(BaggingClassifier(KNeighborsClassifier(n_neighbors=3)), xtrain_tfidf_ngram_chars, train_y, xvalid_tfidf_ngram_chars)\n",
    "print (\"Bagging-K Nearest, CharLevel Vectors: \", accuracy)\n",
    "\n",
    "# WordEmbeddings wiki-news-300d-1M.vec\n",
    "accuracy = train_model(BaggingClassifier(KNeighborsClassifier(n_neighbors=13)), train_seq_x, train_y, valid_seq_x)\n",
    "print (\"Bagging-K Nearest, WordEmbeddings Vectors: \", accuracy)"
   ]
  },
  {
   "cell_type": "code",
   "execution_count": null,
   "metadata": {},
   "outputs": [],
   "source": [
    "#Meta Bagging Decision Trees\n",
    "from sklearn import tree\n",
    "accuracy = train_model(BaggingClassifier(tree.DecisionTreeClassifier()), xtrain_count, train_y, xvalid_count)\n",
    "print (\"Decision Trees, Count Vectors: \", accuracy)\n",
    "\n",
    "accuracy = train_model(BaggingClassifier(tree.DecisionTreeClassifier()), xtrain_tfidf, train_y, xvalid_tfidf)\n",
    "print (\"Decision Trees, WordLevel TF-IDF: \", accuracy)\n",
    "\n",
    "accuracy = train_model(BaggingClassifier(tree.DecisionTreeClassifier()), xtrain_tfidf_ngram, train_y, xvalid_tfidf_ngram)\n",
    "print (\"Decision Trees, N-Gram Vectors: \", accuracy)\n",
    "\n",
    "accuracy = train_model(BaggingClassifier(tree.DecisionTreeClassifier()), xtrain_tfidf_ngram_chars, train_y, xvalid_tfidf_ngram_chars)\n",
    "print (\"Decision Trees, CharLevel Vectors: \", accuracy)\n",
    "\n",
    "# WordEmbeddings wiki-news-300d-1M.vec\n",
    "accuracy = train_model(BaggingClassifier(tree.DecisionTreeClassifier()), train_seq_x, train_y, valid_seq_x)\n",
    "print (\"Decision Trees, WordEmbeddings Vectors: \", accuracy)"
   ]
  },
  {
   "cell_type": "code",
   "execution_count": null,
   "metadata": {},
   "outputs": [],
   "source": [
    "#https://jakevdp.github.io/PythonDataScienceHandbook/05.07-support-vector-machines.html\n",
    "#kernel = linear\n",
    "#kernel='poly', degree=8\n",
    "#kernel = rbf - gives best results\n",
    "#kernel = sigmoid\n",
    "\n",
    "accuracy = train_model(svm.SVC(kernel='rbf'), xtrain_count, train_y, xvalid_count)\n",
    "print (\"Count Vectors: \", accuracy)\n",
    "\n",
    "accuracy = train_model(svm.SVC(kernel='rbf'), xtrain_tfidf, train_y, xvalid_tfidf)\n",
    "print (\"SVM, WordLevel TF-IDF: \", accuracy)\n",
    "\n",
    "accuracy = train_model(svm.SVC(kernel='rbf'), xtrain_tfidf_ngram, train_y, xvalid_tfidf_ngram)\n",
    "print (\"SVM, N-Gram Vectors: \", accuracy)\n",
    "\n",
    "accuracy = train_model(svm.SVC(kernel='rbf'), xtrain_tfidf_ngram_chars, train_y, xvalid_tfidf_ngram_chars)\n",
    "print (\"CharLevel Vectors: \", accuracy)\n",
    "\n",
    "# WordEmbeddings wiki-news-300d-1M.vec\n",
    "accuracy = train_model(svm.SVC(kernel='rbf'), train_seq_x, train_y, valid_seq_x)\n",
    "print (\"SVM, WordEmbeddings Vectors: \", accuracy)"
   ]
  },
  {
   "cell_type": "code",
   "execution_count": null,
   "metadata": {},
   "outputs": [],
   "source": [
    "from sklearn.ensemble import AdaBoostClassifier\n",
    "\n",
    "accuracy = train_model(AdaBoostClassifier(random_state=1), xtrain_count, train_y, xvalid_count)\n",
    "print (\"AdaBoost Classifier, Count Vectors: \", accuracy)\n",
    "\n",
    "accuracy = train_model(AdaBoostClassifier(random_state=1), xtrain_tfidf, train_y, xvalid_tfidf)\n",
    "print (\"AdaBoost Classifier , WordLevel TF-IDF: \", accuracy)\n",
    "\n",
    "accuracy = train_model(AdaBoostClassifier(random_state=1), xtrain_tfidf_ngram, train_y, xvalid_tfidf_ngram)\n",
    "print (\"AdaBoost Classifier , N-Gram Vectors: \", accuracy)\n",
    "\n",
    "accuracy = train_model(AdaBoostClassifier(random_state=1), xtrain_tfidf_ngram_chars, train_y, xvalid_tfidf_ngram_chars)\n",
    "print (\"AdaBoost Classifier , CharLevel Vectors: \", accuracy)\n",
    "\n",
    "# WordEmbeddings wiki-news-300d-1M.vec\n",
    "accuracy = train_model(AdaBoostClassifier(random_state=1), train_seq_x, train_y, valid_seq_x)\n",
    "print (\"AdaBoost Classifier, WordEmbeddings Vectors: \", accuracy)"
   ]
  },
  {
   "cell_type": "code",
   "execution_count": null,
   "metadata": {},
   "outputs": [],
   "source": [
    "#Meta Bagging Estimator with Decision Trees\n",
    "from sklearn.ensemble import BaggingClassifier\n",
    "from sklearn import tree\n",
    "\n",
    "accuracy = train_model(BaggingClassifier(tree.DecisionTreeClassifier(random_state=1)), xtrain_count, train_y, xvalid_count)\n",
    "print (\"Meta Bagging Estimator with Decision Trees, Count Vectors: \", accuracy)\n",
    "\n",
    "accuracy = train_model(BaggingClassifier(tree.DecisionTreeClassifier(random_state=1)), xtrain_tfidf, train_y, xvalid_tfidf)\n",
    "print (\"Meta Bagging Estimator with Decision Trees, WordLevel TF-IDF: \", accuracy)\n",
    "\n",
    "accuracy = train_model(BaggingClassifier(tree.DecisionTreeClassifier(random_state=1)), xtrain_tfidf_ngram, train_y, xvalid_tfidf_ngram)\n",
    "print (\"Meta Bagging Estimator with Decision Trees, N-Gram Vectors: \", accuracy)\n",
    "\n",
    "accuracy = train_model(BaggingClassifier(tree.DecisionTreeClassifier(random_state=1)), xtrain_tfidf_ngram_chars, train_y, xvalid_tfidf_ngram_chars)\n",
    "print (\"Meta Bagging Estimator with Decision Trees, CharLevel Vectors: \", accuracy)\n",
    "\n",
    "# WordEmbeddings wiki-news-300d-1M.vec\n",
    "accuracy = train_model(BaggingClassifier(tree.DecisionTreeClassifier(random_state=1)), train_seq_x, train_y, valid_seq_x)\n",
    "print (\"Meta Bagging Estimator with Decision Trees, WordEmbeddings Vectors: \", accuracy)"
   ]
  },
  {
   "cell_type": "markdown",
   "metadata": {},
   "source": [
    "### Code to run all algorithms"
   ]
  },
  {
   "cell_type": "code",
   "execution_count": null,
   "metadata": {},
   "outputs": [],
   "source": [
    "from sklearn.neighbors.nearest_centroid import NearestCentroid\n",
    "from sklearn.neighbors import KNeighborsClassifier\n",
    "from sklearn import model_selection, preprocessing, linear_model, naive_bayes, metrics, svm\n",
    "from sklearn import decomposition, ensemble\n",
    "from keras import layers, models, optimizers\n",
    "from sklearn.ensemble import GradientBoostingClassifier\n",
    "from sklearn.ensemble import BaggingClassifier\n",
    "from sklearn.neighbors import KNeighborsClassifier \n",
    "from sklearn import tree\n",
    "from sklearn.ensemble import AdaBoostClassifier\n",
    "import numpy as np\n",
    "import pandas as pd\n",
    "import seaborn as sns; sns.set(style=\"ticks\", color_codes=True)\n",
    "import warnings; warnings.filterwarnings('ignore')\n",
    "import matplotlib.pyplot as plt\n",
    "import time"
   ]
  },
  {
   "cell_type": "code",
   "execution_count": null,
   "metadata": {},
   "outputs": [],
   "source": [
    "### CONFIGURING THE MODELS TO TRAIN ###\n",
    "\n",
    "dict_classifiers = {\n",
    "    \"Logistic Regression\": linear_model.LogisticRegression(),\n",
    "    \"Nearest Neighbors\": KNeighborsClassifier(n_neighbors=5),\n",
    "    \"Decision Tree\": tree.DecisionTreeClassifier(),\n",
    "    \"Random Forest\": ensemble.RandomForestClassifier(max_depth=8,n_estimators=100),    \n",
    "    #\"Naive Bayes\": GaussianNB(),\n",
    "    \"Support Vector  - Linear\": svm.SVC(),\n",
    "    \"Naive Bayes Mutinomial\": naive_bayes.MultinomialNB(),\n",
    "    \"Extreme Gradient Boosting\": xgboost.XGBClassifier(),\n",
    "    \"Rocchio classification\": NearestCentroid(),\n",
    "    \"Gradient Boosting\": GradientBoostingClassifier(n_estimators=100),\n",
    "    \"Meta Bagging Estimator with KNeighborsClassifier\": BaggingClassifier(KNeighborsClassifier(n_neighbors=5)),\n",
    "    \"Meta Bagging Estimator with Decision Trees\": BaggingClassifier(tree.DecisionTreeClassifier(random_state=1)),\n",
    "    \"SVM - rbf\": svm.SVC(kernel='rbf'),\n",
    "    \"Ada boosting\": AdaBoostClassifier(random_state=1)\n",
    "    }"
   ]
  },
  {
   "cell_type": "code",
   "execution_count": null,
   "metadata": {},
   "outputs": [],
   "source": [
    "###### ACTUAL MODEL TRAINING LOGIC ########\n",
    "\n",
    "def bulk_train(X_train, Y_train, X_test, Y_test, no_classifiers = 13, verbose = True):\n",
    "    model_list_pickle = {}\n",
    "    \n",
    "    for classifier_name, classifier in list(dict_classifiers.items())[:no_classifiers]:\n",
    "        start_time = time.clock()\n",
    "        if verbose:\n",
    "            print(\"Training {c} - Start \".format(c=classifier_name))       \n",
    "        classifier.fit(X_train, np.ravel(Y_train,order='C'))\n",
    "        end_time = time.clock()        \n",
    "        total_time_to_train = end_time - start_time\n",
    "        train_score = classifier.score(X_train, Y_train)\n",
    "        test_score = classifier.score(X_test, Y_test)\n",
    "        if verbose:\n",
    "            print(train_score, test_score)\n",
    "        \n",
    "        ############# Also GOING TO CROSS VALIDATE ##############\n",
    "        from sklearn.model_selection import cross_val_score\n",
    "        accuracies_cv= cross_val_score(estimator = classifier, X = X_train, y = Y_train, cv = 10)\n",
    "        accuracies_cv_mean=accuracies_cv.mean()*100\n",
    "        print(\"%s : Mean Accuracy from CV is %s %%\"%(classifier_name,accuracies_cv_mean))\n",
    "        accuracies_cv_std=accuracies_cv.std()*100\n",
    "        print(\"%s : Standard Deviation from CV %s %%\"%(classifier_name,accuracies_cv_std))\n",
    "        ################# END OF CROSS VALIDATE #################\n",
    "        \n",
    "        model_list_pickle[classifier_name] = {'model': classifier, \n",
    "                                              'train_score': train_score, \n",
    "                                              'test_score': test_score, \n",
    "                                              'train_time': total_time_to_train,\n",
    "                                              'crossval_avg_accuracy': accuracies_cv_mean,\n",
    "                                              'crossval_std': accuracies_cv_std\n",
    "                                             }\n",
    "        \n",
    "        if verbose:\n",
    "            print(\"trained {c} in {f:.2f} s\".format(c=classifier_name, f=total_time_to_train))\n",
    "            \n",
    "    return model_list_pickle"
   ]
  },
  {
   "cell_type": "code",
   "execution_count": null,
   "metadata": {},
   "outputs": [],
   "source": [
    "#### FUNCTION TO RECORD MODEL METRICS AS DATAFRAME ###\n",
    "\n",
    "def print_confusion_matrix(model_list, X_test):\n",
    "    cls_key = [key for key in model_list.keys()]\n",
    "    cm_df_values = [[]]\n",
    "    cm_df_cols = ['classifer', 'True_Positive', 'True_Negative', 'False_Postive', 'False_Negative',\n",
    "                  'Train_AccuracyScore','Test_AccuracyScore', 'CrossVal_Accuracy%', 'CrossVal_STD']\n",
    "    for i in range(0, len(cls_key)):\n",
    "        predictions = model_list[cls_key[i]]['model'].predict(X_test)\n",
    "        cm = confusion_matrix(y_test, predictions)\n",
    "        cr = classification_report(y_test, predictions)\n",
    "        print(\"\\n###### Confusion Matrix Summary for [%s] ######\\n\"%(cls_key[i]))\n",
    "        print(cm)\n",
    "        print(\"\\n###### Classification Report for [%s] ######\\n\"%(cls_key[i]))\n",
    "        print(cr)\n",
    "        if (i == 0) :\n",
    "            cm_df_values = [[cls_key[i], cm[1,1], cm[0,0], cm[0,1], cm[1,0],\n",
    "                            model_list[cls_key[i]]['train_score'], model_list[cls_key[i]]['test_score'],\n",
    "                            model_list[cls_key[i]]['crossval_avg_accuracy'], model_list[cls_key[i]]['crossval_std']]]\n",
    "        else :            \n",
    "            cm_df_values = cm_df_values + [[cls_key[i], cm[1,1], cm[0,0], cm[0,1], cm[1,0],\n",
    "                                           model_list[cls_key[i]]['train_score'], model_list[cls_key[i]]['test_score'],\n",
    "                                           model_list[cls_key[i]]['crossval_avg_accuracy'], model_list[cls_key[i]]['crossval_std']]]\n",
    "       \n",
    "    cm_df = pd.DataFrame(data=cm_df_values, columns=cm_df_cols)\n",
    "    print(\"\\n###### Exiting Confusion Matrix Summary ######\\n\")\n",
    "    return cm_df\n",
    "\n",
    "#TN (0,0), FP (0,1), FN (1,0), TP (1,1)"
   ]
  },
  {
   "cell_type": "code",
   "execution_count": null,
   "metadata": {},
   "outputs": [],
   "source": [
    "### METHOD TO SUMMARIZE THE MODEL TRAINING i.e. just to PRINT THE OUTCOME ###\n",
    "\n",
    "def log_train_summary(model_list, sort_by='test_score'):\n",
    "    cls_key = [key for key in model_list.keys()]\n",
    "    test_local = [model_list[key]['test_score'] for key in cls_key]\n",
    "    training_local = [model_list[key]['train_score'] for key in cls_key]\n",
    "    training_time_local = [model_list[key]['train_time'] for key in cls_key]\n",
    "    \n",
    "    df_ = pd.DataFrame(data=np.zeros(shape=(len(cls_key),4)), columns = ['classifier', 'train_score', 'test_score', 'train_time'])\n",
    "    for i in range(0,len(cls_key)):\n",
    "        df_.loc[i, 'classifier'] = cls_key[i]\n",
    "        df_.loc[i, 'train_score'] = training_local[i]\n",
    "        df_.loc[i, 'test_score'] = test_local[i]\n",
    "        df_.loc[i, 'train_time'] = training_time_local[i]\n",
    "    \n",
    "    #overriding the sort clause passed in function to get list of sort criteria for now\n",
    "    print(df_.sort_values(by=['test_score','train_score'], ascending=False))"
   ]
  },
  {
   "cell_type": "code",
   "execution_count": null,
   "metadata": {},
   "outputs": [],
   "source": [
    "from sklearn.metrics import f1_score, roc_auc_score, roc_curve\n",
    "def generate_auc_roc_curve(clf, X_test):\n",
    "    y_pred_proba = clf.predict_proba(X_test)[:, 1]\n",
    "    fpr, tpr, thresholds = roc_curve(y_test,  y_pred_proba)\n",
    "    auc = roc_auc_score(y_test, y_pred_proba)\n",
    "    plt.plot(fpr,tpr,label=\"AUC ROC Curve with Area Under the curve =\"+str(auc))\n",
    "    plt.legend(loc=4)\n",
    "    plt.show()\n",
    "    pass"
   ]
  },
  {
   "cell_type": "markdown",
   "metadata": {},
   "source": [
    "### Voting Classifier tfidf_vect_ngram_chars"
   ]
  },
  {
   "cell_type": "code",
   "execution_count": null,
   "metadata": {},
   "outputs": [],
   "source": [
    "#https://www.kaggle.com/den3b81/better-predictions-stacking-with-votingclassifier\n",
    "import numpy as np\n",
    "import pandas as pd\n",
    "\n",
    "from sklearn.model_selection import train_test_split\n",
    "from sklearn.metrics import log_loss\n",
    "\n",
    "from sklearn.ensemble import RandomForestClassifier, GradientBoostingClassifier, VotingClassifier \n",
    "from xgboost import XGBClassifier"
   ]
  },
  {
   "cell_type": "code",
   "execution_count": null,
   "metadata": {},
   "outputs": [],
   "source": [
    "#X_train, X_val, y_train, y_val = train_test_split(X, y, test_size=0.33, random_state = 54321)"
   ]
  },
  {
   "cell_type": "code",
   "execution_count": null,
   "metadata": {},
   "outputs": [],
   "source": [
    "# random state for reproducing same results\n",
    "random_state = 54321\n",
    "X_train, X_val, y_train, y_val = model_selection.train_test_split(trainDF['text'], trainDF['label'],test_size = 0.20)\n",
    "#Do not split, use earlier created datasets"
   ]
  },
  {
   "cell_type": "code",
   "execution_count": null,
   "metadata": {},
   "outputs": [],
   "source": [
    "#Soft Voting\n",
    "# label encode the target variable \n",
    "encoder = preprocessing.LabelEncoder()\n",
    "y_train = encoder.fit_transform(y_train)\n",
    "y_val = encoder.fit_transform(y_val)"
   ]
  },
  {
   "cell_type": "code",
   "execution_count": null,
   "metadata": {},
   "outputs": [],
   "source": [
    "# characters level tf-idf\n",
    "tfidf_vect_ngram_chars = TfidfVectorizer(analyzer='char', token_pattern=r'\\w{1,}', ngram_range=(2,3), max_features=5000)\n",
    "tfidf_vect_ngram_chars.fit(trainDF['text'])\n",
    "X_train =  tfidf_vect_ngram_chars.transform(X_train) \n",
    "X_val =  tfidf_vect_ngram_chars.transform(X_val)"
   ]
  },
  {
   "cell_type": "code",
   "execution_count": null,
   "metadata": {},
   "outputs": [],
   "source": [
    "#we will combine the predictions of 4 different classifiers, trained with basic parametrization. Tuning the parameters is beyond the scope of this notebook.\n",
    "#The classifiers are: 1) RandomForestClassifier with \"entropy\" criterion 2) RandomForestClassifier with \"gini\" criterion 3) Sklearn GradientBoostingClassifier 4) XGBoost classifier\n",
    "\n",
    "rf1 = BaggingClassifier(tree.DecisionTreeClassifier())\n",
    "#rf1 = RandomForestClassifier(n_estimators=1000, criterion='entropy',  n_jobs = -1,  random_state=random_state)\n",
    "rf1.fit(X_train, y_train)\n",
    "y_val_pred = rf1.predict_proba(X_val)\n",
    "log_loss(y_val, y_val_pred)"
   ]
  },
  {
   "cell_type": "code",
   "execution_count": null,
   "metadata": {},
   "outputs": [],
   "source": [
    "rf2= RandomForestClassifier(n_estimators=1000, criterion='gini',  n_jobs = -1, random_state=random_state)\n",
    "rf2.fit(X_train, y_train)\n",
    "y_val_pred = rf2.predict_proba(X_val)\n",
    "log_loss(y_val, y_val_pred)"
   ]
  },
  {
   "cell_type": "code",
   "execution_count": null,
   "metadata": {},
   "outputs": [],
   "source": [
    "#gbc = GradientBoostingClassifier(random_state=random_state,n_estimators=1000)\n",
    "gbc = GradientBoostingClassifier(n_estimators=1000)\n",
    "gbc.fit(X_train, y_train)\n",
    "y_val_pred = gbc.predict_proba(X_val)\n",
    "log_loss(y_val, y_val_pred)"
   ]
  },
  {
   "cell_type": "code",
   "execution_count": null,
   "metadata": {},
   "outputs": [],
   "source": [
    "xgb = XGBClassifier(seed=random_state,n_estimators=1000)\n",
    "xgb.fit(X_train, y_train)\n",
    "y_val_pred = xgb.predict_proba(X_val)\n",
    "log_loss(y_val, y_val_pred)"
   ]
  },
  {
   "cell_type": "code",
   "execution_count": null,
   "metadata": {},
   "outputs": [],
   "source": [
    "eclf = VotingClassifier(estimators=[\n",
    "    ('rf1', rf1), ('rf2', rf2), ('gbc', gbc), ('xgb',xgb)], voting='soft')\n",
    "eclf.fit(X_train, y_train)\n",
    "y_val_pred = eclf.predict_proba(X_val)\n",
    "log_loss(y_val, y_val_pred)"
   ]
  },
  {
   "cell_type": "code",
   "execution_count": null,
   "metadata": {},
   "outputs": [],
   "source": [
    "eclf = VotingClassifier(estimators=[\n",
    "    ('rf1', rf1), ('rf2', rf2), ('gbc', gbc), ('xgb',xgb)], voting='soft', weights = [1,1,3,1])\n",
    "eclf.fit(X_train, y_train)\n",
    "y_val_pred = eclf.predict_proba(X_val)\n",
    "log_loss(y_val, y_val_pred)"
   ]
  },
  {
   "cell_type": "code",
   "execution_count": null,
   "metadata": {},
   "outputs": [],
   "source": [
    "#https://stats.stackexchange.com/questions/349540/hard-voting-soft-voting-in-ensemble-based-methods\n",
    "#http://rasbt.github.io/mlxtend/user_guide/classifier/EnsembleVoteClassifier/"
   ]
  },
  {
   "cell_type": "markdown",
   "metadata": {},
   "source": [
    "### Training with different Models"
   ]
  },
  {
   "cell_type": "code",
   "execution_count": null,
   "metadata": {},
   "outputs": [],
   "source": [
    "### Training with Different Models - Logistics Regression, KNN, NB, SVM, Random Forest and Decision Tree\n",
    "#Dont run, generating errors\n",
    "models_list = bulk_train(xtrain_count, train_y, xvalid_count, valid_y, no_classifiers = 13, verbose=False)\n",
    "print(\"\\n\")\n",
    "print(\"############ CONSOLIDATED MODEL TRAINING SUMMARY - Count Vectors ############\")\n",
    "print(\"############### ######################## ###################\")\n",
    "log_train_summary(models_list)\n",
    "print(\"############### ######################## ###################\")"
   ]
  },
  {
   "cell_type": "markdown",
   "metadata": {},
   "source": [
    "### End of Code 1\n"
   ]
  }
 ],
 "metadata": {
  "kernelspec": {
   "display_name": "Python 3",
   "language": "python",
   "name": "python3"
  },
  "language_info": {
   "codemirror_mode": {
    "name": "ipython",
    "version": 3
   },
   "file_extension": ".py",
   "mimetype": "text/x-python",
   "name": "python",
   "nbconvert_exporter": "python",
   "pygments_lexer": "ipython3",
   "version": "3.7.3"
  }
 },
 "nbformat": 4,
 "nbformat_minor": 2
}
